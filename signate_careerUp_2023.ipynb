{
 "cells": [
  {
   "cell_type": "code",
   "execution_count": 3,
   "metadata": {
    "id": "QxoZiymIi07C",
    "tags": []
   },
   "outputs": [],
   "source": [
    "import numpy as np\n",
    "import pandas as pd\n",
    "from sklearn.preprocessing import LabelEncoder\n",
    "import geopy\n",
    "from geopy.geocoders import Nominatim"
   ]
  },
  {
   "cell_type": "code",
   "execution_count": 4,
   "metadata": {
    "tags": []
   },
   "outputs": [
    {
     "name": "stderr",
     "output_type": "stream",
     "text": [
      "2023-08-09 20:39:58.228582: I tensorflow/core/platform/cpu_feature_guard.cc:193] This TensorFlow binary is optimized with oneAPI Deep Neural Network Library (oneDNN) to use the following CPU instructions in performance-critical operations:  SSE4.1 SSE4.2 AVX AVX2 AVX512F FMA\n",
      "To enable them in other operations, rebuild TensorFlow with the appropriate compiler flags.\n"
     ]
    }
   ],
   "source": [
    "from keras.models import Sequential\n",
    "from keras.layers import Embedding, Flatten, Dense\n",
    "from keras.preprocessing.text import Tokenizer\n",
    "from keras.utils import pad_sequences"
   ]
  },
  {
   "cell_type": "code",
   "execution_count": 5,
   "metadata": {
    "id": "HStvzpXnoGkO",
    "tags": []
   },
   "outputs": [],
   "source": [
    "train = pd.read_csv('data/train.csv')\n",
    "test = pd.read_csv('data/test.csv')\n",
    "sample = pd.read_csv('data/submit_sample.csv')"
   ]
  },
  {
   "cell_type": "code",
   "execution_count": 4,
   "metadata": {
    "colab": {
     "base_uri": "https://localhost:8080/",
     "height": 357
    },
    "id": "TApOE9iwoXFd",
    "outputId": "661f8c75-5993-441b-977d-8ec01699b76f",
    "tags": []
   },
   "outputs": [
    {
     "data": {
      "text/html": [
       "<div>\n",
       "<style scoped>\n",
       "    .dataframe tbody tr th:only-of-type {\n",
       "        vertical-align: middle;\n",
       "    }\n",
       "\n",
       "    .dataframe tbody tr th {\n",
       "        vertical-align: top;\n",
       "    }\n",
       "\n",
       "    .dataframe thead th {\n",
       "        text-align: right;\n",
       "    }\n",
       "</style>\n",
       "<table border=\"1\" class=\"dataframe\">\n",
       "  <thead>\n",
       "    <tr style=\"text-align: right;\">\n",
       "      <th></th>\n",
       "      <th>id</th>\n",
       "      <th>region</th>\n",
       "      <th>year</th>\n",
       "      <th>manufacturer</th>\n",
       "      <th>condition</th>\n",
       "      <th>cylinders</th>\n",
       "      <th>fuel</th>\n",
       "      <th>odometer</th>\n",
       "      <th>title_status</th>\n",
       "      <th>transmission</th>\n",
       "      <th>drive</th>\n",
       "      <th>size</th>\n",
       "      <th>type</th>\n",
       "      <th>paint_color</th>\n",
       "      <th>state</th>\n",
       "      <th>price</th>\n",
       "    </tr>\n",
       "  </thead>\n",
       "  <tbody>\n",
       "    <tr>\n",
       "      <th>0</th>\n",
       "      <td>0</td>\n",
       "      <td>nashville</td>\n",
       "      <td>1949</td>\n",
       "      <td>bmw</td>\n",
       "      <td>excellent</td>\n",
       "      <td>6 cylinders</td>\n",
       "      <td>gas</td>\n",
       "      <td>115148</td>\n",
       "      <td>clean</td>\n",
       "      <td>manual</td>\n",
       "      <td>rwd</td>\n",
       "      <td>mid-size</td>\n",
       "      <td>convertible</td>\n",
       "      <td>orange</td>\n",
       "      <td>NaN</td>\n",
       "      <td>27587</td>\n",
       "    </tr>\n",
       "    <tr>\n",
       "      <th>1</th>\n",
       "      <td>1</td>\n",
       "      <td>state college</td>\n",
       "      <td>2013</td>\n",
       "      <td>toyota</td>\n",
       "      <td>fair</td>\n",
       "      <td>8 cylinders</td>\n",
       "      <td>gas</td>\n",
       "      <td>172038</td>\n",
       "      <td>clean</td>\n",
       "      <td>automatic</td>\n",
       "      <td>rwd</td>\n",
       "      <td>full-size</td>\n",
       "      <td>sedan</td>\n",
       "      <td>silver</td>\n",
       "      <td>pa</td>\n",
       "      <td>4724</td>\n",
       "    </tr>\n",
       "    <tr>\n",
       "      <th>2</th>\n",
       "      <td>2</td>\n",
       "      <td>wichita</td>\n",
       "      <td>1998</td>\n",
       "      <td>ford</td>\n",
       "      <td>good</td>\n",
       "      <td>6 cylinders</td>\n",
       "      <td>gas</td>\n",
       "      <td>152492</td>\n",
       "      <td>clean</td>\n",
       "      <td>automatic</td>\n",
       "      <td>fwd</td>\n",
       "      <td>full-size</td>\n",
       "      <td>SUV</td>\n",
       "      <td>silver</td>\n",
       "      <td>ks</td>\n",
       "      <td>10931</td>\n",
       "    </tr>\n",
       "    <tr>\n",
       "      <th>3</th>\n",
       "      <td>3</td>\n",
       "      <td>albany</td>\n",
       "      <td>2014</td>\n",
       "      <td>ford</td>\n",
       "      <td>excellent</td>\n",
       "      <td>4 cylinders</td>\n",
       "      <td>gas</td>\n",
       "      <td>104118</td>\n",
       "      <td>clean</td>\n",
       "      <td>manual</td>\n",
       "      <td>fwd</td>\n",
       "      <td>mid-size</td>\n",
       "      <td>SUV</td>\n",
       "      <td>blue</td>\n",
       "      <td>ny</td>\n",
       "      <td>16553</td>\n",
       "    </tr>\n",
       "    <tr>\n",
       "      <th>4</th>\n",
       "      <td>4</td>\n",
       "      <td>redding</td>\n",
       "      <td>2005</td>\n",
       "      <td>ford</td>\n",
       "      <td>excellent</td>\n",
       "      <td>6 cylinders</td>\n",
       "      <td>gas</td>\n",
       "      <td>144554</td>\n",
       "      <td>clean</td>\n",
       "      <td>manual</td>\n",
       "      <td>fwd</td>\n",
       "      <td>mid-size</td>\n",
       "      <td>sedan</td>\n",
       "      <td>red</td>\n",
       "      <td>ca</td>\n",
       "      <td>5158</td>\n",
       "    </tr>\n",
       "  </tbody>\n",
       "</table>\n",
       "</div>"
      ],
      "text/plain": [
       "   id         region  year manufacturer  condition    cylinders fuel   \n",
       "0   0      nashville  1949          bmw  excellent  6 cylinders  gas  \\\n",
       "1   1  state college  2013       toyota       fair  8 cylinders  gas   \n",
       "2   2        wichita  1998         ford       good  6 cylinders  gas   \n",
       "3   3         albany  2014         ford  excellent  4 cylinders  gas   \n",
       "4   4        redding  2005         ford  excellent  6 cylinders  gas   \n",
       "\n",
       "   odometer title_status transmission drive       size         type   \n",
       "0    115148        clean       manual   rwd   mid-size  convertible  \\\n",
       "1    172038        clean    automatic   rwd  full-size        sedan   \n",
       "2    152492        clean    automatic   fwd  full-size          SUV   \n",
       "3    104118        clean       manual   fwd   mid-size          SUV   \n",
       "4    144554        clean       manual   fwd   mid-size        sedan   \n",
       "\n",
       "  paint_color state  price  \n",
       "0      orange   NaN  27587  \n",
       "1      silver    pa   4724  \n",
       "2      silver    ks  10931  \n",
       "3        blue    ny  16553  \n",
       "4         red    ca   5158  "
      ]
     },
     "execution_count": 4,
     "metadata": {},
     "output_type": "execute_result"
    }
   ],
   "source": [
    "train.head()"
   ]
  },
  {
   "cell_type": "code",
   "execution_count": 5,
   "metadata": {
    "colab": {
     "base_uri": "https://localhost:8080/",
     "height": 357
    },
    "id": "SxrusI-doZZK",
    "outputId": "08fcc9eb-54fe-4a62-8b4b-310f8369d876",
    "tags": []
   },
   "outputs": [
    {
     "data": {
      "text/html": [
       "<div>\n",
       "<style scoped>\n",
       "    .dataframe tbody tr th:only-of-type {\n",
       "        vertical-align: middle;\n",
       "    }\n",
       "\n",
       "    .dataframe tbody tr th {\n",
       "        vertical-align: top;\n",
       "    }\n",
       "\n",
       "    .dataframe thead th {\n",
       "        text-align: right;\n",
       "    }\n",
       "</style>\n",
       "<table border=\"1\" class=\"dataframe\">\n",
       "  <thead>\n",
       "    <tr style=\"text-align: right;\">\n",
       "      <th></th>\n",
       "      <th>id</th>\n",
       "      <th>region</th>\n",
       "      <th>year</th>\n",
       "      <th>manufacturer</th>\n",
       "      <th>condition</th>\n",
       "      <th>cylinders</th>\n",
       "      <th>fuel</th>\n",
       "      <th>odometer</th>\n",
       "      <th>title_status</th>\n",
       "      <th>transmission</th>\n",
       "      <th>drive</th>\n",
       "      <th>size</th>\n",
       "      <th>type</th>\n",
       "      <th>paint_color</th>\n",
       "      <th>state</th>\n",
       "    </tr>\n",
       "  </thead>\n",
       "  <tbody>\n",
       "    <tr>\n",
       "      <th>0</th>\n",
       "      <td>27532</td>\n",
       "      <td>western slope</td>\n",
       "      <td>2015</td>\n",
       "      <td>chevrolet</td>\n",
       "      <td>excellent</td>\n",
       "      <td>4 cylinders</td>\n",
       "      <td>gas</td>\n",
       "      <td>92553</td>\n",
       "      <td>clean</td>\n",
       "      <td>automatic</td>\n",
       "      <td>fwd</td>\n",
       "      <td>full-size</td>\n",
       "      <td>SUV</td>\n",
       "      <td>red</td>\n",
       "      <td>NaN</td>\n",
       "    </tr>\n",
       "    <tr>\n",
       "      <th>1</th>\n",
       "      <td>27533</td>\n",
       "      <td>roseburg</td>\n",
       "      <td>2013</td>\n",
       "      <td>nissan</td>\n",
       "      <td>like new</td>\n",
       "      <td>4 cylinders</td>\n",
       "      <td>gas</td>\n",
       "      <td>134385</td>\n",
       "      <td>salvage</td>\n",
       "      <td>automatic</td>\n",
       "      <td>fwd</td>\n",
       "      <td>mid-size</td>\n",
       "      <td>sedan</td>\n",
       "      <td>black</td>\n",
       "      <td>or</td>\n",
       "    </tr>\n",
       "    <tr>\n",
       "      <th>2</th>\n",
       "      <td>27534</td>\n",
       "      <td>akron / canton</td>\n",
       "      <td>2011</td>\n",
       "      <td>volkswagen</td>\n",
       "      <td>good</td>\n",
       "      <td>4 cylinders</td>\n",
       "      <td>gas</td>\n",
       "      <td>102489</td>\n",
       "      <td>clean</td>\n",
       "      <td>automatic</td>\n",
       "      <td>fwd</td>\n",
       "      <td>full-size</td>\n",
       "      <td>sedan</td>\n",
       "      <td>black</td>\n",
       "      <td>oh</td>\n",
       "    </tr>\n",
       "    <tr>\n",
       "      <th>3</th>\n",
       "      <td>27535</td>\n",
       "      <td>denver</td>\n",
       "      <td>2016</td>\n",
       "      <td>jeep</td>\n",
       "      <td>excellent</td>\n",
       "      <td>6 cylinders</td>\n",
       "      <td>diesel</td>\n",
       "      <td>64310</td>\n",
       "      <td>clean</td>\n",
       "      <td>automatic</td>\n",
       "      <td>4wd</td>\n",
       "      <td>mid-size</td>\n",
       "      <td>SUV</td>\n",
       "      <td>red</td>\n",
       "      <td>co</td>\n",
       "    </tr>\n",
       "    <tr>\n",
       "      <th>4</th>\n",
       "      <td>27536</td>\n",
       "      <td>hickory / lenoir</td>\n",
       "      <td>1999</td>\n",
       "      <td>honda</td>\n",
       "      <td>excellent</td>\n",
       "      <td>8 cylinders</td>\n",
       "      <td>gas</td>\n",
       "      <td>180839</td>\n",
       "      <td>rebuilt</td>\n",
       "      <td>automatic</td>\n",
       "      <td>4wd</td>\n",
       "      <td>mid-size</td>\n",
       "      <td>SUV</td>\n",
       "      <td>silver</td>\n",
       "      <td>nc</td>\n",
       "    </tr>\n",
       "  </tbody>\n",
       "</table>\n",
       "</div>"
      ],
      "text/plain": [
       "      id            region  year manufacturer  condition    cylinders    fuel   \n",
       "0  27532     western slope  2015    chevrolet  excellent  4 cylinders     gas  \\\n",
       "1  27533          roseburg  2013       nissan   like new  4 cylinders     gas   \n",
       "2  27534    akron / canton  2011   volkswagen       good  4 cylinders     gas   \n",
       "3  27535            denver  2016         jeep  excellent  6 cylinders  diesel   \n",
       "4  27536  hickory / lenoir  1999        honda  excellent  8 cylinders     gas   \n",
       "\n",
       "   odometer title_status transmission drive       size   type paint_color   \n",
       "0     92553        clean    automatic   fwd  full-size    SUV         red  \\\n",
       "1    134385      salvage    automatic   fwd   mid-size  sedan       black   \n",
       "2    102489        clean    automatic   fwd  full-size  sedan       black   \n",
       "3     64310        clean    automatic   4wd   mid-size    SUV         red   \n",
       "4    180839      rebuilt    automatic   4wd   mid-size    SUV      silver   \n",
       "\n",
       "  state  \n",
       "0   NaN  \n",
       "1    or  \n",
       "2    oh  \n",
       "3    co  \n",
       "4    nc  "
      ]
     },
     "execution_count": 5,
     "metadata": {},
     "output_type": "execute_result"
    }
   ],
   "source": [
    "test.head()"
   ]
  },
  {
   "cell_type": "code",
   "execution_count": 6,
   "metadata": {
    "colab": {
     "base_uri": "https://localhost:8080/"
    },
    "id": "aiHzkWJopz1Z",
    "outputId": "7568523e-cf52-4c14-b8cc-0df12dcc7c93",
    "tags": []
   },
   "outputs": [
    {
     "name": "stdout",
     "output_type": "stream",
     "text": [
      "(27532, 16)\n",
      "(27537, 15)\n"
     ]
    }
   ],
   "source": [
    "print(train.shape)\n",
    "print(test.shape)"
   ]
  },
  {
   "cell_type": "code",
   "execution_count": null,
   "metadata": {
    "id": "pAVE3-RC72GC"
   },
   "outputs": [],
   "source": [
    "# Create a geolocator object\n",
    "headers = 'Mozilla/5.0 (X11; Linux x86_64) AppleWebKit/537.36 (KHTML, like Gecko) Chrome/111.0.0.0 Safari/537.36'\n",
    "geolocator = Nominatim(user_agent=headers)\n",
    "\n",
    "# Define a function to get latitude and longitude for a given region\n",
    "def get_lat_long(region):\n",
    "    try:\n",
    "        location = geolocator.geocode(region)\n",
    "        if location:\n",
    "            return location.latitude, location.longitude\n",
    "        else:\n",
    "            return None, None\n",
    "    except:\n",
    "        try:\n",
    "            location = geolocator.geocode(region)\n",
    "            if location:\n",
    "                return location.latitude, location.longitude\n",
    "            else:\n",
    "                return None, None\n",
    "        except:\n",
    "            return None, None"
   ]
  },
  {
   "cell_type": "code",
   "execution_count": null,
   "metadata": {
    "colab": {
     "base_uri": "https://localhost:8080/"
    },
    "id": "yo5FEV01AaQu",
    "outputId": "894c9fb1-2e56-4a12-c13c-291f178ce9bf"
   },
   "outputs": [
    {
     "name": "stderr",
     "output_type": "stream",
     "text": [
      "WARNING:urllib3.connectionpool:Retrying (Retry(total=1, connect=None, read=None, redirect=None, status=None)) after connection broken by 'ReadTimeoutError(\"HTTPSConnectionPool(host='nominatim.openstreetmap.org', port=443): Read timed out. (read timeout=1)\")': /search?q=east+oregon&format=json&limit=1\n",
      "WARNING:urllib3.connectionpool:Retrying (Retry(total=0, connect=None, read=None, redirect=None, status=None)) after connection broken by 'ReadTimeoutError(\"HTTPSConnectionPool(host='nominatim.openstreetmap.org', port=443): Read timed out. (read timeout=1)\")': /search?q=east+oregon&format=json&limit=1\n",
      "WARNING:urllib3.connectionpool:Retrying (Retry(total=1, connect=None, read=None, redirect=None, status=None)) after connection broken by 'ReadTimeoutError(\"HTTPSConnectionPool(host='nominatim.openstreetmap.org', port=443): Read timed out. (read timeout=1)\")': /search?q=anchorage+%2F+mat-su&format=json&limit=1\n",
      "WARNING:urllib3.connectionpool:Retrying (Retry(total=1, connect=None, read=None, redirect=None, status=None)) after connection broken by 'ReadTimeoutError(\"HTTPSConnectionPool(host='nominatim.openstreetmap.org', port=443): Read timed out. (read timeout=1)\")': /search?q=north+central+FL&format=json&limit=1\n",
      "WARNING:urllib3.connectionpool:Retrying (Retry(total=0, connect=None, read=None, redirect=None, status=None)) after connection broken by 'ReadTimeoutError(\"HTTPSConnectionPool(host='nominatim.openstreetmap.org', port=443): Read timed out. (read timeout=1)\")': /search?q=north+central+FL&format=json&limit=1\n",
      "WARNING:urllib3.connectionpool:Retrying (Retry(total=1, connect=None, read=None, redirect=None, status=None)) after connection broken by 'ReadTimeoutError(\"HTTPSConnectionPool(host='nominatim.openstreetmap.org', port=443): Read timed out. (read timeout=1)\")': /search?q=eastern+NC&format=json&limit=1\n",
      "WARNING:urllib3.connectionpool:Retrying (Retry(total=0, connect=None, read=None, redirect=None, status=None)) after connection broken by 'ReadTimeoutError(\"HTTPSConnectionPool(host='nominatim.openstreetmap.org', port=443): Read timed out. (read timeout=1)\")': /search?q=eastern+NC&format=json&limit=1\n"
     ]
    }
   ],
   "source": [
    "import time\n",
    "loca = []\n",
    "lat = []\n",
    "lon = []\n",
    "for location in set(train['region']):\n",
    "    latitude, longitude = get_lat_long(location)\n",
    "    loca.append(location)\n",
    "    lat.append(latitude)\n",
    "    lon.append(longitude)\n",
    "    time.sleep(1)"
   ]
  },
  {
   "cell_type": "code",
   "execution_count": 6,
   "metadata": {
    "colab": {
     "base_uri": "https://localhost:8080/",
     "height": 206
    },
    "id": "zPJfRp3-G4qi",
    "outputId": "52ddc7ff-1dae-482f-f831-2c6681f54b12",
    "tags": []
   },
   "outputs": [
    {
     "ename": "NameError",
     "evalue": "name 'loca' is not defined",
     "output_type": "error",
     "traceback": [
      "\u001b[0;31m---------------------------------------------------------------------------\u001b[0m",
      "\u001b[0;31mNameError\u001b[0m                                 Traceback (most recent call last)",
      "Cell \u001b[0;32mIn[6], line 2\u001b[0m\n\u001b[1;32m      1\u001b[0m lat_long_df \u001b[38;5;241m=\u001b[39m pd\u001b[38;5;241m.\u001b[39mDataFrame()\n\u001b[0;32m----> 2\u001b[0m lat_long_df[\u001b[38;5;124m'\u001b[39m\u001b[38;5;124mregion\u001b[39m\u001b[38;5;124m'\u001b[39m] \u001b[38;5;241m=\u001b[39m \u001b[43mloca\u001b[49m\n\u001b[1;32m      3\u001b[0m lat_long_df[\u001b[38;5;124m'\u001b[39m\u001b[38;5;124mlatitude\u001b[39m\u001b[38;5;124m'\u001b[39m] \u001b[38;5;241m=\u001b[39m lat\n\u001b[1;32m      4\u001b[0m lat_long_df[\u001b[38;5;124m'\u001b[39m\u001b[38;5;124mlongitude\u001b[39m\u001b[38;5;124m'\u001b[39m] \u001b[38;5;241m=\u001b[39m lon\n",
      "\u001b[0;31mNameError\u001b[0m: name 'loca' is not defined"
     ]
    }
   ],
   "source": [
    "lat_long_df = pd.DataFrame()\n",
    "lat_long_df['region'] = loca\n",
    "lat_long_df['latitude'] = lat\n",
    "lat_long_df['longitude'] = lon\n",
    "lat_long_df.head()"
   ]
  },
  {
   "cell_type": "code",
   "execution_count": null,
   "metadata": {
    "colab": {
     "base_uri": "https://localhost:8080/"
    },
    "id": "9gbCiFiZLXOV",
    "outputId": "2abffb83-1e0b-41b8-86fa-0c38370ed994"
   },
   "outputs": [
    {
     "data": {
      "text/plain": [
       "region       0\n",
       "latitude     0\n",
       "longitude    0\n",
       "dtype: int64"
      ]
     },
     "execution_count": 175,
     "metadata": {},
     "output_type": "execute_result"
    }
   ],
   "source": [
    "lat_long_df.isnull().sum()"
   ]
  },
  {
   "cell_type": "code",
   "execution_count": null,
   "metadata": {
    "id": "yLrccMSVNruC"
   },
   "outputs": [],
   "source": [
    "lat_long_df.to_csv('lat_long_info.csv', index = False)"
   ]
  },
  {
   "cell_type": "code",
   "execution_count": 7,
   "metadata": {
    "tags": []
   },
   "outputs": [],
   "source": [
    "lat_long_df = pd.read_csv('lat_long_info.csv')"
   ]
  },
  {
   "cell_type": "code",
   "execution_count": 8,
   "metadata": {
    "id": "1gR7q3X9Y5Fd",
    "tags": []
   },
   "outputs": [],
   "source": [
    "train_prep = train.merge(lat_long_df, on = 'region', how = 'left')\n",
    "train_prep = train_prep.drop(['region', 'state'], axis = 1)"
   ]
  },
  {
   "cell_type": "code",
   "execution_count": 9,
   "metadata": {
    "id": "GBuPhBOefMXv",
    "tags": []
   },
   "outputs": [],
   "source": [
    "def preprocess_text(text):\n",
    "    # Full-width ASCII characters mapping\n",
    "    full_width_ascii_mapping = {\n",
    "        '０': '0', '１': '1', '２': '2', '３': '3', '４': '4',\n",
    "        '５': '5', '６': '6', '７': '7', '８': '8', '９': '9',\n",
    "        'Ａ': 'A', 'Ｂ': 'B', 'Ｃ': 'C', 'Ｄ': 'D', 'Ｅ': 'E',\n",
    "        'Ｆ': 'F', 'Ｇ': 'G', 'Ｈ': 'H', 'Ｉ': 'I', 'Ｊ': 'J',\n",
    "        'Ｋ': 'K', 'Ｌ': 'L', 'Ｍ': 'M', 'Ｎ': 'N', 'Ｏ': 'O',\n",
    "        'Ｐ': 'P', 'Ｑ': 'Q', 'Ｒ': 'R', 'Ｓ': 'S', 'Ｔ': 'T',\n",
    "        'Ｕ': 'U', 'Ｖ': 'V', 'Ｗ': 'W', 'Ｘ': 'X', 'Ｙ': 'Y',\n",
    "        'Ｚ': 'Z', 'ａ': 'a', 'ｂ': 'b', 'ｃ': 'c', 'ｄ': 'd',\n",
    "        'ｅ': 'e', 'ｆ': 'f', 'ｇ': 'g', 'ｈ': 'h', 'ｉ': 'i',\n",
    "        'ｊ': 'j', 'ｋ': 'k', 'ｌ': 'l', 'ｍ': 'm', 'ｎ': 'n',\n",
    "        'ｏ': 'o', 'ｐ': 'p', 'ｑ': 'q', 'ｒ': 'r', 'ｓ': 's',\n",
    "        'ｔ': 't', 'ｕ': 'u', 'ｖ': 'v', 'ｗ': 'w', 'ｘ': 'x',\n",
    "        'ｙ': 'y', 'ｚ': 'z', 'ᴄ': 'c', '−': '-', 'ー': '-',\n",
    "        'α': 'a'\n",
    "    }\n",
    "\n",
    "    # Replace full-width ASCII characters with their corresponding ASCII characters\n",
    "    for fw_char, ascii_char in full_width_ascii_mapping.items():\n",
    "        text = text.replace(fw_char, ascii_char)\n",
    "\n",
    "    # Remove other full-width spaces (U+3000) and regular spaces\n",
    "    text = text.replace('\\u3000', '').replace(' ', '').replace('-', '').lower().strip()\n",
    "\n",
    "    return text"
   ]
  },
  {
   "cell_type": "code",
   "execution_count": 10,
   "metadata": {
    "id": "demqISbuZfbb",
    "tags": []
   },
   "outputs": [],
   "source": [
    "train_prep['car_age'] = 2023 - train_prep['year']"
   ]
  },
  {
   "cell_type": "code",
   "execution_count": 11,
   "metadata": {
    "id": "OJu-8NqQcHIr",
    "tags": []
   },
   "outputs": [],
   "source": [
    "train_prep['cylinders'] = train_prep['cylinders'].str.extract(r'(\\d+)').astype(float).fillna(-1)"
   ]
  },
  {
   "cell_type": "code",
   "execution_count": 12,
   "metadata": {
    "id": "I8ttcb7jfRLn",
    "tags": []
   },
   "outputs": [],
   "source": [
    "train_prep['size'] = train_prep['size'].apply(preprocess_text)"
   ]
  },
  {
   "cell_type": "code",
   "execution_count": 13,
   "metadata": {
    "id": "09QmjYlIfxRG",
    "tags": []
   },
   "outputs": [],
   "source": [
    "train_prep['size'] = train_prep['size'].apply(lambda x: 'compact' if x == 'sub-compact' else x)"
   ]
  },
  {
   "cell_type": "code",
   "execution_count": 14,
   "metadata": {
    "id": "BjtmaDHBebf4",
    "tags": []
   },
   "outputs": [],
   "source": [
    "#train_prep['market_segment'] = train_prep['type'] + '_' + train_prep['size']"
   ]
  },
  {
   "cell_type": "code",
   "execution_count": 15,
   "metadata": {
    "id": "uPyep8SvhLNM",
    "tags": []
   },
   "outputs": [],
   "source": [
    "train_prep['automatic_transmission'] = train_prep['transmission'].apply(lambda x: 1 if x.lower() == 'automatic' else 0)\n",
    "train_prep['manual_transmission'] = train_prep['transmission'].apply(lambda x: 1 if x.lower() == 'manual' else 0)"
   ]
  },
  {
   "cell_type": "code",
   "execution_count": 16,
   "metadata": {
    "id": "GWDEte8amR-U",
    "tags": []
   },
   "outputs": [],
   "source": [
    "condition_mapping = {'excellent': 5, 'like new': 4, 'new': 3, 'good':2, 'fair': 1, 'salvage':0}\n",
    "train_prep['condition'] = train_prep['condition'].map(condition_mapping)"
   ]
  },
  {
   "cell_type": "code",
   "execution_count": 17,
   "metadata": {
    "tags": []
   },
   "outputs": [],
   "source": [
    "train_prep['gas_fueled'] = train_prep['fuel'].apply(lambda x: 1 if x == 'gas' else 0)\n",
    "train_prep['diesel_fueled'] = train_prep['fuel'].apply(lambda x: 1 if x == 'diesel' else 0)\n",
    "train_prep['hybrid_fueled'] = train_prep['fuel'].apply(lambda x: 1 if x == 'hybrid' else 0)\n",
    "train_prep['electric_fueled'] = train_prep['fuel'].apply(lambda x: 1 if x == 'electric' else 0)"
   ]
  },
  {
   "cell_type": "code",
   "execution_count": 18,
   "metadata": {
    "tags": []
   },
   "outputs": [],
   "source": [
    "train_prep['front_wheel_drive'] = train_prep['drive'].apply(lambda x: 1 if x == 'fwd' else 0)\n",
    "train_prep['four_wheel_drive'] = train_prep['drive'].apply(lambda x: 1 if x == '4wd' else 0)"
   ]
  },
  {
   "cell_type": "code",
   "execution_count": 11,
   "metadata": {
    "tags": []
   },
   "outputs": [],
   "source": [
    "def generate_embeddings(df, cat_col, name):\n",
    "    df[cat_col].fillna('other', inplace=True)\n",
    "    tokenizer = Tokenizer()\n",
    "    tokenizer.fit_on_texts(df[cat_col])\n",
    "    sequences = tokenizer.texts_to_sequences(df[cat_col])\n",
    "\n",
    "    max_sequence_length = max(len(seq) for seq in sequences)\n",
    "    padded_sequences = pad_sequences(sequences, maxlen=max_sequence_length)\n",
    "    \n",
    "    vocab_size = len(tokenizer.word_index) + 1\n",
    "    \n",
    "    num_cat = df[cat_col].nunique()\n",
    "    embedding_size = min(50, int((num_cat+1)/ 2))\n",
    "    \n",
    "    model = Sequential()\n",
    "    model.add(Embedding(input_dim = vocab_size, output_dim = embedding_size, input_length = max_sequence_length, name=\"embedding\"))\n",
    "    model.compile(loss=\"mse\", optimizer=\"adam\", metrics=[\"accuracy\"])\n",
    "    model.fit(x=padded_sequences, y=padded_sequences, epochs=50, batch_size=16, verbose=0)\n",
    "    \n",
    "    embedding_layer = model.layers[0]\n",
    "    learned_embeddings = embedding_layer.get_weights()[0] \n",
    "\n",
    "    new_df = pd.DataFrame()\n",
    "    new_df[cat_col] = df[cat_col]\n",
    "    \n",
    "    embeddings = {}\n",
    "    for word, index in tokenizer.word_index.items():\n",
    "        embeddings[word] = learned_embeddings[index]\n",
    "\n",
    "    embedding_dimensions = learned_embeddings.shape[1]\n",
    "    for i in range(embedding_dimensions):\n",
    "        embedding_column = f'{name}_{i+1}'\n",
    "        new_df[embedding_column] = new_df[cat_col].map(lambda x: embeddings[x][i])\n",
    "    \n",
    "    return new_df.drop(cat_col, axis=1)"
   ]
  },
  {
   "cell_type": "code",
   "execution_count": 20,
   "metadata": {
    "tags": []
   },
   "outputs": [
    {
     "name": "stderr",
     "output_type": "stream",
     "text": [
      "2023-08-09 16:23:29.539105: W tensorflow/compiler/xla/stream_executor/platform/default/dso_loader.cc:64] Could not load dynamic library 'libcuda.so.1'; dlerror: libcuda.so.1: cannot open shared object file: No such file or directory\n",
      "2023-08-09 16:23:29.539152: W tensorflow/compiler/xla/stream_executor/cuda/cuda_driver.cc:265] failed call to cuInit: UNKNOWN ERROR (303)\n",
      "2023-08-09 16:23:29.539186: I tensorflow/compiler/xla/stream_executor/cuda/cuda_diagnostics.cc:156] kernel driver does not appear to be running on this host (default): /proc/driver/nvidia/version does not exist\n",
      "2023-08-09 16:23:29.539397: I tensorflow/core/platform/cpu_feature_guard.cc:193] This TensorFlow binary is optimized with oneAPI Deep Neural Network Library (oneDNN) to use the following CPU instructions in performance-critical operations:  SSE4.1 SSE4.2 AVX AVX2 AVX512F FMA\n",
      "To enable them in other operations, rebuild TensorFlow with the appropriate compiler flags.\n"
     ]
    }
   ],
   "source": [
    "paint_embeddings = generate_embeddings(train_prep, 'paint_color', 'paint_embeddings')"
   ]
  },
  {
   "cell_type": "code",
   "execution_count": 21,
   "metadata": {
    "tags": []
   },
   "outputs": [
    {
     "data": {
      "text/html": [
       "<div>\n",
       "<style scoped>\n",
       "    .dataframe tbody tr th:only-of-type {\n",
       "        vertical-align: middle;\n",
       "    }\n",
       "\n",
       "    .dataframe tbody tr th {\n",
       "        vertical-align: top;\n",
       "    }\n",
       "\n",
       "    .dataframe thead th {\n",
       "        text-align: right;\n",
       "    }\n",
       "</style>\n",
       "<table border=\"1\" class=\"dataframe\">\n",
       "  <thead>\n",
       "    <tr style=\"text-align: right;\">\n",
       "      <th></th>\n",
       "      <th>paint_embeddings_1</th>\n",
       "      <th>paint_embeddings_2</th>\n",
       "      <th>paint_embeddings_3</th>\n",
       "      <th>paint_embeddings_4</th>\n",
       "      <th>paint_embeddings_5</th>\n",
       "      <th>paint_embeddings_6</th>\n",
       "    </tr>\n",
       "  </thead>\n",
       "  <tbody>\n",
       "    <tr>\n",
       "      <th>0</th>\n",
       "      <td>3.332631</td>\n",
       "      <td>3.332631</td>\n",
       "      <td>3.332631</td>\n",
       "      <td>3.332631</td>\n",
       "      <td>3.332631</td>\n",
       "      <td>3.332631</td>\n",
       "    </tr>\n",
       "    <tr>\n",
       "      <th>1</th>\n",
       "      <td>2.854549</td>\n",
       "      <td>2.854549</td>\n",
       "      <td>2.854549</td>\n",
       "      <td>2.854549</td>\n",
       "      <td>2.854549</td>\n",
       "      <td>2.854549</td>\n",
       "    </tr>\n",
       "    <tr>\n",
       "      <th>2</th>\n",
       "      <td>2.854549</td>\n",
       "      <td>2.854549</td>\n",
       "      <td>2.854549</td>\n",
       "      <td>2.854549</td>\n",
       "      <td>2.854549</td>\n",
       "      <td>2.854549</td>\n",
       "    </tr>\n",
       "    <tr>\n",
       "      <th>3</th>\n",
       "      <td>2.907782</td>\n",
       "      <td>2.907782</td>\n",
       "      <td>2.907782</td>\n",
       "      <td>2.907782</td>\n",
       "      <td>2.907782</td>\n",
       "      <td>2.907782</td>\n",
       "    </tr>\n",
       "    <tr>\n",
       "      <th>4</th>\n",
       "      <td>3.090197</td>\n",
       "      <td>3.090197</td>\n",
       "      <td>3.090197</td>\n",
       "      <td>3.090197</td>\n",
       "      <td>3.090197</td>\n",
       "      <td>3.090197</td>\n",
       "    </tr>\n",
       "  </tbody>\n",
       "</table>\n",
       "</div>"
      ],
      "text/plain": [
       "   paint_embeddings_1  paint_embeddings_2  paint_embeddings_3   \n",
       "0            3.332631            3.332631            3.332631  \\\n",
       "1            2.854549            2.854549            2.854549   \n",
       "2            2.854549            2.854549            2.854549   \n",
       "3            2.907782            2.907782            2.907782   \n",
       "4            3.090197            3.090197            3.090197   \n",
       "\n",
       "   paint_embeddings_4  paint_embeddings_5  paint_embeddings_6  \n",
       "0            3.332631            3.332631            3.332631  \n",
       "1            2.854549            2.854549            2.854549  \n",
       "2            2.854549            2.854549            2.854549  \n",
       "3            2.907782            2.907782            2.907782  \n",
       "4            3.090197            3.090197            3.090197  "
      ]
     },
     "execution_count": 21,
     "metadata": {},
     "output_type": "execute_result"
    }
   ],
   "source": [
    "paint_embeddings.head()"
   ]
  },
  {
   "cell_type": "code",
   "execution_count": 22,
   "metadata": {
    "tags": []
   },
   "outputs": [],
   "source": [
    "train_prep = pd.concat([train_prep, paint_embeddings], axis =1)"
   ]
  },
  {
   "cell_type": "code",
   "execution_count": 23,
   "metadata": {
    "tags": []
   },
   "outputs": [],
   "source": [
    "train_prep['manufacturer'] = train_prep['manufacturer'].apply(preprocess_text)\n",
    "col_to_keep = []\n",
    "for brand, values in dict(train_prep['manufacturer'].value_counts()).items():\n",
    "    if values >= 150:\n",
    "        col_to_keep.append(brand)\n",
    "train_prep['manufacturer'] = train_prep['manufacturer'].apply(lambda x: 'other' if x not in col_to_keep else x)"
   ]
  },
  {
   "cell_type": "code",
   "execution_count": 24,
   "metadata": {
    "tags": []
   },
   "outputs": [],
   "source": [
    "brand_embeddings = generate_embeddings(train_prep, 'manufacturer', 'brand_embeddings')"
   ]
  },
  {
   "cell_type": "code",
   "execution_count": 25,
   "metadata": {
    "tags": []
   },
   "outputs": [
    {
     "data": {
      "text/html": [
       "<div>\n",
       "<style scoped>\n",
       "    .dataframe tbody tr th:only-of-type {\n",
       "        vertical-align: middle;\n",
       "    }\n",
       "\n",
       "    .dataframe tbody tr th {\n",
       "        vertical-align: top;\n",
       "    }\n",
       "\n",
       "    .dataframe thead th {\n",
       "        text-align: right;\n",
       "    }\n",
       "</style>\n",
       "<table border=\"1\" class=\"dataframe\">\n",
       "  <thead>\n",
       "    <tr style=\"text-align: right;\">\n",
       "      <th></th>\n",
       "      <th>brand_embeddings_1</th>\n",
       "      <th>brand_embeddings_2</th>\n",
       "      <th>brand_embeddings_3</th>\n",
       "      <th>brand_embeddings_4</th>\n",
       "      <th>brand_embeddings_5</th>\n",
       "      <th>brand_embeddings_6</th>\n",
       "      <th>brand_embeddings_7</th>\n",
       "      <th>brand_embeddings_8</th>\n",
       "      <th>brand_embeddings_9</th>\n",
       "      <th>brand_embeddings_10</th>\n",
       "      <th>brand_embeddings_11</th>\n",
       "      <th>brand_embeddings_12</th>\n",
       "      <th>brand_embeddings_13</th>\n",
       "    </tr>\n",
       "  </thead>\n",
       "  <tbody>\n",
       "    <tr>\n",
       "      <th>0</th>\n",
       "      <td>5.667300</td>\n",
       "      <td>5.667300</td>\n",
       "      <td>5.667300</td>\n",
       "      <td>5.667300</td>\n",
       "      <td>5.667300</td>\n",
       "      <td>5.667300</td>\n",
       "      <td>5.667300</td>\n",
       "      <td>5.667300</td>\n",
       "      <td>5.667300</td>\n",
       "      <td>5.667300</td>\n",
       "      <td>5.667300</td>\n",
       "      <td>5.667300</td>\n",
       "      <td>5.667300</td>\n",
       "    </tr>\n",
       "    <tr>\n",
       "      <th>1</th>\n",
       "      <td>5.683877</td>\n",
       "      <td>5.683877</td>\n",
       "      <td>5.683877</td>\n",
       "      <td>5.683877</td>\n",
       "      <td>5.683877</td>\n",
       "      <td>5.683877</td>\n",
       "      <td>5.683877</td>\n",
       "      <td>5.683877</td>\n",
       "      <td>5.683877</td>\n",
       "      <td>5.683877</td>\n",
       "      <td>5.683877</td>\n",
       "      <td>5.683877</td>\n",
       "      <td>5.683877</td>\n",
       "    </tr>\n",
       "    <tr>\n",
       "      <th>2</th>\n",
       "      <td>5.506867</td>\n",
       "      <td>5.506867</td>\n",
       "      <td>5.506867</td>\n",
       "      <td>5.506867</td>\n",
       "      <td>5.506867</td>\n",
       "      <td>5.506867</td>\n",
       "      <td>5.506867</td>\n",
       "      <td>5.506867</td>\n",
       "      <td>5.506867</td>\n",
       "      <td>5.506867</td>\n",
       "      <td>5.506867</td>\n",
       "      <td>5.506867</td>\n",
       "      <td>5.506867</td>\n",
       "    </tr>\n",
       "    <tr>\n",
       "      <th>3</th>\n",
       "      <td>5.506867</td>\n",
       "      <td>5.506867</td>\n",
       "      <td>5.506867</td>\n",
       "      <td>5.506867</td>\n",
       "      <td>5.506867</td>\n",
       "      <td>5.506867</td>\n",
       "      <td>5.506867</td>\n",
       "      <td>5.506867</td>\n",
       "      <td>5.506867</td>\n",
       "      <td>5.506867</td>\n",
       "      <td>5.506867</td>\n",
       "      <td>5.506867</td>\n",
       "      <td>5.506867</td>\n",
       "    </tr>\n",
       "    <tr>\n",
       "      <th>4</th>\n",
       "      <td>5.506867</td>\n",
       "      <td>5.506867</td>\n",
       "      <td>5.506867</td>\n",
       "      <td>5.506867</td>\n",
       "      <td>5.506867</td>\n",
       "      <td>5.506867</td>\n",
       "      <td>5.506867</td>\n",
       "      <td>5.506867</td>\n",
       "      <td>5.506867</td>\n",
       "      <td>5.506867</td>\n",
       "      <td>5.506867</td>\n",
       "      <td>5.506867</td>\n",
       "      <td>5.506867</td>\n",
       "    </tr>\n",
       "  </tbody>\n",
       "</table>\n",
       "</div>"
      ],
      "text/plain": [
       "   brand_embeddings_1  brand_embeddings_2  brand_embeddings_3   \n",
       "0            5.667300            5.667300            5.667300  \\\n",
       "1            5.683877            5.683877            5.683877   \n",
       "2            5.506867            5.506867            5.506867   \n",
       "3            5.506867            5.506867            5.506867   \n",
       "4            5.506867            5.506867            5.506867   \n",
       "\n",
       "   brand_embeddings_4  brand_embeddings_5  brand_embeddings_6   \n",
       "0            5.667300            5.667300            5.667300  \\\n",
       "1            5.683877            5.683877            5.683877   \n",
       "2            5.506867            5.506867            5.506867   \n",
       "3            5.506867            5.506867            5.506867   \n",
       "4            5.506867            5.506867            5.506867   \n",
       "\n",
       "   brand_embeddings_7  brand_embeddings_8  brand_embeddings_9   \n",
       "0            5.667300            5.667300            5.667300  \\\n",
       "1            5.683877            5.683877            5.683877   \n",
       "2            5.506867            5.506867            5.506867   \n",
       "3            5.506867            5.506867            5.506867   \n",
       "4            5.506867            5.506867            5.506867   \n",
       "\n",
       "   brand_embeddings_10  brand_embeddings_11  brand_embeddings_12   \n",
       "0             5.667300             5.667300             5.667300  \\\n",
       "1             5.683877             5.683877             5.683877   \n",
       "2             5.506867             5.506867             5.506867   \n",
       "3             5.506867             5.506867             5.506867   \n",
       "4             5.506867             5.506867             5.506867   \n",
       "\n",
       "   brand_embeddings_13  \n",
       "0             5.667300  \n",
       "1             5.683877  \n",
       "2             5.506867  \n",
       "3             5.506867  \n",
       "4             5.506867  "
      ]
     },
     "execution_count": 25,
     "metadata": {},
     "output_type": "execute_result"
    }
   ],
   "source": [
    "brand_embeddings.head()"
   ]
  },
  {
   "cell_type": "code",
   "execution_count": 26,
   "metadata": {
    "colab": {
     "background_save": true,
     "base_uri": "https://localhost:8080/",
     "height": 505
    },
    "id": "PN3FhtnpbPXs",
    "outputId": "18a65292-e8e4-4395-f508-7222075cf9e3",
    "tags": []
   },
   "outputs": [],
   "source": [
    "train_prep = pd.concat([train_prep, brand_embeddings], axis =1)"
   ]
  },
  {
   "cell_type": "code",
   "execution_count": 27,
   "metadata": {
    "tags": []
   },
   "outputs": [],
   "source": [
    "train_prep['type'].fillna('other', inplace = True)\n",
    "train_prep['type'] = train_prep['type'].apply(preprocess_text)"
   ]
  },
  {
   "cell_type": "code",
   "execution_count": null,
   "metadata": {
    "tags": []
   },
   "outputs": [],
   "source": [
    "type_embeddings = generate_embeddings(train_prep, 'type', 'type_embeddings')\n",
    "size_embeddings = generate_embeddings(train_prep, 'size', 'size_embeddings')"
   ]
  },
  {
   "cell_type": "code",
   "execution_count": null,
   "metadata": {
    "tags": []
   },
   "outputs": [],
   "source": [
    "train_prep = pd.concat([train_prep, type_embeddings, size_embeddings], axis =1)"
   ]
  },
  {
   "cell_type": "code",
   "execution_count": 31,
   "metadata": {
    "tags": []
   },
   "outputs": [],
   "source": [
    "train_prep['title_status_new'] = train['title_status']"
   ]
  },
  {
   "cell_type": "code",
   "execution_count": 32,
   "metadata": {
    "tags": []
   },
   "outputs": [
    {
     "data": {
      "text/plain": [
       "title_status_new\n",
       "clean         22365\n",
       "rebuilt        3004\n",
       "salvage         985\n",
       "lien            465\n",
       "parts only      133\n",
       "missing         124\n",
       "Name: count, dtype: int64"
      ]
     },
     "execution_count": 32,
     "metadata": {},
     "output_type": "execute_result"
    }
   ],
   "source": [
    "train_prep['title_status_new'].value_counts()"
   ]
  },
  {
   "cell_type": "code",
   "execution_count": 33,
   "metadata": {
    "tags": []
   },
   "outputs": [],
   "source": [
    "train_prep['title_status_new'].fillna('clean', inplace = True)"
   ]
  },
  {
   "cell_type": "code",
   "execution_count": 34,
   "metadata": {
    "tags": []
   },
   "outputs": [],
   "source": [
    "train_prep['title_status_new'] = train_prep['title_status_new'].apply(preprocess_text)\n",
    "status_embeddings = generate_embeddings(train_prep, 'title_status_new', 'title_status_embeddings')\n",
    "train_prep = pd.concat([train_prep, status_embeddings], axis =1)"
   ]
  },
  {
   "cell_type": "code",
   "execution_count": 35,
   "metadata": {
    "tags": []
   },
   "outputs": [],
   "source": [
    "train_prep = train_prep.drop('title_status_new', axis = 1)"
   ]
  },
  {
   "cell_type": "code",
   "execution_count": 36,
   "metadata": {
    "tags": []
   },
   "outputs": [
    {
     "data": {
      "text/html": [
       "<div>\n",
       "<style scoped>\n",
       "    .dataframe tbody tr th:only-of-type {\n",
       "        vertical-align: middle;\n",
       "    }\n",
       "\n",
       "    .dataframe tbody tr th {\n",
       "        vertical-align: top;\n",
       "    }\n",
       "\n",
       "    .dataframe thead th {\n",
       "        text-align: right;\n",
       "    }\n",
       "</style>\n",
       "<table border=\"1\" class=\"dataframe\">\n",
       "  <thead>\n",
       "    <tr style=\"text-align: right;\">\n",
       "      <th></th>\n",
       "      <th>id</th>\n",
       "      <th>year</th>\n",
       "      <th>manufacturer</th>\n",
       "      <th>condition</th>\n",
       "      <th>cylinders</th>\n",
       "      <th>fuel</th>\n",
       "      <th>odometer</th>\n",
       "      <th>title_status</th>\n",
       "      <th>transmission</th>\n",
       "      <th>drive</th>\n",
       "      <th>...</th>\n",
       "      <th>type_embeddings_3</th>\n",
       "      <th>type_embeddings_4</th>\n",
       "      <th>type_embeddings_5</th>\n",
       "      <th>type_embeddings_6</th>\n",
       "      <th>type_embeddings_7</th>\n",
       "      <th>size_embeddings_1</th>\n",
       "      <th>size_embeddings_2</th>\n",
       "      <th>title_status_embeddings_1</th>\n",
       "      <th>title_status_embeddings_2</th>\n",
       "      <th>title_status_embeddings_3</th>\n",
       "    </tr>\n",
       "  </thead>\n",
       "  <tbody>\n",
       "    <tr>\n",
       "      <th>0</th>\n",
       "      <td>0</td>\n",
       "      <td>1949</td>\n",
       "      <td>bmw</td>\n",
       "      <td>5</td>\n",
       "      <td>6.0</td>\n",
       "      <td>gas</td>\n",
       "      <td>115148</td>\n",
       "      <td>clean</td>\n",
       "      <td>manual</td>\n",
       "      <td>rwd</td>\n",
       "      <td>...</td>\n",
       "      <td>3.207522</td>\n",
       "      <td>3.207522</td>\n",
       "      <td>3.207522</td>\n",
       "      <td>3.207522</td>\n",
       "      <td>3.207522</td>\n",
       "      <td>1.632407</td>\n",
       "      <td>1.632407</td>\n",
       "      <td>1.267552</td>\n",
       "      <td>1.267552</td>\n",
       "      <td>1.267552</td>\n",
       "    </tr>\n",
       "    <tr>\n",
       "      <th>1</th>\n",
       "      <td>1</td>\n",
       "      <td>2013</td>\n",
       "      <td>toyota</td>\n",
       "      <td>1</td>\n",
       "      <td>8.0</td>\n",
       "      <td>gas</td>\n",
       "      <td>172038</td>\n",
       "      <td>clean</td>\n",
       "      <td>automatic</td>\n",
       "      <td>rwd</td>\n",
       "      <td>...</td>\n",
       "      <td>2.668944</td>\n",
       "      <td>2.668944</td>\n",
       "      <td>2.668944</td>\n",
       "      <td>2.668944</td>\n",
       "      <td>2.668944</td>\n",
       "      <td>1.558996</td>\n",
       "      <td>1.558996</td>\n",
       "      <td>1.267552</td>\n",
       "      <td>1.267552</td>\n",
       "      <td>1.267552</td>\n",
       "    </tr>\n",
       "    <tr>\n",
       "      <th>2</th>\n",
       "      <td>2</td>\n",
       "      <td>1998</td>\n",
       "      <td>ford</td>\n",
       "      <td>2</td>\n",
       "      <td>6.0</td>\n",
       "      <td>gas</td>\n",
       "      <td>152492</td>\n",
       "      <td>clean</td>\n",
       "      <td>automatic</td>\n",
       "      <td>fwd</td>\n",
       "      <td>...</td>\n",
       "      <td>2.747221</td>\n",
       "      <td>2.747221</td>\n",
       "      <td>2.747221</td>\n",
       "      <td>2.747221</td>\n",
       "      <td>2.747221</td>\n",
       "      <td>1.558996</td>\n",
       "      <td>1.558996</td>\n",
       "      <td>1.267552</td>\n",
       "      <td>1.267552</td>\n",
       "      <td>1.267552</td>\n",
       "    </tr>\n",
       "    <tr>\n",
       "      <th>3</th>\n",
       "      <td>3</td>\n",
       "      <td>2014</td>\n",
       "      <td>ford</td>\n",
       "      <td>5</td>\n",
       "      <td>4.0</td>\n",
       "      <td>gas</td>\n",
       "      <td>104118</td>\n",
       "      <td>clean</td>\n",
       "      <td>manual</td>\n",
       "      <td>fwd</td>\n",
       "      <td>...</td>\n",
       "      <td>2.747221</td>\n",
       "      <td>2.747221</td>\n",
       "      <td>2.747221</td>\n",
       "      <td>2.747221</td>\n",
       "      <td>2.747221</td>\n",
       "      <td>1.632407</td>\n",
       "      <td>1.632407</td>\n",
       "      <td>1.267552</td>\n",
       "      <td>1.267552</td>\n",
       "      <td>1.267552</td>\n",
       "    </tr>\n",
       "    <tr>\n",
       "      <th>4</th>\n",
       "      <td>4</td>\n",
       "      <td>2005</td>\n",
       "      <td>ford</td>\n",
       "      <td>5</td>\n",
       "      <td>6.0</td>\n",
       "      <td>gas</td>\n",
       "      <td>144554</td>\n",
       "      <td>clean</td>\n",
       "      <td>manual</td>\n",
       "      <td>fwd</td>\n",
       "      <td>...</td>\n",
       "      <td>2.668944</td>\n",
       "      <td>2.668944</td>\n",
       "      <td>2.668944</td>\n",
       "      <td>2.668944</td>\n",
       "      <td>2.668944</td>\n",
       "      <td>1.632407</td>\n",
       "      <td>1.632407</td>\n",
       "      <td>1.267552</td>\n",
       "      <td>1.267552</td>\n",
       "      <td>1.267552</td>\n",
       "    </tr>\n",
       "    <tr>\n",
       "      <th>...</th>\n",
       "      <td>...</td>\n",
       "      <td>...</td>\n",
       "      <td>...</td>\n",
       "      <td>...</td>\n",
       "      <td>...</td>\n",
       "      <td>...</td>\n",
       "      <td>...</td>\n",
       "      <td>...</td>\n",
       "      <td>...</td>\n",
       "      <td>...</td>\n",
       "      <td>...</td>\n",
       "      <td>...</td>\n",
       "      <td>...</td>\n",
       "      <td>...</td>\n",
       "      <td>...</td>\n",
       "      <td>...</td>\n",
       "      <td>...</td>\n",
       "      <td>...</td>\n",
       "      <td>...</td>\n",
       "      <td>...</td>\n",
       "      <td>...</td>\n",
       "    </tr>\n",
       "    <tr>\n",
       "      <th>27527</th>\n",
       "      <td>27527</td>\n",
       "      <td>2008</td>\n",
       "      <td>ford</td>\n",
       "      <td>2</td>\n",
       "      <td>6.0</td>\n",
       "      <td>gas</td>\n",
       "      <td>26660</td>\n",
       "      <td>clean</td>\n",
       "      <td>automatic</td>\n",
       "      <td>rwd</td>\n",
       "      <td>...</td>\n",
       "      <td>2.801944</td>\n",
       "      <td>2.801944</td>\n",
       "      <td>2.801944</td>\n",
       "      <td>2.801944</td>\n",
       "      <td>2.801944</td>\n",
       "      <td>1.695574</td>\n",
       "      <td>1.695574</td>\n",
       "      <td>1.267552</td>\n",
       "      <td>1.267552</td>\n",
       "      <td>1.267552</td>\n",
       "    </tr>\n",
       "    <tr>\n",
       "      <th>27528</th>\n",
       "      <td>27528</td>\n",
       "      <td>2007</td>\n",
       "      <td>ford</td>\n",
       "      <td>5</td>\n",
       "      <td>8.0</td>\n",
       "      <td>gas</td>\n",
       "      <td>108072</td>\n",
       "      <td>clean</td>\n",
       "      <td>automatic</td>\n",
       "      <td>rwd</td>\n",
       "      <td>...</td>\n",
       "      <td>2.914915</td>\n",
       "      <td>2.914915</td>\n",
       "      <td>2.914915</td>\n",
       "      <td>2.914915</td>\n",
       "      <td>2.914915</td>\n",
       "      <td>1.558996</td>\n",
       "      <td>1.558996</td>\n",
       "      <td>1.267552</td>\n",
       "      <td>1.267552</td>\n",
       "      <td>1.267552</td>\n",
       "    </tr>\n",
       "    <tr>\n",
       "      <th>27529</th>\n",
       "      <td>27529</td>\n",
       "      <td>2019</td>\n",
       "      <td>jeep</td>\n",
       "      <td>4</td>\n",
       "      <td>6.0</td>\n",
       "      <td>gas</td>\n",
       "      <td>139908</td>\n",
       "      <td>clean</td>\n",
       "      <td>automatic</td>\n",
       "      <td>4wd</td>\n",
       "      <td>...</td>\n",
       "      <td>2.747221</td>\n",
       "      <td>2.747221</td>\n",
       "      <td>2.747221</td>\n",
       "      <td>2.747221</td>\n",
       "      <td>2.747221</td>\n",
       "      <td>1.632407</td>\n",
       "      <td>1.632407</td>\n",
       "      <td>1.267552</td>\n",
       "      <td>1.267552</td>\n",
       "      <td>1.267552</td>\n",
       "    </tr>\n",
       "    <tr>\n",
       "      <th>27530</th>\n",
       "      <td>27530</td>\n",
       "      <td>2007</td>\n",
       "      <td>jeep</td>\n",
       "      <td>5</td>\n",
       "      <td>6.0</td>\n",
       "      <td>gas</td>\n",
       "      <td>112326</td>\n",
       "      <td>clean</td>\n",
       "      <td>automatic</td>\n",
       "      <td>4wd</td>\n",
       "      <td>...</td>\n",
       "      <td>2.668944</td>\n",
       "      <td>2.668944</td>\n",
       "      <td>2.668944</td>\n",
       "      <td>2.668944</td>\n",
       "      <td>2.668944</td>\n",
       "      <td>1.632407</td>\n",
       "      <td>1.632407</td>\n",
       "      <td>1.267552</td>\n",
       "      <td>1.267552</td>\n",
       "      <td>1.267552</td>\n",
       "    </tr>\n",
       "    <tr>\n",
       "      <th>27531</th>\n",
       "      <td>27531</td>\n",
       "      <td>2009</td>\n",
       "      <td>chevrolet</td>\n",
       "      <td>5</td>\n",
       "      <td>8.0</td>\n",
       "      <td>gas</td>\n",
       "      <td>91813</td>\n",
       "      <td>rebuilt</td>\n",
       "      <td>automatic</td>\n",
       "      <td>rwd</td>\n",
       "      <td>...</td>\n",
       "      <td>3.131677</td>\n",
       "      <td>3.131677</td>\n",
       "      <td>3.131677</td>\n",
       "      <td>3.131677</td>\n",
       "      <td>3.131677</td>\n",
       "      <td>1.558996</td>\n",
       "      <td>1.558996</td>\n",
       "      <td>1.322173</td>\n",
       "      <td>1.322173</td>\n",
       "      <td>1.322173</td>\n",
       "    </tr>\n",
       "  </tbody>\n",
       "</table>\n",
       "<p>27532 rows × 56 columns</p>\n",
       "</div>"
      ],
      "text/plain": [
       "          id  year manufacturer  condition  cylinders fuel  odometer   \n",
       "0          0  1949          bmw          5        6.0  gas    115148  \\\n",
       "1          1  2013       toyota          1        8.0  gas    172038   \n",
       "2          2  1998         ford          2        6.0  gas    152492   \n",
       "3          3  2014         ford          5        4.0  gas    104118   \n",
       "4          4  2005         ford          5        6.0  gas    144554   \n",
       "...      ...   ...          ...        ...        ...  ...       ...   \n",
       "27527  27527  2008         ford          2        6.0  gas     26660   \n",
       "27528  27528  2007         ford          5        8.0  gas    108072   \n",
       "27529  27529  2019         jeep          4        6.0  gas    139908   \n",
       "27530  27530  2007         jeep          5        6.0  gas    112326   \n",
       "27531  27531  2009    chevrolet          5        8.0  gas     91813   \n",
       "\n",
       "      title_status transmission drive  ... type_embeddings_3   \n",
       "0            clean       manual   rwd  ...          3.207522  \\\n",
       "1            clean    automatic   rwd  ...          2.668944   \n",
       "2            clean    automatic   fwd  ...          2.747221   \n",
       "3            clean       manual   fwd  ...          2.747221   \n",
       "4            clean       manual   fwd  ...          2.668944   \n",
       "...            ...          ...   ...  ...               ...   \n",
       "27527        clean    automatic   rwd  ...          2.801944   \n",
       "27528        clean    automatic   rwd  ...          2.914915   \n",
       "27529        clean    automatic   4wd  ...          2.747221   \n",
       "27530        clean    automatic   4wd  ...          2.668944   \n",
       "27531      rebuilt    automatic   rwd  ...          3.131677   \n",
       "\n",
       "      type_embeddings_4 type_embeddings_5  type_embeddings_6   \n",
       "0              3.207522          3.207522           3.207522  \\\n",
       "1              2.668944          2.668944           2.668944   \n",
       "2              2.747221          2.747221           2.747221   \n",
       "3              2.747221          2.747221           2.747221   \n",
       "4              2.668944          2.668944           2.668944   \n",
       "...                 ...               ...                ...   \n",
       "27527          2.801944          2.801944           2.801944   \n",
       "27528          2.914915          2.914915           2.914915   \n",
       "27529          2.747221          2.747221           2.747221   \n",
       "27530          2.668944          2.668944           2.668944   \n",
       "27531          3.131677          3.131677           3.131677   \n",
       "\n",
       "       type_embeddings_7  size_embeddings_1  size_embeddings_2   \n",
       "0               3.207522           1.632407           1.632407  \\\n",
       "1               2.668944           1.558996           1.558996   \n",
       "2               2.747221           1.558996           1.558996   \n",
       "3               2.747221           1.632407           1.632407   \n",
       "4               2.668944           1.632407           1.632407   \n",
       "...                  ...                ...                ...   \n",
       "27527           2.801944           1.695574           1.695574   \n",
       "27528           2.914915           1.558996           1.558996   \n",
       "27529           2.747221           1.632407           1.632407   \n",
       "27530           2.668944           1.632407           1.632407   \n",
       "27531           3.131677           1.558996           1.558996   \n",
       "\n",
       "       title_status_embeddings_1  title_status_embeddings_2   \n",
       "0                       1.267552                   1.267552  \\\n",
       "1                       1.267552                   1.267552   \n",
       "2                       1.267552                   1.267552   \n",
       "3                       1.267552                   1.267552   \n",
       "4                       1.267552                   1.267552   \n",
       "...                          ...                        ...   \n",
       "27527                   1.267552                   1.267552   \n",
       "27528                   1.267552                   1.267552   \n",
       "27529                   1.267552                   1.267552   \n",
       "27530                   1.267552                   1.267552   \n",
       "27531                   1.322173                   1.322173   \n",
       "\n",
       "       title_status_embeddings_3  \n",
       "0                       1.267552  \n",
       "1                       1.267552  \n",
       "2                       1.267552  \n",
       "3                       1.267552  \n",
       "4                       1.267552  \n",
       "...                          ...  \n",
       "27527                   1.267552  \n",
       "27528                   1.267552  \n",
       "27529                   1.267552  \n",
       "27530                   1.267552  \n",
       "27531                   1.322173  \n",
       "\n",
       "[27532 rows x 56 columns]"
      ]
     },
     "execution_count": 36,
     "metadata": {},
     "output_type": "execute_result"
    }
   ],
   "source": [
    "train_prep"
   ]
  },
  {
   "cell_type": "code",
   "execution_count": null,
   "metadata": {
    "tags": []
   },
   "outputs": [],
   "source": [
    "fuel_embeddings = generate_embeddings(train_prep, 'fuel', 'fuel_embeddings')\n",
    "transmission_embeddings = generate_embeddings(train_prep, 'transmission', 'transmission_embeddings')\n",
    "drive_embeddings = generate_embeddings(train_prep, 'drive', 'drive_embeddings')"
   ]
  },
  {
   "cell_type": "code",
   "execution_count": null,
   "metadata": {
    "tags": []
   },
   "outputs": [],
   "source": [
    "train_prep = pd.concat([train_prep, fuel_embeddings, drive_embeddings, transmission_embeddings], axis =1)"
   ]
  },
  {
   "cell_type": "code",
   "execution_count": null,
   "metadata": {
    "tags": []
   },
   "outputs": [
    {
     "name": "stderr",
     "output_type": "stream",
     "text": [
      "/home/studio-lab-user/.conda/envs/tf-gpu-310/lib/python3.10/site-packages/pandas/core/arraylike.py:396: RuntimeWarning: divide by zero encountered in log1p\n",
      "  result = getattr(ufunc, method)(*inputs, **kwargs)\n",
      "/home/studio-lab-user/.conda/envs/tf-gpu-310/lib/python3.10/site-packages/pandas/core/arraylike.py:396: RuntimeWarning: invalid value encountered in log1p\n",
      "  result = getattr(ufunc, method)(*inputs, **kwargs)\n"
     ]
    }
   ],
   "source": [
    "train_prep['odometer_log'] = np.log1p(train_prep['odometer'])"
   ]
  },
  {
   "cell_type": "code",
   "execution_count": null,
   "metadata": {
    "tags": []
   },
   "outputs": [
    {
     "data": {
      "text/html": [
       "<div>\n",
       "<style scoped>\n",
       "    .dataframe tbody tr th:only-of-type {\n",
       "        vertical-align: middle;\n",
       "    }\n",
       "\n",
       "    .dataframe tbody tr th {\n",
       "        vertical-align: top;\n",
       "    }\n",
       "\n",
       "    .dataframe thead th {\n",
       "        text-align: right;\n",
       "    }\n",
       "</style>\n",
       "<table border=\"1\" class=\"dataframe\">\n",
       "  <thead>\n",
       "    <tr style=\"text-align: right;\">\n",
       "      <th></th>\n",
       "      <th>id</th>\n",
       "      <th>year</th>\n",
       "      <th>manufacturer</th>\n",
       "      <th>condition</th>\n",
       "      <th>cylinders</th>\n",
       "      <th>fuel</th>\n",
       "      <th>odometer</th>\n",
       "      <th>title_status</th>\n",
       "      <th>transmission</th>\n",
       "      <th>drive</th>\n",
       "      <th>...</th>\n",
       "      <th>title_status_embeddings_3</th>\n",
       "      <th>fuel_embeddings_1</th>\n",
       "      <th>fuel_embeddings_2</th>\n",
       "      <th>fuel_embeddings_3</th>\n",
       "      <th>fuel_embeddings_1</th>\n",
       "      <th>fuel_embeddings_2</th>\n",
       "      <th>fuel_embeddings_3</th>\n",
       "      <th>transmission_embeddings_1</th>\n",
       "      <th>transmission_embeddings_2</th>\n",
       "      <th>odometer_log</th>\n",
       "    </tr>\n",
       "  </thead>\n",
       "  <tbody>\n",
       "    <tr>\n",
       "      <th>0</th>\n",
       "      <td>0</td>\n",
       "      <td>1949</td>\n",
       "      <td>bmw</td>\n",
       "      <td>5</td>\n",
       "      <td>6.0</td>\n",
       "      <td>gas</td>\n",
       "      <td>115148</td>\n",
       "      <td>clean</td>\n",
       "      <td>manual</td>\n",
       "      <td>rwd</td>\n",
       "      <td>...</td>\n",
       "      <td>1.267552</td>\n",
       "      <td>1.184876</td>\n",
       "      <td>1.184876</td>\n",
       "      <td>1.184876</td>\n",
       "      <td>1.184876</td>\n",
       "      <td>1.184876</td>\n",
       "      <td>1.184876</td>\n",
       "      <td>1.334532</td>\n",
       "      <td>1.334532</td>\n",
       "      <td>11.653982</td>\n",
       "    </tr>\n",
       "    <tr>\n",
       "      <th>1</th>\n",
       "      <td>1</td>\n",
       "      <td>2013</td>\n",
       "      <td>toyota</td>\n",
       "      <td>1</td>\n",
       "      <td>8.0</td>\n",
       "      <td>gas</td>\n",
       "      <td>172038</td>\n",
       "      <td>clean</td>\n",
       "      <td>automatic</td>\n",
       "      <td>rwd</td>\n",
       "      <td>...</td>\n",
       "      <td>1.267552</td>\n",
       "      <td>1.184876</td>\n",
       "      <td>1.184876</td>\n",
       "      <td>1.184876</td>\n",
       "      <td>1.184876</td>\n",
       "      <td>1.184876</td>\n",
       "      <td>1.184876</td>\n",
       "      <td>1.275842</td>\n",
       "      <td>1.275842</td>\n",
       "      <td>12.055476</td>\n",
       "    </tr>\n",
       "    <tr>\n",
       "      <th>2</th>\n",
       "      <td>2</td>\n",
       "      <td>1998</td>\n",
       "      <td>ford</td>\n",
       "      <td>2</td>\n",
       "      <td>6.0</td>\n",
       "      <td>gas</td>\n",
       "      <td>152492</td>\n",
       "      <td>clean</td>\n",
       "      <td>automatic</td>\n",
       "      <td>fwd</td>\n",
       "      <td>...</td>\n",
       "      <td>1.267552</td>\n",
       "      <td>1.184876</td>\n",
       "      <td>1.184876</td>\n",
       "      <td>1.184876</td>\n",
       "      <td>1.184876</td>\n",
       "      <td>1.184876</td>\n",
       "      <td>1.184876</td>\n",
       "      <td>1.275842</td>\n",
       "      <td>1.275842</td>\n",
       "      <td>11.934874</td>\n",
       "    </tr>\n",
       "    <tr>\n",
       "      <th>3</th>\n",
       "      <td>3</td>\n",
       "      <td>2014</td>\n",
       "      <td>ford</td>\n",
       "      <td>5</td>\n",
       "      <td>4.0</td>\n",
       "      <td>gas</td>\n",
       "      <td>104118</td>\n",
       "      <td>clean</td>\n",
       "      <td>manual</td>\n",
       "      <td>fwd</td>\n",
       "      <td>...</td>\n",
       "      <td>1.267552</td>\n",
       "      <td>1.184876</td>\n",
       "      <td>1.184876</td>\n",
       "      <td>1.184876</td>\n",
       "      <td>1.184876</td>\n",
       "      <td>1.184876</td>\n",
       "      <td>1.184876</td>\n",
       "      <td>1.334532</td>\n",
       "      <td>1.334532</td>\n",
       "      <td>11.553290</td>\n",
       "    </tr>\n",
       "    <tr>\n",
       "      <th>4</th>\n",
       "      <td>4</td>\n",
       "      <td>2005</td>\n",
       "      <td>ford</td>\n",
       "      <td>5</td>\n",
       "      <td>6.0</td>\n",
       "      <td>gas</td>\n",
       "      <td>144554</td>\n",
       "      <td>clean</td>\n",
       "      <td>manual</td>\n",
       "      <td>fwd</td>\n",
       "      <td>...</td>\n",
       "      <td>1.267552</td>\n",
       "      <td>1.184876</td>\n",
       "      <td>1.184876</td>\n",
       "      <td>1.184876</td>\n",
       "      <td>1.184876</td>\n",
       "      <td>1.184876</td>\n",
       "      <td>1.184876</td>\n",
       "      <td>1.334532</td>\n",
       "      <td>1.334532</td>\n",
       "      <td>11.881415</td>\n",
       "    </tr>\n",
       "    <tr>\n",
       "      <th>...</th>\n",
       "      <td>...</td>\n",
       "      <td>...</td>\n",
       "      <td>...</td>\n",
       "      <td>...</td>\n",
       "      <td>...</td>\n",
       "      <td>...</td>\n",
       "      <td>...</td>\n",
       "      <td>...</td>\n",
       "      <td>...</td>\n",
       "      <td>...</td>\n",
       "      <td>...</td>\n",
       "      <td>...</td>\n",
       "      <td>...</td>\n",
       "      <td>...</td>\n",
       "      <td>...</td>\n",
       "      <td>...</td>\n",
       "      <td>...</td>\n",
       "      <td>...</td>\n",
       "      <td>...</td>\n",
       "      <td>...</td>\n",
       "      <td>...</td>\n",
       "    </tr>\n",
       "    <tr>\n",
       "      <th>27527</th>\n",
       "      <td>27527</td>\n",
       "      <td>2008</td>\n",
       "      <td>ford</td>\n",
       "      <td>2</td>\n",
       "      <td>6.0</td>\n",
       "      <td>gas</td>\n",
       "      <td>26660</td>\n",
       "      <td>clean</td>\n",
       "      <td>automatic</td>\n",
       "      <td>rwd</td>\n",
       "      <td>...</td>\n",
       "      <td>1.267552</td>\n",
       "      <td>1.184876</td>\n",
       "      <td>1.184876</td>\n",
       "      <td>1.184876</td>\n",
       "      <td>1.184876</td>\n",
       "      <td>1.184876</td>\n",
       "      <td>1.184876</td>\n",
       "      <td>1.275842</td>\n",
       "      <td>1.275842</td>\n",
       "      <td>10.190957</td>\n",
       "    </tr>\n",
       "    <tr>\n",
       "      <th>27528</th>\n",
       "      <td>27528</td>\n",
       "      <td>2007</td>\n",
       "      <td>ford</td>\n",
       "      <td>5</td>\n",
       "      <td>8.0</td>\n",
       "      <td>gas</td>\n",
       "      <td>108072</td>\n",
       "      <td>clean</td>\n",
       "      <td>automatic</td>\n",
       "      <td>rwd</td>\n",
       "      <td>...</td>\n",
       "      <td>1.267552</td>\n",
       "      <td>1.184876</td>\n",
       "      <td>1.184876</td>\n",
       "      <td>1.184876</td>\n",
       "      <td>1.184876</td>\n",
       "      <td>1.184876</td>\n",
       "      <td>1.184876</td>\n",
       "      <td>1.275842</td>\n",
       "      <td>1.275842</td>\n",
       "      <td>11.590562</td>\n",
       "    </tr>\n",
       "    <tr>\n",
       "      <th>27529</th>\n",
       "      <td>27529</td>\n",
       "      <td>2019</td>\n",
       "      <td>jeep</td>\n",
       "      <td>4</td>\n",
       "      <td>6.0</td>\n",
       "      <td>gas</td>\n",
       "      <td>139908</td>\n",
       "      <td>clean</td>\n",
       "      <td>automatic</td>\n",
       "      <td>4wd</td>\n",
       "      <td>...</td>\n",
       "      <td>1.267552</td>\n",
       "      <td>1.184876</td>\n",
       "      <td>1.184876</td>\n",
       "      <td>1.184876</td>\n",
       "      <td>1.184876</td>\n",
       "      <td>1.184876</td>\n",
       "      <td>1.184876</td>\n",
       "      <td>1.275842</td>\n",
       "      <td>1.275842</td>\n",
       "      <td>11.848747</td>\n",
       "    </tr>\n",
       "    <tr>\n",
       "      <th>27530</th>\n",
       "      <td>27530</td>\n",
       "      <td>2007</td>\n",
       "      <td>jeep</td>\n",
       "      <td>5</td>\n",
       "      <td>6.0</td>\n",
       "      <td>gas</td>\n",
       "      <td>112326</td>\n",
       "      <td>clean</td>\n",
       "      <td>automatic</td>\n",
       "      <td>4wd</td>\n",
       "      <td>...</td>\n",
       "      <td>1.267552</td>\n",
       "      <td>1.184876</td>\n",
       "      <td>1.184876</td>\n",
       "      <td>1.184876</td>\n",
       "      <td>1.184876</td>\n",
       "      <td>1.184876</td>\n",
       "      <td>1.184876</td>\n",
       "      <td>1.275842</td>\n",
       "      <td>1.275842</td>\n",
       "      <td>11.629170</td>\n",
       "    </tr>\n",
       "    <tr>\n",
       "      <th>27531</th>\n",
       "      <td>27531</td>\n",
       "      <td>2009</td>\n",
       "      <td>chevrolet</td>\n",
       "      <td>5</td>\n",
       "      <td>8.0</td>\n",
       "      <td>gas</td>\n",
       "      <td>91813</td>\n",
       "      <td>rebuilt</td>\n",
       "      <td>automatic</td>\n",
       "      <td>rwd</td>\n",
       "      <td>...</td>\n",
       "      <td>1.322173</td>\n",
       "      <td>1.184876</td>\n",
       "      <td>1.184876</td>\n",
       "      <td>1.184876</td>\n",
       "      <td>1.184876</td>\n",
       "      <td>1.184876</td>\n",
       "      <td>1.184876</td>\n",
       "      <td>1.275842</td>\n",
       "      <td>1.275842</td>\n",
       "      <td>11.427520</td>\n",
       "    </tr>\n",
       "  </tbody>\n",
       "</table>\n",
       "<p>27532 rows × 65 columns</p>\n",
       "</div>"
      ],
      "text/plain": [
       "          id  year manufacturer  condition  cylinders fuel  odometer   \n",
       "0          0  1949          bmw          5        6.0  gas    115148  \\\n",
       "1          1  2013       toyota          1        8.0  gas    172038   \n",
       "2          2  1998         ford          2        6.0  gas    152492   \n",
       "3          3  2014         ford          5        4.0  gas    104118   \n",
       "4          4  2005         ford          5        6.0  gas    144554   \n",
       "...      ...   ...          ...        ...        ...  ...       ...   \n",
       "27527  27527  2008         ford          2        6.0  gas     26660   \n",
       "27528  27528  2007         ford          5        8.0  gas    108072   \n",
       "27529  27529  2019         jeep          4        6.0  gas    139908   \n",
       "27530  27530  2007         jeep          5        6.0  gas    112326   \n",
       "27531  27531  2009    chevrolet          5        8.0  gas     91813   \n",
       "\n",
       "      title_status transmission drive  ... title_status_embeddings_3   \n",
       "0            clean       manual   rwd  ...                  1.267552  \\\n",
       "1            clean    automatic   rwd  ...                  1.267552   \n",
       "2            clean    automatic   fwd  ...                  1.267552   \n",
       "3            clean       manual   fwd  ...                  1.267552   \n",
       "4            clean       manual   fwd  ...                  1.267552   \n",
       "...            ...          ...   ...  ...                       ...   \n",
       "27527        clean    automatic   rwd  ...                  1.267552   \n",
       "27528        clean    automatic   rwd  ...                  1.267552   \n",
       "27529        clean    automatic   4wd  ...                  1.267552   \n",
       "27530        clean    automatic   4wd  ...                  1.267552   \n",
       "27531      rebuilt    automatic   rwd  ...                  1.322173   \n",
       "\n",
       "       fuel_embeddings_1  fuel_embeddings_2  fuel_embeddings_3   \n",
       "0               1.184876           1.184876           1.184876  \\\n",
       "1               1.184876           1.184876           1.184876   \n",
       "2               1.184876           1.184876           1.184876   \n",
       "3               1.184876           1.184876           1.184876   \n",
       "4               1.184876           1.184876           1.184876   \n",
       "...                  ...                ...                ...   \n",
       "27527           1.184876           1.184876           1.184876   \n",
       "27528           1.184876           1.184876           1.184876   \n",
       "27529           1.184876           1.184876           1.184876   \n",
       "27530           1.184876           1.184876           1.184876   \n",
       "27531           1.184876           1.184876           1.184876   \n",
       "\n",
       "       fuel_embeddings_1  fuel_embeddings_2  fuel_embeddings_3   \n",
       "0               1.184876           1.184876           1.184876  \\\n",
       "1               1.184876           1.184876           1.184876   \n",
       "2               1.184876           1.184876           1.184876   \n",
       "3               1.184876           1.184876           1.184876   \n",
       "4               1.184876           1.184876           1.184876   \n",
       "...                  ...                ...                ...   \n",
       "27527           1.184876           1.184876           1.184876   \n",
       "27528           1.184876           1.184876           1.184876   \n",
       "27529           1.184876           1.184876           1.184876   \n",
       "27530           1.184876           1.184876           1.184876   \n",
       "27531           1.184876           1.184876           1.184876   \n",
       "\n",
       "       transmission_embeddings_1  transmission_embeddings_2  odometer_log  \n",
       "0                       1.334532                   1.334532     11.653982  \n",
       "1                       1.275842                   1.275842     12.055476  \n",
       "2                       1.275842                   1.275842     11.934874  \n",
       "3                       1.334532                   1.334532     11.553290  \n",
       "4                       1.334532                   1.334532     11.881415  \n",
       "...                          ...                        ...           ...  \n",
       "27527                   1.275842                   1.275842     10.190957  \n",
       "27528                   1.275842                   1.275842     11.590562  \n",
       "27529                   1.275842                   1.275842     11.848747  \n",
       "27530                   1.275842                   1.275842     11.629170  \n",
       "27531                   1.275842                   1.275842     11.427520  \n",
       "\n",
       "[27532 rows x 65 columns]"
      ]
     },
     "execution_count": 40,
     "metadata": {},
     "output_type": "execute_result"
    }
   ],
   "source": [
    "train_prep"
   ]
  },
  {
   "cell_type": "code",
   "execution_count": 41,
   "metadata": {
    "colab": {
     "base_uri": "https://localhost:8080/"
    },
    "id": "3Hgzr8VSo8Vt",
    "outputId": "83c45f93-c8d0-4512-bc14-2d60c486bf99",
    "tags": []
   },
   "outputs": [
    {
     "data": {
      "text/plain": [
       "title_status\n",
       "clean         22365\n",
       "rebuilt        3004\n",
       "salvage         985\n",
       "lien            465\n",
       "parts only      133\n",
       "missing         124\n",
       "Name: count, dtype: int64"
      ]
     },
     "execution_count": 41,
     "metadata": {},
     "output_type": "execute_result"
    }
   ],
   "source": [
    "train_prep['title_status'].value_counts()"
   ]
  },
  {
   "cell_type": "code",
   "execution_count": 53,
   "metadata": {
    "tags": []
   },
   "outputs": [],
   "source": [
    "train_prep['title_status'] = train['title_status']"
   ]
  },
  {
   "cell_type": "code",
   "execution_count": 54,
   "metadata": {
    "tags": []
   },
   "outputs": [],
   "source": [
    "train_prep['title_status'].fillna('clean', inplace = True)"
   ]
  },
  {
   "cell_type": "code",
   "execution_count": 55,
   "metadata": {
    "tags": []
   },
   "outputs": [],
   "source": [
    "status_mapping = {'clean': 5, 'rebuilt': 4, 'parts only' : 3, 'salvage':2, 'lien': 1, 'missing':0}\n",
    "train_prep['title_status'] = train_prep['title_status'].map(status_mapping)"
   ]
  },
  {
   "cell_type": "code",
   "execution_count": 56,
   "metadata": {
    "tags": []
   },
   "outputs": [
    {
     "data": {
      "text/plain": [
       "0"
      ]
     },
     "execution_count": 56,
     "metadata": {},
     "output_type": "execute_result"
    }
   ],
   "source": [
    "train_prep['title_status'].isnull().sum()"
   ]
  },
  {
   "cell_type": "code",
   "execution_count": 59,
   "metadata": {
    "tags": []
   },
   "outputs": [
    {
     "data": {
      "text/html": [
       "<div>\n",
       "<style scoped>\n",
       "    .dataframe tbody tr th:only-of-type {\n",
       "        vertical-align: middle;\n",
       "    }\n",
       "\n",
       "    .dataframe tbody tr th {\n",
       "        vertical-align: top;\n",
       "    }\n",
       "\n",
       "    .dataframe thead th {\n",
       "        text-align: right;\n",
       "    }\n",
       "</style>\n",
       "<table border=\"1\" class=\"dataframe\">\n",
       "  <thead>\n",
       "    <tr style=\"text-align: right;\">\n",
       "      <th></th>\n",
       "      <th>id</th>\n",
       "      <th>year</th>\n",
       "      <th>manufacturer</th>\n",
       "      <th>condition</th>\n",
       "      <th>cylinders</th>\n",
       "      <th>fuel</th>\n",
       "      <th>odometer</th>\n",
       "      <th>title_status</th>\n",
       "      <th>transmission</th>\n",
       "      <th>drive</th>\n",
       "      <th>...</th>\n",
       "      <th>title_status_embeddings_3</th>\n",
       "      <th>fuel_embeddings_1</th>\n",
       "      <th>fuel_embeddings_2</th>\n",
       "      <th>fuel_embeddings_3</th>\n",
       "      <th>fuel_embeddings_1</th>\n",
       "      <th>fuel_embeddings_2</th>\n",
       "      <th>fuel_embeddings_3</th>\n",
       "      <th>transmission_embeddings_1</th>\n",
       "      <th>transmission_embeddings_2</th>\n",
       "      <th>odometer_log</th>\n",
       "    </tr>\n",
       "  </thead>\n",
       "  <tbody>\n",
       "    <tr>\n",
       "      <th>0</th>\n",
       "      <td>0</td>\n",
       "      <td>1949</td>\n",
       "      <td>bmw</td>\n",
       "      <td>5</td>\n",
       "      <td>6.0</td>\n",
       "      <td>gas</td>\n",
       "      <td>115148</td>\n",
       "      <td>5</td>\n",
       "      <td>manual</td>\n",
       "      <td>rwd</td>\n",
       "      <td>...</td>\n",
       "      <td>1.267552</td>\n",
       "      <td>1.184876</td>\n",
       "      <td>1.184876</td>\n",
       "      <td>1.184876</td>\n",
       "      <td>1.184876</td>\n",
       "      <td>1.184876</td>\n",
       "      <td>1.184876</td>\n",
       "      <td>1.334532</td>\n",
       "      <td>1.334532</td>\n",
       "      <td>11.653982</td>\n",
       "    </tr>\n",
       "    <tr>\n",
       "      <th>1</th>\n",
       "      <td>1</td>\n",
       "      <td>2013</td>\n",
       "      <td>toyota</td>\n",
       "      <td>1</td>\n",
       "      <td>8.0</td>\n",
       "      <td>gas</td>\n",
       "      <td>172038</td>\n",
       "      <td>5</td>\n",
       "      <td>automatic</td>\n",
       "      <td>rwd</td>\n",
       "      <td>...</td>\n",
       "      <td>1.267552</td>\n",
       "      <td>1.184876</td>\n",
       "      <td>1.184876</td>\n",
       "      <td>1.184876</td>\n",
       "      <td>1.184876</td>\n",
       "      <td>1.184876</td>\n",
       "      <td>1.184876</td>\n",
       "      <td>1.275842</td>\n",
       "      <td>1.275842</td>\n",
       "      <td>12.055476</td>\n",
       "    </tr>\n",
       "    <tr>\n",
       "      <th>2</th>\n",
       "      <td>2</td>\n",
       "      <td>1998</td>\n",
       "      <td>ford</td>\n",
       "      <td>2</td>\n",
       "      <td>6.0</td>\n",
       "      <td>gas</td>\n",
       "      <td>152492</td>\n",
       "      <td>5</td>\n",
       "      <td>automatic</td>\n",
       "      <td>fwd</td>\n",
       "      <td>...</td>\n",
       "      <td>1.267552</td>\n",
       "      <td>1.184876</td>\n",
       "      <td>1.184876</td>\n",
       "      <td>1.184876</td>\n",
       "      <td>1.184876</td>\n",
       "      <td>1.184876</td>\n",
       "      <td>1.184876</td>\n",
       "      <td>1.275842</td>\n",
       "      <td>1.275842</td>\n",
       "      <td>11.934874</td>\n",
       "    </tr>\n",
       "    <tr>\n",
       "      <th>3</th>\n",
       "      <td>3</td>\n",
       "      <td>2014</td>\n",
       "      <td>ford</td>\n",
       "      <td>5</td>\n",
       "      <td>4.0</td>\n",
       "      <td>gas</td>\n",
       "      <td>104118</td>\n",
       "      <td>5</td>\n",
       "      <td>manual</td>\n",
       "      <td>fwd</td>\n",
       "      <td>...</td>\n",
       "      <td>1.267552</td>\n",
       "      <td>1.184876</td>\n",
       "      <td>1.184876</td>\n",
       "      <td>1.184876</td>\n",
       "      <td>1.184876</td>\n",
       "      <td>1.184876</td>\n",
       "      <td>1.184876</td>\n",
       "      <td>1.334532</td>\n",
       "      <td>1.334532</td>\n",
       "      <td>11.553290</td>\n",
       "    </tr>\n",
       "    <tr>\n",
       "      <th>4</th>\n",
       "      <td>4</td>\n",
       "      <td>2005</td>\n",
       "      <td>ford</td>\n",
       "      <td>5</td>\n",
       "      <td>6.0</td>\n",
       "      <td>gas</td>\n",
       "      <td>144554</td>\n",
       "      <td>5</td>\n",
       "      <td>manual</td>\n",
       "      <td>fwd</td>\n",
       "      <td>...</td>\n",
       "      <td>1.267552</td>\n",
       "      <td>1.184876</td>\n",
       "      <td>1.184876</td>\n",
       "      <td>1.184876</td>\n",
       "      <td>1.184876</td>\n",
       "      <td>1.184876</td>\n",
       "      <td>1.184876</td>\n",
       "      <td>1.334532</td>\n",
       "      <td>1.334532</td>\n",
       "      <td>11.881415</td>\n",
       "    </tr>\n",
       "    <tr>\n",
       "      <th>...</th>\n",
       "      <td>...</td>\n",
       "      <td>...</td>\n",
       "      <td>...</td>\n",
       "      <td>...</td>\n",
       "      <td>...</td>\n",
       "      <td>...</td>\n",
       "      <td>...</td>\n",
       "      <td>...</td>\n",
       "      <td>...</td>\n",
       "      <td>...</td>\n",
       "      <td>...</td>\n",
       "      <td>...</td>\n",
       "      <td>...</td>\n",
       "      <td>...</td>\n",
       "      <td>...</td>\n",
       "      <td>...</td>\n",
       "      <td>...</td>\n",
       "      <td>...</td>\n",
       "      <td>...</td>\n",
       "      <td>...</td>\n",
       "      <td>...</td>\n",
       "    </tr>\n",
       "    <tr>\n",
       "      <th>27527</th>\n",
       "      <td>27527</td>\n",
       "      <td>2008</td>\n",
       "      <td>ford</td>\n",
       "      <td>2</td>\n",
       "      <td>6.0</td>\n",
       "      <td>gas</td>\n",
       "      <td>26660</td>\n",
       "      <td>5</td>\n",
       "      <td>automatic</td>\n",
       "      <td>rwd</td>\n",
       "      <td>...</td>\n",
       "      <td>1.267552</td>\n",
       "      <td>1.184876</td>\n",
       "      <td>1.184876</td>\n",
       "      <td>1.184876</td>\n",
       "      <td>1.184876</td>\n",
       "      <td>1.184876</td>\n",
       "      <td>1.184876</td>\n",
       "      <td>1.275842</td>\n",
       "      <td>1.275842</td>\n",
       "      <td>10.190957</td>\n",
       "    </tr>\n",
       "    <tr>\n",
       "      <th>27528</th>\n",
       "      <td>27528</td>\n",
       "      <td>2007</td>\n",
       "      <td>ford</td>\n",
       "      <td>5</td>\n",
       "      <td>8.0</td>\n",
       "      <td>gas</td>\n",
       "      <td>108072</td>\n",
       "      <td>5</td>\n",
       "      <td>automatic</td>\n",
       "      <td>rwd</td>\n",
       "      <td>...</td>\n",
       "      <td>1.267552</td>\n",
       "      <td>1.184876</td>\n",
       "      <td>1.184876</td>\n",
       "      <td>1.184876</td>\n",
       "      <td>1.184876</td>\n",
       "      <td>1.184876</td>\n",
       "      <td>1.184876</td>\n",
       "      <td>1.275842</td>\n",
       "      <td>1.275842</td>\n",
       "      <td>11.590562</td>\n",
       "    </tr>\n",
       "    <tr>\n",
       "      <th>27529</th>\n",
       "      <td>27529</td>\n",
       "      <td>2019</td>\n",
       "      <td>jeep</td>\n",
       "      <td>4</td>\n",
       "      <td>6.0</td>\n",
       "      <td>gas</td>\n",
       "      <td>139908</td>\n",
       "      <td>5</td>\n",
       "      <td>automatic</td>\n",
       "      <td>4wd</td>\n",
       "      <td>...</td>\n",
       "      <td>1.267552</td>\n",
       "      <td>1.184876</td>\n",
       "      <td>1.184876</td>\n",
       "      <td>1.184876</td>\n",
       "      <td>1.184876</td>\n",
       "      <td>1.184876</td>\n",
       "      <td>1.184876</td>\n",
       "      <td>1.275842</td>\n",
       "      <td>1.275842</td>\n",
       "      <td>11.848747</td>\n",
       "    </tr>\n",
       "    <tr>\n",
       "      <th>27530</th>\n",
       "      <td>27530</td>\n",
       "      <td>2007</td>\n",
       "      <td>jeep</td>\n",
       "      <td>5</td>\n",
       "      <td>6.0</td>\n",
       "      <td>gas</td>\n",
       "      <td>112326</td>\n",
       "      <td>5</td>\n",
       "      <td>automatic</td>\n",
       "      <td>4wd</td>\n",
       "      <td>...</td>\n",
       "      <td>1.267552</td>\n",
       "      <td>1.184876</td>\n",
       "      <td>1.184876</td>\n",
       "      <td>1.184876</td>\n",
       "      <td>1.184876</td>\n",
       "      <td>1.184876</td>\n",
       "      <td>1.184876</td>\n",
       "      <td>1.275842</td>\n",
       "      <td>1.275842</td>\n",
       "      <td>11.629170</td>\n",
       "    </tr>\n",
       "    <tr>\n",
       "      <th>27531</th>\n",
       "      <td>27531</td>\n",
       "      <td>2009</td>\n",
       "      <td>chevrolet</td>\n",
       "      <td>5</td>\n",
       "      <td>8.0</td>\n",
       "      <td>gas</td>\n",
       "      <td>91813</td>\n",
       "      <td>4</td>\n",
       "      <td>automatic</td>\n",
       "      <td>rwd</td>\n",
       "      <td>...</td>\n",
       "      <td>1.322173</td>\n",
       "      <td>1.184876</td>\n",
       "      <td>1.184876</td>\n",
       "      <td>1.184876</td>\n",
       "      <td>1.184876</td>\n",
       "      <td>1.184876</td>\n",
       "      <td>1.184876</td>\n",
       "      <td>1.275842</td>\n",
       "      <td>1.275842</td>\n",
       "      <td>11.427520</td>\n",
       "    </tr>\n",
       "  </tbody>\n",
       "</table>\n",
       "<p>27532 rows × 65 columns</p>\n",
       "</div>"
      ],
      "text/plain": [
       "          id  year manufacturer  condition  cylinders fuel  odometer   \n",
       "0          0  1949          bmw          5        6.0  gas    115148  \\\n",
       "1          1  2013       toyota          1        8.0  gas    172038   \n",
       "2          2  1998         ford          2        6.0  gas    152492   \n",
       "3          3  2014         ford          5        4.0  gas    104118   \n",
       "4          4  2005         ford          5        6.0  gas    144554   \n",
       "...      ...   ...          ...        ...        ...  ...       ...   \n",
       "27527  27527  2008         ford          2        6.0  gas     26660   \n",
       "27528  27528  2007         ford          5        8.0  gas    108072   \n",
       "27529  27529  2019         jeep          4        6.0  gas    139908   \n",
       "27530  27530  2007         jeep          5        6.0  gas    112326   \n",
       "27531  27531  2009    chevrolet          5        8.0  gas     91813   \n",
       "\n",
       "       title_status transmission drive  ... title_status_embeddings_3   \n",
       "0                 5       manual   rwd  ...                  1.267552  \\\n",
       "1                 5    automatic   rwd  ...                  1.267552   \n",
       "2                 5    automatic   fwd  ...                  1.267552   \n",
       "3                 5       manual   fwd  ...                  1.267552   \n",
       "4                 5       manual   fwd  ...                  1.267552   \n",
       "...             ...          ...   ...  ...                       ...   \n",
       "27527             5    automatic   rwd  ...                  1.267552   \n",
       "27528             5    automatic   rwd  ...                  1.267552   \n",
       "27529             5    automatic   4wd  ...                  1.267552   \n",
       "27530             5    automatic   4wd  ...                  1.267552   \n",
       "27531             4    automatic   rwd  ...                  1.322173   \n",
       "\n",
       "       fuel_embeddings_1  fuel_embeddings_2  fuel_embeddings_3   \n",
       "0               1.184876           1.184876           1.184876  \\\n",
       "1               1.184876           1.184876           1.184876   \n",
       "2               1.184876           1.184876           1.184876   \n",
       "3               1.184876           1.184876           1.184876   \n",
       "4               1.184876           1.184876           1.184876   \n",
       "...                  ...                ...                ...   \n",
       "27527           1.184876           1.184876           1.184876   \n",
       "27528           1.184876           1.184876           1.184876   \n",
       "27529           1.184876           1.184876           1.184876   \n",
       "27530           1.184876           1.184876           1.184876   \n",
       "27531           1.184876           1.184876           1.184876   \n",
       "\n",
       "       fuel_embeddings_1  fuel_embeddings_2  fuel_embeddings_3   \n",
       "0               1.184876           1.184876           1.184876  \\\n",
       "1               1.184876           1.184876           1.184876   \n",
       "2               1.184876           1.184876           1.184876   \n",
       "3               1.184876           1.184876           1.184876   \n",
       "4               1.184876           1.184876           1.184876   \n",
       "...                  ...                ...                ...   \n",
       "27527           1.184876           1.184876           1.184876   \n",
       "27528           1.184876           1.184876           1.184876   \n",
       "27529           1.184876           1.184876           1.184876   \n",
       "27530           1.184876           1.184876           1.184876   \n",
       "27531           1.184876           1.184876           1.184876   \n",
       "\n",
       "       transmission_embeddings_1  transmission_embeddings_2  odometer_log  \n",
       "0                       1.334532                   1.334532     11.653982  \n",
       "1                       1.275842                   1.275842     12.055476  \n",
       "2                       1.275842                   1.275842     11.934874  \n",
       "3                       1.334532                   1.334532     11.553290  \n",
       "4                       1.334532                   1.334532     11.881415  \n",
       "...                          ...                        ...           ...  \n",
       "27527                   1.275842                   1.275842     10.190957  \n",
       "27528                   1.275842                   1.275842     11.590562  \n",
       "27529                   1.275842                   1.275842     11.848747  \n",
       "27530                   1.275842                   1.275842     11.629170  \n",
       "27531                   1.275842                   1.275842     11.427520  \n",
       "\n",
       "[27532 rows x 65 columns]"
      ]
     },
     "execution_count": 59,
     "metadata": {},
     "output_type": "execute_result"
    }
   ],
   "source": [
    "train_prep"
   ]
  },
  {
   "cell_type": "code",
   "execution_count": null,
   "metadata": {
    "id": "mvGUNQlM62ji"
   },
   "outputs": [],
   "source": [
    "\n",
    "\n",
    "def data_wrangler(df: pd.DataFrame):\n",
    "    df_prep = df.drop(['id','region','state'], axis=1)\n",
    "    df_prep['manufacturer'] = df_prep['manufacturer'].apply(preprocess_text)\n",
    "    col_to_keep = []\n",
    "    for brand, values in dict(df_prep['manufacturer'].value_counts()).items():\n",
    "        if values >= 1000:\n",
    "            col_to_keep.append(brand)\n",
    "    df_prep['manufacturer'] = df_prep['manufacturer'].apply(lambda x: 'other' if x not in col_to_keep else x)\n",
    "    df_prep['size'] = df_prep['size'].apply(preprocess_text)\n",
    "    df_prep['cylinders'] = df_prep['cylinders'].str.extract(r'(\\d+)').astype(float).fillna(0)\n",
    "    df_prep['condition'] = df_prep['condition'].apply(lambda x: 'fair' if x == 'salvage' else 'new' if x == 'like new' else x)\n",
    "    condition_encoder = LabelEncoder()\n",
    "    df_prep['condition'] = condition_encoder.fit_transform(df_prep['condition'])\n",
    "    cols_to_ohe = ['manufacturer', 'fuel', 'title_status', 'transmission', 'drive', 'size', 'type', 'paint_color']\n",
    "    df_prep = pd.get_dummies(df_prep, columns=cols_to_ohe)\n",
    "    useless_cols = ['manufacturer_other', 'fuel_other', 'title_status_parts only', 'transmission_other',\n",
    "                'drive_rwd', 'size_sub-compact', 'type_other', 'paint_color_purple']\n",
    "\n",
    "    return df_prep.drop(columns=useless_cols, axis=1)"
   ]
  },
  {
   "cell_type": "code",
   "execution_count": null,
   "metadata": {
    "id": "NI3aXVlvbCV2"
   },
   "outputs": [],
   "source": [
    "train_prep = data_wrangler(train)\n",
    "test_prep = data_wrangler(test)"
   ]
  },
  {
   "cell_type": "code",
   "execution_count": null,
   "metadata": {
    "colab": {
     "base_uri": "https://localhost:8080/"
    },
    "id": "5iKfV9zqc1Uo",
    "outputId": "e48a2a99-9bdf-4b27-9d25-72961a7b5ffb"
   },
   "outputs": [
    {
     "name": "stdout",
     "output_type": "stream",
     "text": [
      "(27532, 52)\n",
      "(27537, 51)\n"
     ]
    }
   ],
   "source": [
    "print(train_prep.shape)\n",
    "print(test_prep.shape)"
   ]
  },
  {
   "cell_type": "code",
   "execution_count": 22,
   "metadata": {
    "colab": {
     "base_uri": "https://localhost:8080/"
    },
    "id": "mN4kJj07fLFX",
    "outputId": "a6afd367-5de3-456b-c5b8-99e88b6baf53",
    "tags": []
   },
   "outputs": [
    {
     "name": "stdout",
     "output_type": "stream",
     "text": [
      "Collecting lightgbm\n",
      "  Downloading lightgbm-4.0.0-py3-none-manylinux_2_28_x86_64.whl (3.0 MB)\n",
      "\u001b[2K     \u001b[90m━━━━━━━━━━━━━━━━━━━━━━━━━━━━━━━━━━━━━━━━\u001b[0m \u001b[32m3.0/3.0 MB\u001b[0m \u001b[31m40.7 MB/s\u001b[0m eta \u001b[36m0:00:00\u001b[0m00:01\u001b[0m00:01\u001b[0m\n",
      "\u001b[?25hRequirement already satisfied: numpy in /home/studio-lab-user/.conda/envs/tf-gpu-310/lib/python3.10/site-packages (from lightgbm) (1.24.3)\n",
      "Requirement already satisfied: scipy in /home/studio-lab-user/.conda/envs/tf-gpu-310/lib/python3.10/site-packages (from lightgbm) (1.10.1)\n",
      "Installing collected packages: lightgbm\n",
      "Successfully installed lightgbm-4.0.0\n"
     ]
    }
   ],
   "source": [
    "! pip install lightgbm\n"
   ]
  },
  {
   "cell_type": "code",
   "execution_count": 6,
   "metadata": {
    "tags": []
   },
   "outputs": [],
   "source": [
    "train_prep = pd.read_csv('prep_1.csv')"
   ]
  },
  {
   "cell_type": "code",
   "execution_count": 10,
   "metadata": {
    "tags": []
   },
   "outputs": [
    {
     "data": {
      "text/html": [
       "<div>\n",
       "<style scoped>\n",
       "    .dataframe tbody tr th:only-of-type {\n",
       "        vertical-align: middle;\n",
       "    }\n",
       "\n",
       "    .dataframe tbody tr th {\n",
       "        vertical-align: top;\n",
       "    }\n",
       "\n",
       "    .dataframe thead th {\n",
       "        text-align: right;\n",
       "    }\n",
       "</style>\n",
       "<table border=\"1\" class=\"dataframe\">\n",
       "  <thead>\n",
       "    <tr style=\"text-align: right;\">\n",
       "      <th></th>\n",
       "      <th>id</th>\n",
       "      <th>region</th>\n",
       "      <th>year</th>\n",
       "      <th>manufacturer</th>\n",
       "      <th>condition</th>\n",
       "      <th>cylinders</th>\n",
       "      <th>fuel</th>\n",
       "      <th>odometer</th>\n",
       "      <th>title_status</th>\n",
       "      <th>transmission</th>\n",
       "      <th>drive</th>\n",
       "      <th>size</th>\n",
       "      <th>type</th>\n",
       "      <th>paint_color</th>\n",
       "      <th>state</th>\n",
       "      <th>price</th>\n",
       "    </tr>\n",
       "  </thead>\n",
       "  <tbody>\n",
       "    <tr>\n",
       "      <th>0</th>\n",
       "      <td>0</td>\n",
       "      <td>nashville</td>\n",
       "      <td>1949</td>\n",
       "      <td>bmw</td>\n",
       "      <td>excellent</td>\n",
       "      <td>6 cylinders</td>\n",
       "      <td>gas</td>\n",
       "      <td>115148</td>\n",
       "      <td>clean</td>\n",
       "      <td>manual</td>\n",
       "      <td>rwd</td>\n",
       "      <td>mid-size</td>\n",
       "      <td>convertible</td>\n",
       "      <td>orange</td>\n",
       "      <td>NaN</td>\n",
       "      <td>27587</td>\n",
       "    </tr>\n",
       "    <tr>\n",
       "      <th>1</th>\n",
       "      <td>1</td>\n",
       "      <td>state college</td>\n",
       "      <td>2013</td>\n",
       "      <td>toyota</td>\n",
       "      <td>fair</td>\n",
       "      <td>8 cylinders</td>\n",
       "      <td>gas</td>\n",
       "      <td>172038</td>\n",
       "      <td>clean</td>\n",
       "      <td>automatic</td>\n",
       "      <td>rwd</td>\n",
       "      <td>full-size</td>\n",
       "      <td>sedan</td>\n",
       "      <td>silver</td>\n",
       "      <td>pa</td>\n",
       "      <td>4724</td>\n",
       "    </tr>\n",
       "    <tr>\n",
       "      <th>2</th>\n",
       "      <td>2</td>\n",
       "      <td>wichita</td>\n",
       "      <td>1998</td>\n",
       "      <td>ford</td>\n",
       "      <td>good</td>\n",
       "      <td>6 cylinders</td>\n",
       "      <td>gas</td>\n",
       "      <td>152492</td>\n",
       "      <td>clean</td>\n",
       "      <td>automatic</td>\n",
       "      <td>fwd</td>\n",
       "      <td>full-size</td>\n",
       "      <td>SUV</td>\n",
       "      <td>silver</td>\n",
       "      <td>ks</td>\n",
       "      <td>10931</td>\n",
       "    </tr>\n",
       "    <tr>\n",
       "      <th>3</th>\n",
       "      <td>3</td>\n",
       "      <td>albany</td>\n",
       "      <td>2014</td>\n",
       "      <td>ford</td>\n",
       "      <td>excellent</td>\n",
       "      <td>4 cylinders</td>\n",
       "      <td>gas</td>\n",
       "      <td>104118</td>\n",
       "      <td>clean</td>\n",
       "      <td>manual</td>\n",
       "      <td>fwd</td>\n",
       "      <td>mid-size</td>\n",
       "      <td>SUV</td>\n",
       "      <td>blue</td>\n",
       "      <td>ny</td>\n",
       "      <td>16553</td>\n",
       "    </tr>\n",
       "    <tr>\n",
       "      <th>4</th>\n",
       "      <td>4</td>\n",
       "      <td>redding</td>\n",
       "      <td>2005</td>\n",
       "      <td>ford</td>\n",
       "      <td>excellent</td>\n",
       "      <td>6 cylinders</td>\n",
       "      <td>gas</td>\n",
       "      <td>144554</td>\n",
       "      <td>clean</td>\n",
       "      <td>manual</td>\n",
       "      <td>fwd</td>\n",
       "      <td>mid-size</td>\n",
       "      <td>sedan</td>\n",
       "      <td>red</td>\n",
       "      <td>ca</td>\n",
       "      <td>5158</td>\n",
       "    </tr>\n",
       "    <tr>\n",
       "      <th>...</th>\n",
       "      <td>...</td>\n",
       "      <td>...</td>\n",
       "      <td>...</td>\n",
       "      <td>...</td>\n",
       "      <td>...</td>\n",
       "      <td>...</td>\n",
       "      <td>...</td>\n",
       "      <td>...</td>\n",
       "      <td>...</td>\n",
       "      <td>...</td>\n",
       "      <td>...</td>\n",
       "      <td>...</td>\n",
       "      <td>...</td>\n",
       "      <td>...</td>\n",
       "      <td>...</td>\n",
       "      <td>...</td>\n",
       "    </tr>\n",
       "    <tr>\n",
       "      <th>27527</th>\n",
       "      <td>27527</td>\n",
       "      <td>williamsport</td>\n",
       "      <td>2008</td>\n",
       "      <td>ford</td>\n",
       "      <td>good</td>\n",
       "      <td>6 cylinders</td>\n",
       "      <td>gas</td>\n",
       "      <td>26660</td>\n",
       "      <td>clean</td>\n",
       "      <td>automatic</td>\n",
       "      <td>rwd</td>\n",
       "      <td>compact</td>\n",
       "      <td>truck</td>\n",
       "      <td>black</td>\n",
       "      <td>pa</td>\n",
       "      <td>32212</td>\n",
       "    </tr>\n",
       "    <tr>\n",
       "      <th>27528</th>\n",
       "      <td>27528</td>\n",
       "      <td>tulsa</td>\n",
       "      <td>2007</td>\n",
       "      <td>ford</td>\n",
       "      <td>excellent</td>\n",
       "      <td>8 cylinders</td>\n",
       "      <td>gas</td>\n",
       "      <td>108072</td>\n",
       "      <td>clean</td>\n",
       "      <td>automatic</td>\n",
       "      <td>rwd</td>\n",
       "      <td>full-size</td>\n",
       "      <td>pickup</td>\n",
       "      <td>black</td>\n",
       "      <td>NaN</td>\n",
       "      <td>5400</td>\n",
       "    </tr>\n",
       "    <tr>\n",
       "      <th>27529</th>\n",
       "      <td>27529</td>\n",
       "      <td>rochester</td>\n",
       "      <td>2019</td>\n",
       "      <td>jeep</td>\n",
       "      <td>like new</td>\n",
       "      <td>6 cylinders</td>\n",
       "      <td>gas</td>\n",
       "      <td>139908</td>\n",
       "      <td>clean</td>\n",
       "      <td>automatic</td>\n",
       "      <td>4wd</td>\n",
       "      <td>mid-size</td>\n",
       "      <td>SUV</td>\n",
       "      <td>white</td>\n",
       "      <td>ny</td>\n",
       "      <td>22227</td>\n",
       "    </tr>\n",
       "    <tr>\n",
       "      <th>27530</th>\n",
       "      <td>27530</td>\n",
       "      <td>rochester</td>\n",
       "      <td>2007</td>\n",
       "      <td>jeep</td>\n",
       "      <td>excellent</td>\n",
       "      <td>6 cylinders</td>\n",
       "      <td>gas</td>\n",
       "      <td>112326</td>\n",
       "      <td>clean</td>\n",
       "      <td>automatic</td>\n",
       "      <td>4wd</td>\n",
       "      <td>mid-size</td>\n",
       "      <td>sedan</td>\n",
       "      <td>white</td>\n",
       "      <td>ny</td>\n",
       "      <td>3054</td>\n",
       "    </tr>\n",
       "    <tr>\n",
       "      <th>27531</th>\n",
       "      <td>27531</td>\n",
       "      <td>orange county</td>\n",
       "      <td>2009</td>\n",
       "      <td>chevrolet</td>\n",
       "      <td>excellent</td>\n",
       "      <td>8 cylinders</td>\n",
       "      <td>gas</td>\n",
       "      <td>91813</td>\n",
       "      <td>rebuilt</td>\n",
       "      <td>automatic</td>\n",
       "      <td>rwd</td>\n",
       "      <td>full-size</td>\n",
       "      <td>van</td>\n",
       "      <td>white</td>\n",
       "      <td>ca</td>\n",
       "      <td>20801</td>\n",
       "    </tr>\n",
       "  </tbody>\n",
       "</table>\n",
       "<p>27532 rows × 16 columns</p>\n",
       "</div>"
      ],
      "text/plain": [
       "          id         region  year manufacturer  condition    cylinders fuel   \n",
       "0          0      nashville  1949          bmw  excellent  6 cylinders  gas  \\\n",
       "1          1  state college  2013       toyota       fair  8 cylinders  gas   \n",
       "2          2        wichita  1998         ford       good  6 cylinders  gas   \n",
       "3          3         albany  2014         ford  excellent  4 cylinders  gas   \n",
       "4          4        redding  2005         ford  excellent  6 cylinders  gas   \n",
       "...      ...            ...   ...          ...        ...          ...  ...   \n",
       "27527  27527   williamsport  2008         ford       good  6 cylinders  gas   \n",
       "27528  27528          tulsa  2007         ford  excellent  8 cylinders  gas   \n",
       "27529  27529      rochester  2019         jeep   like new  6 cylinders  gas   \n",
       "27530  27530      rochester  2007         jeep  excellent  6 cylinders  gas   \n",
       "27531  27531  orange county  2009    chevrolet  excellent  8 cylinders  gas   \n",
       "\n",
       "       odometer title_status transmission drive       size         type   \n",
       "0        115148        clean       manual   rwd   mid-size  convertible  \\\n",
       "1        172038        clean    automatic   rwd  full-size        sedan   \n",
       "2        152492        clean    automatic   fwd  full-size          SUV   \n",
       "3        104118        clean       manual   fwd   mid-size          SUV   \n",
       "4        144554        clean       manual   fwd   mid-size        sedan   \n",
       "...         ...          ...          ...   ...        ...          ...   \n",
       "27527     26660        clean    automatic   rwd    compact        truck   \n",
       "27528    108072        clean    automatic   rwd  full-size       pickup   \n",
       "27529    139908        clean    automatic   4wd   mid-size          SUV   \n",
       "27530    112326        clean    automatic   4wd   mid-size        sedan   \n",
       "27531     91813      rebuilt    automatic   rwd  full-size          van   \n",
       "\n",
       "      paint_color state  price  \n",
       "0          orange   NaN  27587  \n",
       "1          silver    pa   4724  \n",
       "2          silver    ks  10931  \n",
       "3            blue    ny  16553  \n",
       "4             red    ca   5158  \n",
       "...           ...   ...    ...  \n",
       "27527       black    pa  32212  \n",
       "27528       black   NaN   5400  \n",
       "27529       white    ny  22227  \n",
       "27530       white    ny   3054  \n",
       "27531       white    ca  20801  \n",
       "\n",
       "[27532 rows x 16 columns]"
      ]
     },
     "execution_count": 10,
     "metadata": {},
     "output_type": "execute_result"
    }
   ],
   "source": [
    "train"
   ]
  },
  {
   "cell_type": "code",
   "execution_count": 12,
   "metadata": {
    "tags": []
   },
   "outputs": [
    {
     "name": "stderr",
     "output_type": "stream",
     "text": [
      "2023-08-09 20:50:56.992897: W tensorflow/compiler/xla/stream_executor/platform/default/dso_loader.cc:64] Could not load dynamic library 'libcuda.so.1'; dlerror: libcuda.so.1: cannot open shared object file: No such file or directory\n",
      "2023-08-09 20:50:56.993789: W tensorflow/compiler/xla/stream_executor/cuda/cuda_driver.cc:265] failed call to cuInit: UNKNOWN ERROR (303)\n",
      "2023-08-09 20:50:56.993843: I tensorflow/compiler/xla/stream_executor/cuda/cuda_diagnostics.cc:156] kernel driver does not appear to be running on this host (default): /proc/driver/nvidia/version does not exist\n",
      "2023-08-09 20:50:56.994924: I tensorflow/core/platform/cpu_feature_guard.cc:193] This TensorFlow binary is optimized with oneAPI Deep Neural Network Library (oneDNN) to use the following CPU instructions in performance-critical operations:  SSE4.1 SSE4.2 AVX AVX2 AVX512F FMA\n",
      "To enable them in other operations, rebuild TensorFlow with the appropriate compiler flags.\n"
     ]
    }
   ],
   "source": [
    "drive_embeddings = generate_embeddings(train_prep, 'drive', 'drive_embeddings')"
   ]
  },
  {
   "cell_type": "code",
   "execution_count": 13,
   "metadata": {
    "tags": []
   },
   "outputs": [],
   "source": [
    "train_prep = pd.concat([train_prep, drive_embeddings], axis =1)"
   ]
  },
  {
   "cell_type": "code",
   "execution_count": 14,
   "metadata": {
    "tags": []
   },
   "outputs": [
    {
     "data": {
      "text/html": [
       "<div>\n",
       "<style scoped>\n",
       "    .dataframe tbody tr th:only-of-type {\n",
       "        vertical-align: middle;\n",
       "    }\n",
       "\n",
       "    .dataframe tbody tr th {\n",
       "        vertical-align: top;\n",
       "    }\n",
       "\n",
       "    .dataframe thead th {\n",
       "        text-align: right;\n",
       "    }\n",
       "</style>\n",
       "<table border=\"1\" class=\"dataframe\">\n",
       "  <thead>\n",
       "    <tr style=\"text-align: right;\">\n",
       "      <th></th>\n",
       "      <th>drive_embeddings_1</th>\n",
       "      <th>drive_embeddings_2</th>\n",
       "    </tr>\n",
       "  </thead>\n",
       "  <tbody>\n",
       "    <tr>\n",
       "      <th>0</th>\n",
       "      <td>1.739187</td>\n",
       "      <td>1.739187</td>\n",
       "    </tr>\n",
       "    <tr>\n",
       "      <th>1</th>\n",
       "      <td>1.739187</td>\n",
       "      <td>1.739187</td>\n",
       "    </tr>\n",
       "    <tr>\n",
       "      <th>2</th>\n",
       "      <td>1.618928</td>\n",
       "      <td>1.618928</td>\n",
       "    </tr>\n",
       "    <tr>\n",
       "      <th>3</th>\n",
       "      <td>1.618928</td>\n",
       "      <td>1.618928</td>\n",
       "    </tr>\n",
       "    <tr>\n",
       "      <th>4</th>\n",
       "      <td>1.618928</td>\n",
       "      <td>1.618928</td>\n",
       "    </tr>\n",
       "  </tbody>\n",
       "</table>\n",
       "</div>"
      ],
      "text/plain": [
       "   drive_embeddings_1  drive_embeddings_2\n",
       "0            1.739187            1.739187\n",
       "1            1.739187            1.739187\n",
       "2            1.618928            1.618928\n",
       "3            1.618928            1.618928\n",
       "4            1.618928            1.618928"
      ]
     },
     "execution_count": 14,
     "metadata": {},
     "output_type": "execute_result"
    }
   ],
   "source": [
    "drive_embeddings.head()"
   ]
  },
  {
   "cell_type": "code",
   "execution_count": 15,
   "metadata": {
    "tags": []
   },
   "outputs": [
    {
     "data": {
      "text/plain": [
       "Index(['id', 'year', 'manufacturer', 'condition', 'cylinders', 'fuel',\n",
       "       'odometer', 'title_status', 'transmission', 'drive', 'size', 'type',\n",
       "       'paint_color', 'price', 'latitude', 'longitude', 'car_age',\n",
       "       'automatic_transmission', 'manual_transmission', 'gas_fueled',\n",
       "       'diesel_fueled', 'hybrid_fueled', 'electric_fueled',\n",
       "       'front_wheel_drive', 'four_wheel_drive', 'paint_embeddings_1',\n",
       "       'paint_embeddings_2', 'paint_embeddings_3', 'paint_embeddings_4',\n",
       "       'paint_embeddings_5', 'paint_embeddings_6', 'brand_embeddings_1',\n",
       "       'brand_embeddings_2', 'brand_embeddings_3', 'brand_embeddings_4',\n",
       "       'brand_embeddings_5', 'brand_embeddings_6', 'brand_embeddings_7',\n",
       "       'brand_embeddings_8', 'brand_embeddings_9', 'brand_embeddings_10',\n",
       "       'brand_embeddings_11', 'brand_embeddings_12', 'brand_embeddings_13',\n",
       "       'type_embeddings_1', 'type_embeddings_2', 'type_embeddings_3',\n",
       "       'type_embeddings_4', 'type_embeddings_5', 'type_embeddings_6',\n",
       "       'type_embeddings_7', 'size_embeddings_1', 'size_embeddings_2',\n",
       "       'title_status_embeddings_1', 'title_status_embeddings_2',\n",
       "       'title_status_embeddings_3', 'fuel_embeddings_1', 'fuel_embeddings_2',\n",
       "       'fuel_embeddings_3', 'fuel_embeddings_1.1', 'fuel_embeddings_2.1',\n",
       "       'fuel_embeddings_3.1', 'transmission_embeddings_1',\n",
       "       'transmission_embeddings_2', 'odometer_log', 'drive_embeddings_1',\n",
       "       'drive_embeddings_2'],\n",
       "      dtype='object')"
      ]
     },
     "execution_count": 15,
     "metadata": {},
     "output_type": "execute_result"
    }
   ],
   "source": [
    "train_prep.columns"
   ]
  },
  {
   "cell_type": "code",
   "execution_count": 43,
   "metadata": {
    "tags": []
   },
   "outputs": [],
   "source": [
    "X = train_prep.drop(['id', 'year', 'manufacturer', 'fuel', 'odometer_log', 'transmission', 'drive',\n",
    "                 'size', 'type','paint_color', 'price', 'fuel_embeddings_1.1', 'fuel_embeddings_2.1',\n",
    "                 'fuel_embeddings_3.1'], axis = 1)\n",
    "y = train_prep['price']"
   ]
  },
  {
   "cell_type": "code",
   "execution_count": 46,
   "metadata": {
    "tags": []
   },
   "outputs": [],
   "source": [
    "from sklearn.model_selection import train_test_split, GridSearchCV, cross_val_score"
   ]
  },
  {
   "cell_type": "code",
   "execution_count": 23,
   "metadata": {
    "id": "TYTbR6RTc1M9",
    "tags": []
   },
   "outputs": [],
   "source": [
    "import pandas as pd\n",
    "import numpy as np\n",
    "from sklearn.model_selection import cross_val_predict, KFold, GridSearchCV\n",
    "from sklearn.ensemble import RandomForestRegressor\n",
    "import xgboost as xgb\n",
    "import lightgbm as lgb\n",
    "import catboost as cb\n",
    "\n",
    "def mape(y_true, y_pred):\n",
    "    return np.mean(np.abs((y_true - y_pred) / y_true)) * 100\n",
    "\n",
    "def mape_scorer(estimator, X, y_true):\n",
    "    y_pred = estimator.predict(X)\n",
    "    return mape(y_true, y_pred)\n",
    "\n",
    "def baseline_models_cv(X, y):\n",
    "    # Define the baseline models\n",
    "    models = {\n",
    "        'Random Forest': RandomForestRegressor(random_state=42),\n",
    "        'XGBoost': xgb.XGBRegressor(random_state=42),\n",
    "        'LightGBM': lgb.LGBMRegressor(random_state=42),\n",
    "        'CatBoost': cb.CatBoostRegressor(random_state=42, verbose=0)\n",
    "    }\n",
    "\n",
    "    # Perform 5-fold cross-validation and compute MAPE for each model\n",
    "    cv = KFold(n_splits=5, shuffle=True, random_state=42)\n",
    "    results = {}\n",
    "    for model_name, model in models.items():\n",
    "        scores = cross_val_predict(model, X, y, cv=cv, method='predict', n_jobs=-1, verbose=0)\n",
    "        mape_score = mape(y, scores)\n",
    "        results[model_name] = mape_score\n",
    "\n",
    "    return results"
   ]
  },
  {
   "cell_type": "code",
   "execution_count": null,
   "metadata": {
    "id": "Z3DQbW-SfoIt"
   },
   "outputs": [],
   "source": [
    "X = train_prep.drop('price', axis = 1)\n",
    "y = train_prep['price']"
   ]
  },
  {
   "cell_type": "code",
   "execution_count": 44,
   "metadata": {
    "colab": {
     "base_uri": "https://localhost:8080/"
    },
    "id": "Gvk7Mbqkc1Hv",
    "outputId": "b7759760-4bda-4b2e-d8b3-230f208f2906",
    "tags": []
   },
   "outputs": [
    {
     "name": "stdout",
     "output_type": "stream",
     "text": [
      "[LightGBM] [Warning] Auto-choosing row-wise multi-threading, the overhead of testing was 0.004286 seconds.\n",
      "You can set `force_row_wise=true` to remove the overhead.\n",
      "And if memory is not enough, you can set `force_col_wise=true`.\n",
      "[LightGBM] [Info] Total Bins 1428\n",
      "[LightGBM] [Info] Number of data points in the train set: 22026, number of used features: 52\n",
      "[LightGBM] [Info] Start training from score 13374.692318\n",
      "[LightGBM] [Warning] Auto-choosing col-wise multi-threading, the overhead of testing was 0.058796 seconds.\n",
      "You can set `force_col_wise=true` to remove the overhead.\n",
      "[LightGBM] [Info] Total Bins 1428\n",
      "[LightGBM] [Info] Number of data points in the train set: 22025, number of used features: 52\n",
      "[LightGBM] [Info] Start training from score 13477.637321\n",
      "[LightGBM] [Warning] Auto-choosing col-wise multi-threading, the overhead of testing was 0.022106 seconds.\n",
      "You can set `force_col_wise=true` to remove the overhead.\n",
      "[LightGBM] [Info] Total Bins 1432\n",
      "[LightGBM] [Info] Number of data points in the train set: 22026, number of used features: 52\n",
      "[LightGBM] [Info] Start training from score 13509.237038\n",
      "[LightGBM] [Warning] Auto-choosing row-wise multi-threading, the overhead of testing was 0.118057 seconds.\n",
      "You can set `force_row_wise=true` to remove the overhead.\n",
      "And if memory is not enough, you can set `force_col_wise=true`.\n",
      "[LightGBM] [Info] Total Bins 1422\n",
      "[LightGBM] [Info] Number of data points in the train set: 22025, number of used features: 52\n",
      "[LightGBM] [Info] Start training from score 13516.051896\n",
      "[LightGBM] [Warning] Auto-choosing row-wise multi-threading, the overhead of testing was 0.119481 seconds.\n",
      "You can set `force_row_wise=true` to remove the overhead.\n",
      "And if memory is not enough, you can set `force_col_wise=true`.\n",
      "[LightGBM] [Info] Total Bins 1428\n",
      "[LightGBM] [Info] Number of data points in the train set: 22026, number of used features: 52\n",
      "[LightGBM] [Info] Start training from score 13466.008127\n",
      "Random Forest: MAPE Mean = 71.30%\n",
      "XGBoost: MAPE Mean = 67.52%\n",
      "LightGBM: MAPE Mean = 65.87%\n",
      "CatBoost: MAPE Mean = 65.89%\n"
     ]
    }
   ],
   "source": [
    "cv_results = baseline_models_cv(X, y)\n",
    "\n",
    "# Display the Mean and Standard Deviation of MAPE for each model\n",
    "for model_name, scores in cv_results.items():\n",
    "    print(f\"{model_name}: MAPE Mean = {scores.mean():.2f}%\")"
   ]
  },
  {
   "cell_type": "markdown",
   "metadata": {
    "id": "vmfcePktkRTw"
   },
   "source": [
    "Best performing model is CatBoost so we will further tune it to give us the best results."
   ]
  },
  {
   "cell_type": "code",
   "execution_count": null,
   "metadata": {
    "colab": {
     "base_uri": "https://localhost:8080/"
    },
    "id": "cKI6f37xgEHH",
    "outputId": "7e2813e1-bdad-442d-fea1-751cc5b1ab1c",
    "tags": []
   },
   "outputs": [],
   "source": [
    "catboost_model = cb.CatBoostRegressor(random_state=42, verbose=0)\n",
    "\n",
    "# Define the hyperparameter grid to search over\n",
    "param_grid = {\n",
    "    'learning_rate': [0.01, 0.05, 0.1],\n",
    "    'depth': [6, 8, 10],\n",
    "    'l2_leaf_reg': [1, 3, 5],\n",
    "    'iterations': [100, 200, 300]\n",
    "}\n",
    "\n",
    "# Perform 5-fold cross-validation with hyperparameter tuning\n",
    "cv = KFold(n_splits=5, shuffle=True, random_state=42)\n",
    "grid_search = GridSearchCV(catboost_model, param_grid, cv=cv, scoring='neg_mean_absolute_error', n_jobs=-1)\n",
    "grid_search.fit(X, y)\n",
    "\n",
    "# Get the best hyperparameters and the corresponding model\n",
    "best_params = grid_search.best_params_\n",
    "best_catboost_model = grid_search.best_estimator_\n",
    "\n",
    "# Perform 5-fold cross-validation with the best model\n",
    "cv_results = cross_val_score(best_catboost_model, X, y, cv=cv, scoring='neg_mean_absolute_error')\n",
    "\n",
    "# Calculate the mean and standard deviation of the negative mean absolute error (MAE)\n",
    "mean_mae = -cv_results.mean()\n",
    "std_mae = cv_results.std()\n",
    "\n",
    "# Calculate the mean and standard deviation of the Mean Absolute Percentage Error (MAPE)\n",
    "mean_mape = mape(y, best_catboost_model.predict(X)).mean()\n",
    "std_mape = mape(y, best_catboost_model.predict(X)).std()\n",
    "\n",
    "# Display the results\n",
    "print(\"Best Hyperparameters:\", best_params)\n",
    "print(f\"MAE (Mean ± Std): {mean_mae:.2f} ± {std_mae:.2f}\")\n",
    "print(f\"MAPE (Mean ± Std): {mean_mape:.2f}% ± {std_mape:.2f}%\")"
   ]
  },
  {
   "cell_type": "code",
   "execution_count": 52,
   "metadata": {
    "id": "O5gCEGaIgxIK",
    "tags": []
   },
   "outputs": [],
   "source": [
    "catboost_model = cb.CatBoostRegressor(random_state=42, depth=8, iterations=5000, l2_leaf_reg=5, verbose=50)"
   ]
  },
  {
   "cell_type": "code",
   "execution_count": 53,
   "metadata": {
    "colab": {
     "base_uri": "https://localhost:8080/"
    },
    "id": "groM26poml0N",
    "outputId": "3448cd3b-df14-412a-ce1a-f125da29cdbf",
    "tags": []
   },
   "outputs": [
    {
     "name": "stdout",
     "output_type": "stream",
     "text": [
      "0:\tlearn: 10845.0580763\ttotal: 11.6ms\tremaining: 58.1s\n",
      "50:\tlearn: 8458.2109887\ttotal: 561ms\tremaining: 54.4s\n",
      "100:\tlearn: 8132.0531127\ttotal: 968ms\tremaining: 47s\n",
      "150:\tlearn: 8020.3379239\ttotal: 1.57s\tremaining: 50.5s\n",
      "200:\tlearn: 7955.9783187\ttotal: 2.21s\tremaining: 52.7s\n",
      "250:\tlearn: 7898.8497821\ttotal: 2.86s\tremaining: 54s\n",
      "300:\tlearn: 7852.7686759\ttotal: 3.49s\tremaining: 54.5s\n",
      "350:\tlearn: 7795.3646778\ttotal: 3.96s\tremaining: 52.5s\n",
      "400:\tlearn: 7732.3056486\ttotal: 4.52s\tremaining: 51.8s\n",
      "450:\tlearn: 7676.4488013\ttotal: 5.11s\tremaining: 51.5s\n",
      "500:\tlearn: 7627.2936195\ttotal: 5.56s\tremaining: 49.9s\n",
      "550:\tlearn: 7576.9851329\ttotal: 5.97s\tremaining: 48.2s\n",
      "600:\tlearn: 7529.8384426\ttotal: 6.36s\tremaining: 46.6s\n",
      "650:\tlearn: 7483.8802298\ttotal: 6.78s\tremaining: 45.3s\n",
      "700:\tlearn: 7444.5872461\ttotal: 7.18s\tremaining: 44s\n",
      "750:\tlearn: 7403.0860112\ttotal: 7.68s\tremaining: 43.5s\n",
      "800:\tlearn: 7361.0613987\ttotal: 8.37s\tremaining: 43.9s\n",
      "850:\tlearn: 7323.9010102\ttotal: 8.98s\tremaining: 43.8s\n",
      "900:\tlearn: 7285.5989204\ttotal: 9.67s\tremaining: 44s\n",
      "950:\tlearn: 7243.3414862\ttotal: 10.5s\tremaining: 44.5s\n",
      "1000:\tlearn: 7203.4577023\ttotal: 11s\tremaining: 44.1s\n",
      "1050:\tlearn: 7161.8488904\ttotal: 11.6s\tremaining: 43.6s\n",
      "1100:\tlearn: 7123.9834546\ttotal: 12.3s\tremaining: 43.5s\n",
      "1150:\tlearn: 7090.4231425\ttotal: 12.8s\tremaining: 42.9s\n",
      "1200:\tlearn: 7056.6297614\ttotal: 13.3s\tremaining: 42.2s\n",
      "1250:\tlearn: 7023.4146176\ttotal: 13.9s\tremaining: 41.5s\n",
      "1300:\tlearn: 6986.4235614\ttotal: 14.4s\tremaining: 41s\n",
      "1350:\tlearn: 6951.8299044\ttotal: 15.2s\tremaining: 40.9s\n",
      "1400:\tlearn: 6914.4486044\ttotal: 15.7s\tremaining: 40.3s\n",
      "1450:\tlearn: 6882.7525359\ttotal: 16.3s\tremaining: 39.9s\n",
      "1500:\tlearn: 6850.3913316\ttotal: 16.8s\tremaining: 39.1s\n",
      "1550:\tlearn: 6821.9210783\ttotal: 17.3s\tremaining: 38.5s\n",
      "1600:\tlearn: 6793.8210902\ttotal: 18.1s\tremaining: 38.3s\n",
      "1650:\tlearn: 6765.1565870\ttotal: 18.7s\tremaining: 38s\n",
      "1700:\tlearn: 6738.2045574\ttotal: 19.4s\tremaining: 37.7s\n",
      "1750:\tlearn: 6708.1072145\ttotal: 19.9s\tremaining: 37s\n",
      "1800:\tlearn: 6677.9468276\ttotal: 20.5s\tremaining: 36.4s\n",
      "1850:\tlearn: 6651.9945310\ttotal: 21.2s\tremaining: 36s\n",
      "1900:\tlearn: 6625.3151957\ttotal: 21.7s\tremaining: 35.4s\n",
      "1950:\tlearn: 6600.0168672\ttotal: 22.5s\tremaining: 35.1s\n",
      "2000:\tlearn: 6574.6795375\ttotal: 23s\tremaining: 34.5s\n",
      "2050:\tlearn: 6547.8915201\ttotal: 23.5s\tremaining: 33.8s\n",
      "2100:\tlearn: 6523.3551577\ttotal: 24s\tremaining: 33.2s\n",
      "2150:\tlearn: 6499.4126394\ttotal: 24.6s\tremaining: 32.6s\n",
      "2200:\tlearn: 6478.6288849\ttotal: 25.3s\tremaining: 32.1s\n",
      "2250:\tlearn: 6452.2772232\ttotal: 25.9s\tremaining: 31.7s\n",
      "2300:\tlearn: 6428.8463823\ttotal: 26.5s\tremaining: 31.1s\n",
      "2350:\tlearn: 6403.8900611\ttotal: 27.1s\tremaining: 30.6s\n",
      "2400:\tlearn: 6379.0051348\ttotal: 27.8s\tremaining: 30.1s\n",
      "2450:\tlearn: 6353.8364877\ttotal: 28.3s\tremaining: 29.4s\n",
      "2500:\tlearn: 6332.6939233\ttotal: 28.8s\tremaining: 28.8s\n",
      "2550:\tlearn: 6309.4246592\ttotal: 29.4s\tremaining: 28.2s\n",
      "2600:\tlearn: 6286.4684309\ttotal: 29.8s\tremaining: 27.5s\n",
      "2650:\tlearn: 6259.7339070\ttotal: 30.4s\tremaining: 26.9s\n",
      "2700:\tlearn: 6235.9281368\ttotal: 30.9s\tremaining: 26.3s\n",
      "2750:\tlearn: 6212.8917176\ttotal: 31.4s\tremaining: 25.7s\n",
      "2800:\tlearn: 6191.5246157\ttotal: 32s\tremaining: 25.1s\n",
      "2850:\tlearn: 6170.9261193\ttotal: 32.7s\tremaining: 24.7s\n",
      "2900:\tlearn: 6149.3903170\ttotal: 33.4s\tremaining: 24.2s\n",
      "2950:\tlearn: 6128.5031091\ttotal: 34.1s\tremaining: 23.7s\n",
      "3000:\tlearn: 6108.3213230\ttotal: 34.7s\tremaining: 23.1s\n",
      "3050:\tlearn: 6087.4938130\ttotal: 35.4s\tremaining: 22.6s\n",
      "3100:\tlearn: 6069.3718367\ttotal: 36s\tremaining: 22.1s\n",
      "3150:\tlearn: 6047.6339643\ttotal: 36.5s\tremaining: 21.4s\n",
      "3200:\tlearn: 6027.0361229\ttotal: 37.1s\tremaining: 20.9s\n",
      "3250:\tlearn: 6008.0409871\ttotal: 37.7s\tremaining: 20.3s\n",
      "3300:\tlearn: 5985.9879548\ttotal: 38.5s\tremaining: 19.8s\n",
      "3350:\tlearn: 5967.5323989\ttotal: 39.1s\tremaining: 19.2s\n",
      "3400:\tlearn: 5946.9787247\ttotal: 39.5s\tremaining: 18.6s\n",
      "3450:\tlearn: 5929.1146781\ttotal: 40s\tremaining: 17.9s\n",
      "3500:\tlearn: 5909.6756215\ttotal: 40.5s\tremaining: 17.4s\n",
      "3550:\tlearn: 5891.4359498\ttotal: 41.1s\tremaining: 16.8s\n",
      "3600:\tlearn: 5872.9358600\ttotal: 41.8s\tremaining: 16.2s\n",
      "3650:\tlearn: 5854.3208711\ttotal: 42.5s\tremaining: 15.7s\n",
      "3700:\tlearn: 5834.8051463\ttotal: 43.2s\tremaining: 15.2s\n",
      "3750:\tlearn: 5815.6726610\ttotal: 43.9s\tremaining: 14.6s\n",
      "3800:\tlearn: 5796.0343197\ttotal: 44.4s\tremaining: 14s\n",
      "3850:\tlearn: 5778.4367186\ttotal: 45s\tremaining: 13.4s\n",
      "3900:\tlearn: 5760.5312497\ttotal: 45.5s\tremaining: 12.8s\n",
      "3950:\tlearn: 5741.4859640\ttotal: 46s\tremaining: 12.2s\n",
      "4000:\tlearn: 5722.8187213\ttotal: 46.7s\tremaining: 11.7s\n",
      "4050:\tlearn: 5706.3108529\ttotal: 47.4s\tremaining: 11.1s\n",
      "4100:\tlearn: 5688.4053939\ttotal: 48.2s\tremaining: 10.6s\n",
      "4150:\tlearn: 5671.1053718\ttotal: 48.8s\tremaining: 9.98s\n",
      "4200:\tlearn: 5654.5247930\ttotal: 49.5s\tremaining: 9.42s\n",
      "4250:\tlearn: 5635.9673023\ttotal: 50.3s\tremaining: 8.85s\n",
      "4300:\tlearn: 5619.1259382\ttotal: 50.9s\tremaining: 8.26s\n",
      "4350:\tlearn: 5601.2186155\ttotal: 51.4s\tremaining: 7.67s\n",
      "4400:\tlearn: 5585.1514554\ttotal: 52s\tremaining: 7.08s\n",
      "4450:\tlearn: 5568.6585752\ttotal: 52.7s\tremaining: 6.49s\n",
      "4500:\tlearn: 5552.1679737\ttotal: 53.2s\tremaining: 5.9s\n",
      "4550:\tlearn: 5535.2478907\ttotal: 53.9s\tremaining: 5.32s\n",
      "4600:\tlearn: 5517.1824292\ttotal: 54.5s\tremaining: 4.72s\n",
      "4650:\tlearn: 5501.0879782\ttotal: 55.2s\tremaining: 4.14s\n",
      "4700:\tlearn: 5484.1022621\ttotal: 55.9s\tremaining: 3.55s\n",
      "4750:\tlearn: 5468.6613028\ttotal: 56.3s\tremaining: 2.95s\n",
      "4800:\tlearn: 5452.7971016\ttotal: 56.8s\tremaining: 2.35s\n",
      "4850:\tlearn: 5437.6938085\ttotal: 57.4s\tremaining: 1.76s\n",
      "4900:\tlearn: 5422.6819143\ttotal: 58.1s\tremaining: 1.17s\n",
      "4950:\tlearn: 5407.3157364\ttotal: 58.6s\tremaining: 580ms\n",
      "4999:\tlearn: 5393.3149535\ttotal: 59.1s\tremaining: 0us\n"
     ]
    },
    {
     "data": {
      "text/plain": [
       "<catboost.core.CatBoostRegressor at 0x7f49a14e8250>"
      ]
     },
     "execution_count": 53,
     "metadata": {},
     "output_type": "execute_result"
    }
   ],
   "source": [
    "catboost_model.fit(X,y)"
   ]
  },
  {
   "cell_type": "code",
   "execution_count": 55,
   "metadata": {
    "id": "vbCXdTHXm4R5",
    "tags": []
   },
   "outputs": [],
   "source": [
    "ypred = catboost_model.predict(X)"
   ]
  },
  {
   "cell_type": "code",
   "execution_count": 56,
   "metadata": {
    "colab": {
     "base_uri": "https://localhost:8080/"
    },
    "id": "4Dsa-GD-q2FX",
    "outputId": "d3c51c85-67cb-4bb4-92a7-84ae83c80e25",
    "tags": []
   },
   "outputs": [
    {
     "data": {
      "text/plain": [
       "46.05049513040305"
      ]
     },
     "execution_count": 56,
     "metadata": {},
     "output_type": "execute_result"
    }
   ],
   "source": [
    "mape(y,ypred)"
   ]
  },
  {
   "cell_type": "code",
   "execution_count": null,
   "metadata": {
    "id": "orLT5yawrXGF"
   },
   "outputs": [],
   "source": [
    "submission = catboost_model.predict(test_prep)"
   ]
  },
  {
   "cell_type": "code",
   "execution_count": null,
   "metadata": {
    "id": "BbeWygltyo8o"
   },
   "outputs": [],
   "source": [
    "columns = ['27532', '9560.750306145466']"
   ]
  },
  {
   "cell_type": "code",
   "execution_count": null,
   "metadata": {
    "colab": {
     "base_uri": "https://localhost:8080/"
    },
    "id": "jrlhDllny-LS",
    "outputId": "67cf4d50-f0f0-4bf8-d314-fccc8fd981dd"
   },
   "outputs": [
    {
     "data": {
      "text/plain": [
       "9560.750306145466"
      ]
     },
     "execution_count": 49,
     "metadata": {},
     "output_type": "execute_result"
    }
   ],
   "source": [
    "submission[0]"
   ]
  },
  {
   "cell_type": "code",
   "execution_count": null,
   "metadata": {
    "id": "Z45NkZnvrcmV"
   },
   "outputs": [],
   "source": [
    "sub = pd.DataFrame()\n",
    "sub['27532'] = test['id'][1:]\n",
    "sub['9560.750306145466'] = submission[1:]"
   ]
  },
  {
   "cell_type": "code",
   "execution_count": null,
   "metadata": {
    "colab": {
     "base_uri": "https://localhost:8080/",
     "height": 424
    },
    "id": "e8V4XH4Rzb9u",
    "outputId": "7e1dd501-8393-46fa-c451-6d213cc5e433"
   },
   "outputs": [
    {
     "data": {
      "text/html": [
       "\n",
       "\n",
       "  <div id=\"df-6042f2ed-b75d-4ebf-a3c6-878e50aaeb68\">\n",
       "    <div class=\"colab-df-container\">\n",
       "      <div>\n",
       "<style scoped>\n",
       "    .dataframe tbody tr th:only-of-type {\n",
       "        vertical-align: middle;\n",
       "    }\n",
       "\n",
       "    .dataframe tbody tr th {\n",
       "        vertical-align: top;\n",
       "    }\n",
       "\n",
       "    .dataframe thead th {\n",
       "        text-align: right;\n",
       "    }\n",
       "</style>\n",
       "<table border=\"1\" class=\"dataframe\">\n",
       "  <thead>\n",
       "    <tr style=\"text-align: right;\">\n",
       "      <th></th>\n",
       "      <th>27532</th>\n",
       "      <th>9560.750306145466</th>\n",
       "    </tr>\n",
       "  </thead>\n",
       "  <tbody>\n",
       "    <tr>\n",
       "      <th>1</th>\n",
       "      <td>27533</td>\n",
       "      <td>4979.631681</td>\n",
       "    </tr>\n",
       "    <tr>\n",
       "      <th>2</th>\n",
       "      <td>27534</td>\n",
       "      <td>7237.407326</td>\n",
       "    </tr>\n",
       "    <tr>\n",
       "      <th>3</th>\n",
       "      <td>27535</td>\n",
       "      <td>43815.644811</td>\n",
       "    </tr>\n",
       "    <tr>\n",
       "      <th>4</th>\n",
       "      <td>27536</td>\n",
       "      <td>17367.592884</td>\n",
       "    </tr>\n",
       "    <tr>\n",
       "      <th>5</th>\n",
       "      <td>27537</td>\n",
       "      <td>7616.022125</td>\n",
       "    </tr>\n",
       "    <tr>\n",
       "      <th>...</th>\n",
       "      <td>...</td>\n",
       "      <td>...</td>\n",
       "    </tr>\n",
       "    <tr>\n",
       "      <th>27532</th>\n",
       "      <td>55064</td>\n",
       "      <td>21046.033336</td>\n",
       "    </tr>\n",
       "    <tr>\n",
       "      <th>27533</th>\n",
       "      <td>55065</td>\n",
       "      <td>24007.871213</td>\n",
       "    </tr>\n",
       "    <tr>\n",
       "      <th>27534</th>\n",
       "      <td>55066</td>\n",
       "      <td>13297.289329</td>\n",
       "    </tr>\n",
       "    <tr>\n",
       "      <th>27535</th>\n",
       "      <td>55067</td>\n",
       "      <td>9131.548806</td>\n",
       "    </tr>\n",
       "    <tr>\n",
       "      <th>27536</th>\n",
       "      <td>55068</td>\n",
       "      <td>8677.155384</td>\n",
       "    </tr>\n",
       "  </tbody>\n",
       "</table>\n",
       "<p>27536 rows × 2 columns</p>\n",
       "</div>\n",
       "      <button class=\"colab-df-convert\" onclick=\"convertToInteractive('df-6042f2ed-b75d-4ebf-a3c6-878e50aaeb68')\"\n",
       "              title=\"Convert this dataframe to an interactive table.\"\n",
       "              style=\"display:none;\">\n",
       "\n",
       "  <svg xmlns=\"http://www.w3.org/2000/svg\" height=\"24px\"viewBox=\"0 0 24 24\"\n",
       "       width=\"24px\">\n",
       "    <path d=\"M0 0h24v24H0V0z\" fill=\"none\"/>\n",
       "    <path d=\"M18.56 5.44l.94 2.06.94-2.06 2.06-.94-2.06-.94-.94-2.06-.94 2.06-2.06.94zm-11 1L8.5 8.5l.94-2.06 2.06-.94-2.06-.94L8.5 2.5l-.94 2.06-2.06.94zm10 10l.94 2.06.94-2.06 2.06-.94-2.06-.94-.94-2.06-.94 2.06-2.06.94z\"/><path d=\"M17.41 7.96l-1.37-1.37c-.4-.4-.92-.59-1.43-.59-.52 0-1.04.2-1.43.59L10.3 9.45l-7.72 7.72c-.78.78-.78 2.05 0 2.83L4 21.41c.39.39.9.59 1.41.59.51 0 1.02-.2 1.41-.59l7.78-7.78 2.81-2.81c.8-.78.8-2.07 0-2.86zM5.41 20L4 18.59l7.72-7.72 1.47 1.35L5.41 20z\"/>\n",
       "  </svg>\n",
       "      </button>\n",
       "\n",
       "\n",
       "\n",
       "    <div id=\"df-7242f707-116d-486b-b087-c86c2a7579b7\">\n",
       "      <button class=\"colab-df-quickchart\" onclick=\"quickchart('df-7242f707-116d-486b-b087-c86c2a7579b7')\"\n",
       "              title=\"Suggest charts.\"\n",
       "              style=\"display:none;\">\n",
       "\n",
       "<svg xmlns=\"http://www.w3.org/2000/svg\" height=\"24px\"viewBox=\"0 0 24 24\"\n",
       "     width=\"24px\">\n",
       "    <g>\n",
       "        <path d=\"M19 3H5c-1.1 0-2 .9-2 2v14c0 1.1.9 2 2 2h14c1.1 0 2-.9 2-2V5c0-1.1-.9-2-2-2zM9 17H7v-7h2v7zm4 0h-2V7h2v10zm4 0h-2v-4h2v4z\"/>\n",
       "    </g>\n",
       "</svg>\n",
       "      </button>\n",
       "    </div>\n",
       "\n",
       "<style>\n",
       "  .colab-df-quickchart {\n",
       "    background-color: #E8F0FE;\n",
       "    border: none;\n",
       "    border-radius: 50%;\n",
       "    cursor: pointer;\n",
       "    display: none;\n",
       "    fill: #1967D2;\n",
       "    height: 32px;\n",
       "    padding: 0 0 0 0;\n",
       "    width: 32px;\n",
       "  }\n",
       "\n",
       "  .colab-df-quickchart:hover {\n",
       "    background-color: #E2EBFA;\n",
       "    box-shadow: 0px 1px 2px rgba(60, 64, 67, 0.3), 0px 1px 3px 1px rgba(60, 64, 67, 0.15);\n",
       "    fill: #174EA6;\n",
       "  }\n",
       "\n",
       "  [theme=dark] .colab-df-quickchart {\n",
       "    background-color: #3B4455;\n",
       "    fill: #D2E3FC;\n",
       "  }\n",
       "\n",
       "  [theme=dark] .colab-df-quickchart:hover {\n",
       "    background-color: #434B5C;\n",
       "    box-shadow: 0px 1px 3px 1px rgba(0, 0, 0, 0.15);\n",
       "    filter: drop-shadow(0px 1px 2px rgba(0, 0, 0, 0.3));\n",
       "    fill: #FFFFFF;\n",
       "  }\n",
       "</style>\n",
       "\n",
       "    <script>\n",
       "      async function quickchart(key) {\n",
       "        const containerElement = document.querySelector('#' + key);\n",
       "        const charts = await google.colab.kernel.invokeFunction(\n",
       "            'suggestCharts', [key], {});\n",
       "      }\n",
       "    </script>\n",
       "\n",
       "      <script>\n",
       "\n",
       "function displayQuickchartButton(domScope) {\n",
       "  let quickchartButtonEl =\n",
       "    domScope.querySelector('#df-7242f707-116d-486b-b087-c86c2a7579b7 button.colab-df-quickchart');\n",
       "  quickchartButtonEl.style.display =\n",
       "    google.colab.kernel.accessAllowed ? 'block' : 'none';\n",
       "}\n",
       "\n",
       "        displayQuickchartButton(document);\n",
       "      </script>\n",
       "      <style>\n",
       "    .colab-df-container {\n",
       "      display:flex;\n",
       "      flex-wrap:wrap;\n",
       "      gap: 12px;\n",
       "    }\n",
       "\n",
       "    .colab-df-convert {\n",
       "      background-color: #E8F0FE;\n",
       "      border: none;\n",
       "      border-radius: 50%;\n",
       "      cursor: pointer;\n",
       "      display: none;\n",
       "      fill: #1967D2;\n",
       "      height: 32px;\n",
       "      padding: 0 0 0 0;\n",
       "      width: 32px;\n",
       "    }\n",
       "\n",
       "    .colab-df-convert:hover {\n",
       "      background-color: #E2EBFA;\n",
       "      box-shadow: 0px 1px 2px rgba(60, 64, 67, 0.3), 0px 1px 3px 1px rgba(60, 64, 67, 0.15);\n",
       "      fill: #174EA6;\n",
       "    }\n",
       "\n",
       "    [theme=dark] .colab-df-convert {\n",
       "      background-color: #3B4455;\n",
       "      fill: #D2E3FC;\n",
       "    }\n",
       "\n",
       "    [theme=dark] .colab-df-convert:hover {\n",
       "      background-color: #434B5C;\n",
       "      box-shadow: 0px 1px 3px 1px rgba(0, 0, 0, 0.15);\n",
       "      filter: drop-shadow(0px 1px 2px rgba(0, 0, 0, 0.3));\n",
       "      fill: #FFFFFF;\n",
       "    }\n",
       "  </style>\n",
       "\n",
       "      <script>\n",
       "        const buttonEl =\n",
       "          document.querySelector('#df-6042f2ed-b75d-4ebf-a3c6-878e50aaeb68 button.colab-df-convert');\n",
       "        buttonEl.style.display =\n",
       "          google.colab.kernel.accessAllowed ? 'block' : 'none';\n",
       "\n",
       "        async function convertToInteractive(key) {\n",
       "          const element = document.querySelector('#df-6042f2ed-b75d-4ebf-a3c6-878e50aaeb68');\n",
       "          const dataTable =\n",
       "            await google.colab.kernel.invokeFunction('convertToInteractive',\n",
       "                                                     [key], {});\n",
       "          if (!dataTable) return;\n",
       "\n",
       "          const docLinkHtml = 'Like what you see? Visit the ' +\n",
       "            '<a target=\"_blank\" href=https://colab.research.google.com/notebooks/data_table.ipynb>data table notebook</a>'\n",
       "            + ' to learn more about interactive tables.';\n",
       "          element.innerHTML = '';\n",
       "          dataTable['output_type'] = 'display_data';\n",
       "          await google.colab.output.renderOutput(dataTable, element);\n",
       "          const docLink = document.createElement('div');\n",
       "          docLink.innerHTML = docLinkHtml;\n",
       "          element.appendChild(docLink);\n",
       "        }\n",
       "      </script>\n",
       "    </div>\n",
       "  </div>\n"
      ],
      "text/plain": [
       "       27532  9560.750306145466\n",
       "1      27533        4979.631681\n",
       "2      27534        7237.407326\n",
       "3      27535       43815.644811\n",
       "4      27536       17367.592884\n",
       "5      27537        7616.022125\n",
       "...      ...                ...\n",
       "27532  55064       21046.033336\n",
       "27533  55065       24007.871213\n",
       "27534  55066       13297.289329\n",
       "27535  55067        9131.548806\n",
       "27536  55068        8677.155384\n",
       "\n",
       "[27536 rows x 2 columns]"
      ]
     },
     "execution_count": 52,
     "metadata": {},
     "output_type": "execute_result"
    }
   ],
   "source": [
    "sub"
   ]
  },
  {
   "cell_type": "code",
   "execution_count": null,
   "metadata": {
    "id": "4dyqVC5txHBx"
   },
   "outputs": [],
   "source": [
    "sub.to_csv('sub_signate_2.csv', index = False)"
   ]
  },
  {
   "cell_type": "code",
   "execution_count": 54,
   "metadata": {
    "id": "PW6DJfATxId_",
    "tags": []
   },
   "outputs": [],
   "source": [
    "from sklearn.ensemble import RandomForestRegressor"
   ]
  },
  {
   "cell_type": "code",
   "execution_count": 57,
   "metadata": {
    "tags": []
   },
   "outputs": [],
   "source": [
    "model = RandomForestRegressor()"
   ]
  },
  {
   "cell_type": "code",
   "execution_count": 58,
   "metadata": {
    "tags": []
   },
   "outputs": [],
   "source": [
    "# Fit the model\n",
    "model.fit(X, y)\n",
    "\n",
    "# Get feature importances\n",
    "feature_importances = model.feature_importances_"
   ]
  },
  {
   "cell_type": "code",
   "execution_count": 62,
   "metadata": {
    "tags": []
   },
   "outputs": [
    {
     "data": {
      "image/png": "[encoded data removed]",
      "text/plain": [
       "<Figure size 1000x1600 with 1 Axes>"
      ]
     },
     "metadata": {},
     "output_type": "display_data"
    }
   ],
   "source": [
    "import matplotlib.pyplot as plt\n",
    "\n",
    "# Assuming you already have 'feature_importances' calculated\n",
    "# If not, make sure to calculate them using your model\n",
    "\n",
    "# Get the names of the features\n",
    "feature_names =X.columns\n",
    "# Create a bar plot of feature importances\n",
    "plt.figure(figsize=(10, 16))\n",
    "plt.barh(range(len(feature_importances)), feature_importances, align='center')\n",
    "plt.yticks(range(len(feature_importances)), feature_names)\n",
    "plt.xlabel('Feature Importance')\n",
    "plt.ylabel('Feature')\n",
    "plt.title('Feature Importances')\n",
    "plt.show()"
   ]
  },
  {
   "cell_type": "code",
   "execution_count": 59,
   "metadata": {
    "tags": []
   },
   "outputs": [
    {
     "data": {
      "text/plain": [
       "array([3.22006851e-02, 2.02990160e-02, 2.66547527e-01, 5.02611590e-03,\n",
       "       8.49369370e-02, 8.43870109e-02, 1.33062979e-01, 2.89763809e-03,\n",
       "       4.45178330e-03, 1.49449726e-03, 5.82166255e-02, 8.10558212e-05,\n",
       "       6.36097034e-05, 3.57151818e-02, 2.81056027e-03, 7.72514592e-03,\n",
       "       8.04354360e-03, 7.91488021e-03, 7.89492653e-03, 7.63463250e-03,\n",
       "       7.62605417e-03, 4.46104366e-03, 4.42605795e-03, 4.61751170e-03,\n",
       "       4.33911955e-03, 4.59971490e-03, 4.71199747e-03, 4.45083569e-03,\n",
       "       4.52609964e-03, 4.49982579e-03, 4.64212249e-03, 4.48228066e-03,\n",
       "       4.63380901e-03, 4.67113405e-03, 5.79209111e-03, 5.85679550e-03,\n",
       "       6.06942477e-03, 6.06120103e-03, 6.06958325e-03, 6.28307650e-03,\n",
       "       6.10297996e-03, 7.63326801e-03, 7.81408783e-03, 4.07789912e-03,\n",
       "       4.14289673e-03, 4.34647176e-03, 1.55092667e-03, 1.60593192e-03,\n",
       "       1.46859449e-03, 4.38899091e-03, 4.61382739e-03, 4.49035252e-02,\n",
       "       3.31264696e-02])"
      ]
     },
     "execution_count": 59,
     "metadata": {},
     "output_type": "execute_result"
    }
   ],
   "source": [
    "feature_importances"
   ]
  },
  {
   "cell_type": "code",
   "execution_count": 63,
   "metadata": {
    "tags": []
   },
   "outputs": [],
   "source": [
    "y_pred = model.predict(X)"
   ]
  },
  {
   "cell_type": "code",
   "execution_count": 66,
   "metadata": {
    "tags": []
   },
   "outputs": [
    {
     "data": {
      "text/plain": [
       "26.321458922815864"
      ]
     },
     "execution_count": 66,
     "metadata": {},
     "output_type": "execute_result"
    }
   ],
   "source": [
    "mape(y, y_pred)"
   ]
  },
  {
   "cell_type": "code",
   "execution_count": 67,
   "metadata": {
    "tags": []
   },
   "outputs": [
    {
     "data": {
      "text/plain": [
       "0        5\n",
       "1        1\n",
       "2        2\n",
       "3        5\n",
       "4        5\n",
       "        ..\n",
       "27527    2\n",
       "27528    5\n",
       "27529    4\n",
       "27530    5\n",
       "27531    5\n",
       "Name: condition, Length: 27532, dtype: int64"
      ]
     },
     "execution_count": 67,
     "metadata": {},
     "output_type": "execute_result"
    }
   ],
   "source": [
    "X['condition']"
   ]
  },
  {
   "cell_type": "code",
   "execution_count": 69,
   "metadata": {
    "tags": []
   },
   "outputs": [
    {
     "name": "stdout",
     "output_type": "stream",
     "text": [
      "Selected feature indices: [2, 6, 4, 5, 10, 51, 13, 52, 0, 1]\n"
     ]
    }
   ],
   "source": [
    "# Create a list of feature indices sorted by importance\n",
    "sorted_feature_indices = sorted(range(len(feature_importances)), key=lambda k: feature_importances[k], reverse=True)\n",
    "\n",
    "# Select the top 'k' important features\n",
    "num_features_to_keep = 10\n",
    "selected_feature_indices = sorted_feature_indices[:num_features_to_keep]\n",
    "\n",
    "print(\"Selected feature indices:\", selected_feature_indices)"
   ]
  },
  {
   "cell_type": "code",
   "execution_count": 74,
   "metadata": {
    "tags": []
   },
   "outputs": [],
   "source": [
    "important_features = []\n",
    "for i in selected_feature_indices:\n",
    "    important_features.append(X.columns[i])"
   ]
  },
  {
   "cell_type": "code",
   "execution_count": 75,
   "metadata": {
    "tags": []
   },
   "outputs": [
    {
     "data": {
      "text/plain": [
       "['odometer',\n",
       " 'car_age',\n",
       " 'latitude',\n",
       " 'longitude',\n",
       " 'diesel_fueled',\n",
       " 'drive_embeddings_1',\n",
       " 'front_wheel_drive',\n",
       " 'drive_embeddings_2',\n",
       " 'condition',\n",
       " 'cylinders']"
      ]
     },
     "execution_count": 75,
     "metadata": {},
     "output_type": "execute_result"
    }
   ],
   "source": [
    "important_features"
   ]
  },
  {
   "cell_type": "code",
   "execution_count": 77,
   "metadata": {
    "tags": []
   },
   "outputs": [
    {
     "name": "stdout",
     "output_type": "stream",
     "text": [
      "[LightGBM] [Warning] Auto-choosing row-wise multi-threading, the overhead of testing was 0.001119 seconds.\n",
      "You can set `force_row_wise=true` to remove the overhead.\n",
      "And if memory is not enough, you can set `force_col_wise=true`.\n",
      "[LightGBM] [Info] Total Bins 828\n",
      "[LightGBM] [Warning] Auto-choosing row-wise multi-threading, the overhead of testing was 0.004478 seconds.\n",
      "You can set `force_row_wise=true` to remove the overhead.\n",
      "And if memory is not enough, you can set `force_col_wise=true`.\n",
      "[LightGBM] [Info] Total Bins 822\n",
      "[LightGBM] [Info] Number of data points in the train set: 22025, number of used features: 10\n",
      "[LightGBM] [Info] Start training from score 13516.051896\n",
      "[LightGBM] [Info] Number of data points in the train set: 22025, number of used features: 10\n",
      "[LightGBM] [Info] Start training from score 13477.637321\n",
      "[LightGBM] [Warning] Auto-choosing row-wise multi-threading, the overhead of testing was 0.000670 seconds.\n",
      "You can set `force_row_wise=true` to remove the overhead.\n",
      "And if memory is not enough, you can set `force_col_wise=true`.\n",
      "[LightGBM] [Info] Total Bins 828\n",
      "[LightGBM] [Info] Number of data points in the train set: 22026, number of used features: 10\n",
      "[LightGBM] [Info] Start training from score 13374.692318\n",
      "[LightGBM] [Warning] Auto-choosing col-wise multi-threading, the overhead of testing was 0.002305 seconds.\n",
      "You can set `force_col_wise=true` to remove the overhead.\n",
      "[LightGBM] [Info] Total Bins 832\n",
      "[LightGBM] [Info] Number of data points in the train set: 22026, number of used features: 10\n",
      "[LightGBM] [Info] Start training from score 13509.237038\n",
      "[LightGBM] [Warning] Auto-choosing col-wise multi-threading, the overhead of testing was 0.002268 seconds.\n",
      "You can set `force_col_wise=true` to remove the overhead.\n",
      "[LightGBM] [Info] Total Bins 828\n",
      "[LightGBM] [Info] Number of data points in the train set: 22026, number of used features: 10\n",
      "[LightGBM] [Info] Start training from score 13466.008127\n",
      "Random Forest: MAPE Mean = 72.96%\n",
      "XGBoost: MAPE Mean = 69.77%\n",
      "LightGBM: MAPE Mean = 68.51%\n",
      "CatBoost: MAPE Mean = 68.45%\n"
     ]
    }
   ],
   "source": [
    "cv_results_2 = baseline_models_cv(X[important_features], y)\n",
    "\n",
    "# Display the Mean and Standard Deviation of MAPE for each model\n",
    "for model_name, scores in cv_results_2.items():\n",
    "    print(f\"{model_name}: MAPE Mean = {scores.mean():.2f}%\")"
   ]
  },
  {
   "cell_type": "code",
   "execution_count": null,
   "metadata": {
    "tags": []
   },
   "outputs": [],
   "source": [
    "catboost_model = cb.CatBoostRegressor(random_state=42, verbose=0, 'iterations'= 200)\n",
    "\n",
    "# Define the hyperparameter grid to search over\n",
    "param_grid = {\n",
    "    'learning_rate': [0.05, 0.02, 0.03, 0.04],\n",
    "    'depth': [6, 8, 10, 12],\n",
    "    'l2_leaf_reg': [1, 3, 5]\n",
    "}\n",
    "\n",
    "# Perform 5-fold cross-validation with hyperparameter tuning\n",
    "cv = KFold(n_splits=5, shuffle=True, random_state=42)\n",
    "grid_search = GridSearchCV(catboost_model, param_grid, cv=cv, scoring='neg_mean_absolute_error', n_jobs=-1)\n",
    "grid_search.fit(X[important_features], y)\n",
    "\n",
    "# Get the best hyperparameters and the corresponding model\n",
    "best_params = grid_search.best_params_\n",
    "best_catboost_model = grid_search.best_estimator_\n",
    "\n",
    "# Perform 5-fold cross-validation with the best model\n",
    "cv_results = cross_val_score(best_catboost_model, X[important_features], y, cv=cv, scoring='neg_mean_absolute_error')\n",
    "\n",
    "# Calculate the mean and standard deviation of the negative mean absolute error (MAE)\n",
    "mean_mae = -cv_results.mean()\n",
    "std_mae = cv_results.std()\n",
    "\n",
    "# Calculate the mean and standard deviation of the Mean Absolute Percentage Error (MAPE)\n",
    "mean_mape = mape(y, best_catboost_model.predict(X[important_features])).mean()\n",
    "std_mape = mape(y, best_catboost_model.predict(X[important_features])).std()\n",
    "\n",
    "# Display the results\n",
    "print(\"Best Hyperparameters:\", best_params)\n",
    "print(f\"MAE (Mean ± Std): {mean_mae:.2f} ± {std_mae:.2f}\")\n",
    "print(f\"MAPE (Mean ± Std): {mean_mape:.2f}% ± {std_mape:.2f}%\")"
   ]
  },
  {
   "cell_type": "code",
   "execution_count": null,
   "metadata": {},
   "outputs": [],
   "source": []
  }
 ],
 "metadata": {
  "colab": {
   "provenance": []
  },
  "kernelspec": {
   "display_name": "tf-gpu-310:Python",
   "language": "python",
   "name": "conda-env-tf-gpu-310-py"
  },
  "language_info": {
   "codemirror_mode": {
    "name": "ipython",
    "version": 3
   },
   "file_extension": ".py",
   "mimetype": "text/x-python",
   "name": "python",
   "nbconvert_exporter": "python",
   "pygments_lexer": "ipython3",
   "version": "3.10.11"
  }
 },
 "nbformat": 4,
 "nbformat_minor": 4
}
