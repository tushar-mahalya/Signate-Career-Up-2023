{
 "cells": [
  {
   "cell_type": "code",
   "execution_count": 1,
   "id": "bbc87dfb-6704-46ba-b659-4e5b8c6f7161",
   "metadata": {
    "tags": []
   },
   "outputs": [
    {
     "name": "stderr",
     "output_type": "stream",
     "text": [
      "2023-08-10 11:21:28.142562: I tensorflow/core/platform/cpu_feature_guard.cc:193] This TensorFlow binary is optimized with oneAPI Deep Neural Network Library (oneDNN) to use the following CPU instructions in performance-critical operations:  SSE4.1 SSE4.2 AVX AVX2 AVX512F FMA\n",
      "To enable them in other operations, rebuild TensorFlow with the appropriate compiler flags.\n"
     ]
    }
   ],
   "source": [
    "from keras.models import Sequential\n",
    "from keras.layers import Embedding, Flatten, Dense\n",
    "from keras.preprocessing.text import Tokenizer\n",
    "from keras.utils import pad_sequences"
   ]
  },
  {
   "cell_type": "code",
   "execution_count": 2,
   "id": "527567d5-37c6-401f-82f7-84c392aeff4d",
   "metadata": {
    "tags": []
   },
   "outputs": [],
   "source": [
    "import numpy as np\n",
    "import pandas as pd\n",
    "from sklearn.preprocessing import LabelEncoder\n",
    "import geopy\n",
    "from geopy.geocoders import Nominatim"
   ]
  },
  {
   "cell_type": "code",
   "execution_count": 3,
   "id": "16c6b581-6101-4f7c-b5dd-220b75297284",
   "metadata": {
    "tags": []
   },
   "outputs": [],
   "source": [
    "train = pd.read_csv('data/train.csv')\n",
    "test = pd.read_csv('data/test.csv')\n",
    "sample = pd.read_csv('data/submit_sample.csv')"
   ]
  },
  {
   "cell_type": "code",
   "execution_count": 4,
   "id": "60077c35-fc2a-46e9-bd5f-60e96bf03abe",
   "metadata": {
    "tags": []
   },
   "outputs": [],
   "source": [
    "lat_long_df = pd.read_csv('lat_long_info.csv')"
   ]
  },
  {
   "cell_type": "code",
   "execution_count": 5,
   "id": "4d18c105-be2b-46d8-a41f-0dbe4542bdcc",
   "metadata": {
    "tags": []
   },
   "outputs": [],
   "source": [
    "train_prep = train.merge(lat_long_df, on = 'region', how = 'left')\n",
    "test_prep = test.merge(lat_long_df, on = 'region', how = 'left')\n",
    "train_prep = train_prep.drop(['region', 'state'], axis = 1)\n",
    "test_prep = test_prep.drop(['region', 'state'], axis = 1)"
   ]
  },
  {
   "cell_type": "code",
   "execution_count": 16,
   "id": "5c19a9de-2715-49af-ad5d-709a08d8101d",
   "metadata": {
    "tags": []
   },
   "outputs": [],
   "source": [
    "def generate_embeddings(df, cat_col, name):\n",
    "    df[cat_col].fillna('other', inplace=True)\n",
    "    tokenizer = Tokenizer()\n",
    "    tokenizer.fit_on_texts(df[cat_col])\n",
    "    sequences = tokenizer.texts_to_sequences(df[cat_col])\n",
    "\n",
    "    max_sequence_length = max(len(seq) for seq in sequences)\n",
    "    padded_sequences = pad_sequences(sequences, maxlen=max_sequence_length)\n",
    "    \n",
    "    vocab_size = len(tokenizer.word_index) + 1\n",
    "    \n",
    "    embedding_size = 2\n",
    "    \n",
    "    model = Sequential()\n",
    "    model.add(Embedding(input_dim = vocab_size, output_dim = embedding_size, input_length = max_sequence_length, name=\"embedding\"))\n",
    "    model.compile(loss=\"mse\", optimizer=\"adam\", metrics=[\"accuracy\"])\n",
    "    model.fit(x=padded_sequences, y=padded_sequences, epochs=50, batch_size=16, verbose=0)\n",
    "    \n",
    "    embedding_layer = model.layers[0]\n",
    "    learned_embeddings = embedding_layer.get_weights()[0] \n",
    "\n",
    "    new_df = pd.DataFrame()\n",
    "    new_df[cat_col] = df[cat_col]\n",
    "    \n",
    "    embeddings = {}\n",
    "    for word, index in tokenizer.word_index.items():\n",
    "        embeddings[word] = learned_embeddings[index]\n",
    "\n",
    "    embedding_dimensions = learned_embeddings.shape[1]\n",
    "    for i in range(embedding_dimensions):\n",
    "        embedding_column = f'{name}_{i+1}'\n",
    "        new_df[embedding_column] = new_df[cat_col].map(lambda x: embeddings[x][i])\n",
    "    \n",
    "    return new_df.drop(cat_col, axis=1)"
   ]
  },
  {
   "cell_type": "code",
   "execution_count": 7,
   "id": "e76bdc1f-0a85-4cef-89b0-4394a2fa212d",
   "metadata": {
    "tags": []
   },
   "outputs": [],
   "source": [
    "def preprocess_text(text):\n",
    "    # Full-width ASCII characters mapping\n",
    "    full_width_ascii_mapping = {\n",
    "        '０': '0', '１': '1', '２': '2', '３': '3', '４': '4',\n",
    "        '５': '5', '６': '6', '７': '7', '８': '8', '９': '9',\n",
    "        'Ａ': 'A', 'Ｂ': 'B', 'Ｃ': 'C', 'Ｄ': 'D', 'Ｅ': 'E',\n",
    "        'Ｆ': 'F', 'Ｇ': 'G', 'Ｈ': 'H', 'Ｉ': 'I', 'Ｊ': 'J',\n",
    "        'Ｋ': 'K', 'Ｌ': 'L', 'Ｍ': 'M', 'Ｎ': 'N', 'Ｏ': 'O',\n",
    "        'Ｐ': 'P', 'Ｑ': 'Q', 'Ｒ': 'R', 'Ｓ': 'S', 'Ｔ': 'T',\n",
    "        'Ｕ': 'U', 'Ｖ': 'V', 'Ｗ': 'W', 'Ｘ': 'X', 'Ｙ': 'Y',\n",
    "        'Ｚ': 'Z', 'ａ': 'a', 'ｂ': 'b', 'ｃ': 'c', 'ｄ': 'd',\n",
    "        'ｅ': 'e', 'ｆ': 'f', 'ｇ': 'g', 'ｈ': 'h', 'ｉ': 'i',\n",
    "        'ｊ': 'j', 'ｋ': 'k', 'ｌ': 'l', 'ｍ': 'm', 'ｎ': 'n',\n",
    "        'ｏ': 'o', 'ｐ': 'p', 'ｑ': 'q', 'ｒ': 'r', 'ｓ': 's',\n",
    "        'ｔ': 't', 'ｕ': 'u', 'ｖ': 'v', 'ｗ': 'w', 'ｘ': 'x',\n",
    "        'ｙ': 'y', 'ｚ': 'z', 'ᴄ': 'c', '−': '-', 'ー': '-',\n",
    "        'α': 'a'\n",
    "    }\n",
    "\n",
    "    # Replace full-width ASCII characters with their corresponding ASCII characters\n",
    "    for fw_char, ascii_char in full_width_ascii_mapping.items():\n",
    "        text = text.replace(fw_char, ascii_char)\n",
    "\n",
    "    # Remove other full-width spaces (U+3000) and regular spaces\n",
    "    text = text.replace('\\u3000', '').replace(' ', '').replace('-', '').lower().strip()\n",
    "\n",
    "    return text"
   ]
  },
  {
   "cell_type": "code",
   "execution_count": 41,
   "id": "c910f768-218e-4a3f-8429-19996fa72db3",
   "metadata": {
    "tags": []
   },
   "outputs": [
    {
     "data": {
      "text/html": [
       "<div>\n",
       "<style scoped>\n",
       "    .dataframe tbody tr th:only-of-type {\n",
       "        vertical-align: middle;\n",
       "    }\n",
       "\n",
       "    .dataframe tbody tr th {\n",
       "        vertical-align: top;\n",
       "    }\n",
       "\n",
       "    .dataframe thead th {\n",
       "        text-align: right;\n",
       "    }\n",
       "</style>\n",
       "<table border=\"1\" class=\"dataframe\">\n",
       "  <thead>\n",
       "    <tr style=\"text-align: right;\">\n",
       "      <th></th>\n",
       "      <th>id</th>\n",
       "      <th>year</th>\n",
       "      <th>manufacturer</th>\n",
       "      <th>condition</th>\n",
       "      <th>cylinders</th>\n",
       "      <th>fuel</th>\n",
       "      <th>odometer</th>\n",
       "      <th>title_status</th>\n",
       "      <th>transmission</th>\n",
       "      <th>drive</th>\n",
       "      <th>...</th>\n",
       "      <th>car_age</th>\n",
       "      <th>gas_fueled</th>\n",
       "      <th>diesel_fueled</th>\n",
       "      <th>hybrid_fueled</th>\n",
       "      <th>electric_fueled</th>\n",
       "      <th>front_wheel_drive</th>\n",
       "      <th>four_wheel_drive</th>\n",
       "      <th>rear_wheel_drive</th>\n",
       "      <th>automatic_transmission</th>\n",
       "      <th>manual_transmission</th>\n",
       "    </tr>\n",
       "  </thead>\n",
       "  <tbody>\n",
       "    <tr>\n",
       "      <th>0</th>\n",
       "      <td>0</td>\n",
       "      <td>1949</td>\n",
       "      <td>bmw</td>\n",
       "      <td>5.0</td>\n",
       "      <td>6.0</td>\n",
       "      <td>gas</td>\n",
       "      <td>115148</td>\n",
       "      <td>clean</td>\n",
       "      <td>manual</td>\n",
       "      <td>rwd</td>\n",
       "      <td>...</td>\n",
       "      <td>74</td>\n",
       "      <td>1</td>\n",
       "      <td>0</td>\n",
       "      <td>0</td>\n",
       "      <td>0</td>\n",
       "      <td>0</td>\n",
       "      <td>0</td>\n",
       "      <td>1</td>\n",
       "      <td>0</td>\n",
       "      <td>1</td>\n",
       "    </tr>\n",
       "    <tr>\n",
       "      <th>1</th>\n",
       "      <td>1</td>\n",
       "      <td>2013</td>\n",
       "      <td>toyota</td>\n",
       "      <td>1.0</td>\n",
       "      <td>8.0</td>\n",
       "      <td>gas</td>\n",
       "      <td>172038</td>\n",
       "      <td>clean</td>\n",
       "      <td>automatic</td>\n",
       "      <td>rwd</td>\n",
       "      <td>...</td>\n",
       "      <td>10</td>\n",
       "      <td>1</td>\n",
       "      <td>0</td>\n",
       "      <td>0</td>\n",
       "      <td>0</td>\n",
       "      <td>0</td>\n",
       "      <td>0</td>\n",
       "      <td>1</td>\n",
       "      <td>1</td>\n",
       "      <td>0</td>\n",
       "    </tr>\n",
       "    <tr>\n",
       "      <th>2</th>\n",
       "      <td>2</td>\n",
       "      <td>1998</td>\n",
       "      <td>ford</td>\n",
       "      <td>2.0</td>\n",
       "      <td>6.0</td>\n",
       "      <td>gas</td>\n",
       "      <td>152492</td>\n",
       "      <td>clean</td>\n",
       "      <td>automatic</td>\n",
       "      <td>fwd</td>\n",
       "      <td>...</td>\n",
       "      <td>25</td>\n",
       "      <td>1</td>\n",
       "      <td>0</td>\n",
       "      <td>0</td>\n",
       "      <td>0</td>\n",
       "      <td>1</td>\n",
       "      <td>0</td>\n",
       "      <td>0</td>\n",
       "      <td>1</td>\n",
       "      <td>0</td>\n",
       "    </tr>\n",
       "    <tr>\n",
       "      <th>3</th>\n",
       "      <td>3</td>\n",
       "      <td>2014</td>\n",
       "      <td>ford</td>\n",
       "      <td>5.0</td>\n",
       "      <td>4.0</td>\n",
       "      <td>gas</td>\n",
       "      <td>104118</td>\n",
       "      <td>clean</td>\n",
       "      <td>manual</td>\n",
       "      <td>fwd</td>\n",
       "      <td>...</td>\n",
       "      <td>9</td>\n",
       "      <td>1</td>\n",
       "      <td>0</td>\n",
       "      <td>0</td>\n",
       "      <td>0</td>\n",
       "      <td>1</td>\n",
       "      <td>0</td>\n",
       "      <td>0</td>\n",
       "      <td>0</td>\n",
       "      <td>1</td>\n",
       "    </tr>\n",
       "    <tr>\n",
       "      <th>4</th>\n",
       "      <td>4</td>\n",
       "      <td>2005</td>\n",
       "      <td>ford</td>\n",
       "      <td>5.0</td>\n",
       "      <td>6.0</td>\n",
       "      <td>gas</td>\n",
       "      <td>144554</td>\n",
       "      <td>clean</td>\n",
       "      <td>manual</td>\n",
       "      <td>fwd</td>\n",
       "      <td>...</td>\n",
       "      <td>18</td>\n",
       "      <td>1</td>\n",
       "      <td>0</td>\n",
       "      <td>0</td>\n",
       "      <td>0</td>\n",
       "      <td>1</td>\n",
       "      <td>0</td>\n",
       "      <td>0</td>\n",
       "      <td>0</td>\n",
       "      <td>1</td>\n",
       "    </tr>\n",
       "    <tr>\n",
       "      <th>...</th>\n",
       "      <td>...</td>\n",
       "      <td>...</td>\n",
       "      <td>...</td>\n",
       "      <td>...</td>\n",
       "      <td>...</td>\n",
       "      <td>...</td>\n",
       "      <td>...</td>\n",
       "      <td>...</td>\n",
       "      <td>...</td>\n",
       "      <td>...</td>\n",
       "      <td>...</td>\n",
       "      <td>...</td>\n",
       "      <td>...</td>\n",
       "      <td>...</td>\n",
       "      <td>...</td>\n",
       "      <td>...</td>\n",
       "      <td>...</td>\n",
       "      <td>...</td>\n",
       "      <td>...</td>\n",
       "      <td>...</td>\n",
       "      <td>...</td>\n",
       "    </tr>\n",
       "    <tr>\n",
       "      <th>27527</th>\n",
       "      <td>27527</td>\n",
       "      <td>2008</td>\n",
       "      <td>ford</td>\n",
       "      <td>2.0</td>\n",
       "      <td>6.0</td>\n",
       "      <td>gas</td>\n",
       "      <td>26660</td>\n",
       "      <td>clean</td>\n",
       "      <td>automatic</td>\n",
       "      <td>rwd</td>\n",
       "      <td>...</td>\n",
       "      <td>15</td>\n",
       "      <td>1</td>\n",
       "      <td>0</td>\n",
       "      <td>0</td>\n",
       "      <td>0</td>\n",
       "      <td>0</td>\n",
       "      <td>0</td>\n",
       "      <td>1</td>\n",
       "      <td>1</td>\n",
       "      <td>0</td>\n",
       "    </tr>\n",
       "    <tr>\n",
       "      <th>27528</th>\n",
       "      <td>27528</td>\n",
       "      <td>2007</td>\n",
       "      <td>ford</td>\n",
       "      <td>5.0</td>\n",
       "      <td>8.0</td>\n",
       "      <td>gas</td>\n",
       "      <td>108072</td>\n",
       "      <td>clean</td>\n",
       "      <td>automatic</td>\n",
       "      <td>rwd</td>\n",
       "      <td>...</td>\n",
       "      <td>16</td>\n",
       "      <td>1</td>\n",
       "      <td>0</td>\n",
       "      <td>0</td>\n",
       "      <td>0</td>\n",
       "      <td>0</td>\n",
       "      <td>0</td>\n",
       "      <td>1</td>\n",
       "      <td>1</td>\n",
       "      <td>0</td>\n",
       "    </tr>\n",
       "    <tr>\n",
       "      <th>27529</th>\n",
       "      <td>27529</td>\n",
       "      <td>2019</td>\n",
       "      <td>jeep</td>\n",
       "      <td>NaN</td>\n",
       "      <td>6.0</td>\n",
       "      <td>gas</td>\n",
       "      <td>139908</td>\n",
       "      <td>clean</td>\n",
       "      <td>automatic</td>\n",
       "      <td>4wd</td>\n",
       "      <td>...</td>\n",
       "      <td>4</td>\n",
       "      <td>1</td>\n",
       "      <td>0</td>\n",
       "      <td>0</td>\n",
       "      <td>0</td>\n",
       "      <td>0</td>\n",
       "      <td>1</td>\n",
       "      <td>0</td>\n",
       "      <td>1</td>\n",
       "      <td>0</td>\n",
       "    </tr>\n",
       "    <tr>\n",
       "      <th>27530</th>\n",
       "      <td>27530</td>\n",
       "      <td>2007</td>\n",
       "      <td>jeep</td>\n",
       "      <td>5.0</td>\n",
       "      <td>6.0</td>\n",
       "      <td>gas</td>\n",
       "      <td>112326</td>\n",
       "      <td>clean</td>\n",
       "      <td>automatic</td>\n",
       "      <td>4wd</td>\n",
       "      <td>...</td>\n",
       "      <td>16</td>\n",
       "      <td>1</td>\n",
       "      <td>0</td>\n",
       "      <td>0</td>\n",
       "      <td>0</td>\n",
       "      <td>0</td>\n",
       "      <td>1</td>\n",
       "      <td>0</td>\n",
       "      <td>1</td>\n",
       "      <td>0</td>\n",
       "    </tr>\n",
       "    <tr>\n",
       "      <th>27531</th>\n",
       "      <td>27531</td>\n",
       "      <td>2009</td>\n",
       "      <td>chevrolet</td>\n",
       "      <td>5.0</td>\n",
       "      <td>8.0</td>\n",
       "      <td>gas</td>\n",
       "      <td>91813</td>\n",
       "      <td>rebuilt</td>\n",
       "      <td>automatic</td>\n",
       "      <td>rwd</td>\n",
       "      <td>...</td>\n",
       "      <td>14</td>\n",
       "      <td>1</td>\n",
       "      <td>0</td>\n",
       "      <td>0</td>\n",
       "      <td>0</td>\n",
       "      <td>0</td>\n",
       "      <td>0</td>\n",
       "      <td>1</td>\n",
       "      <td>1</td>\n",
       "      <td>0</td>\n",
       "    </tr>\n",
       "  </tbody>\n",
       "</table>\n",
       "<p>27532 rows × 26 columns</p>\n",
       "</div>"
      ],
      "text/plain": [
       "          id  year manufacturer  condition  cylinders fuel  odometer   \n",
       "0          0  1949          bmw        5.0        6.0  gas    115148  \\\n",
       "1          1  2013       toyota        1.0        8.0  gas    172038   \n",
       "2          2  1998         ford        2.0        6.0  gas    152492   \n",
       "3          3  2014         ford        5.0        4.0  gas    104118   \n",
       "4          4  2005         ford        5.0        6.0  gas    144554   \n",
       "...      ...   ...          ...        ...        ...  ...       ...   \n",
       "27527  27527  2008         ford        2.0        6.0  gas     26660   \n",
       "27528  27528  2007         ford        5.0        8.0  gas    108072   \n",
       "27529  27529  2019         jeep        NaN        6.0  gas    139908   \n",
       "27530  27530  2007         jeep        5.0        6.0  gas    112326   \n",
       "27531  27531  2009    chevrolet        5.0        8.0  gas     91813   \n",
       "\n",
       "      title_status transmission drive  ... car_age gas_fueled diesel_fueled   \n",
       "0            clean       manual   rwd  ...      74          1             0  \\\n",
       "1            clean    automatic   rwd  ...      10          1             0   \n",
       "2            clean    automatic   fwd  ...      25          1             0   \n",
       "3            clean       manual   fwd  ...       9          1             0   \n",
       "4            clean       manual   fwd  ...      18          1             0   \n",
       "...            ...          ...   ...  ...     ...        ...           ...   \n",
       "27527        clean    automatic   rwd  ...      15          1             0   \n",
       "27528        clean    automatic   rwd  ...      16          1             0   \n",
       "27529        clean    automatic   4wd  ...       4          1             0   \n",
       "27530        clean    automatic   4wd  ...      16          1             0   \n",
       "27531      rebuilt    automatic   rwd  ...      14          1             0   \n",
       "\n",
       "       hybrid_fueled  electric_fueled  front_wheel_drive  four_wheel_drive   \n",
       "0                  0                0                  0                 0  \\\n",
       "1                  0                0                  0                 0   \n",
       "2                  0                0                  1                 0   \n",
       "3                  0                0                  1                 0   \n",
       "4                  0                0                  1                 0   \n",
       "...              ...              ...                ...               ...   \n",
       "27527              0                0                  0                 0   \n",
       "27528              0                0                  0                 0   \n",
       "27529              0                0                  0                 1   \n",
       "27530              0                0                  0                 1   \n",
       "27531              0                0                  0                 0   \n",
       "\n",
       "       rear_wheel_drive  automatic_transmission  manual_transmission  \n",
       "0                     1                       0                    1  \n",
       "1                     1                       1                    0  \n",
       "2                     0                       1                    0  \n",
       "3                     0                       0                    1  \n",
       "4                     0                       0                    1  \n",
       "...                 ...                     ...                  ...  \n",
       "27527                 1                       1                    0  \n",
       "27528                 1                       1                    0  \n",
       "27529                 0                       1                    0  \n",
       "27530                 0                       1                    0  \n",
       "27531                 1                       1                    0  \n",
       "\n",
       "[27532 rows x 26 columns]"
      ]
     },
     "execution_count": 41,
     "metadata": {},
     "output_type": "execute_result"
    }
   ],
   "source": [
    "train_prep"
   ]
  },
  {
   "cell_type": "code",
   "execution_count": 9,
   "id": "268ca406-9a09-4c63-ac14-facc92b77945",
   "metadata": {
    "tags": []
   },
   "outputs": [],
   "source": [
    "train_prep['manufacturer'] = train_prep['manufacturer'].apply(preprocess_text)\n",
    "col_to_keep = []\n",
    "for brand, values in dict(train_prep['manufacturer'].value_counts()).items():\n",
    "    if values >= 150:\n",
    "        col_to_keep.append(brand)\n",
    "train_prep['manufacturer'] = train_prep['manufacturer'].apply(lambda x: 'other' if x not in col_to_keep else x)"
   ]
  },
  {
   "cell_type": "code",
   "execution_count": 17,
   "id": "05bc5bb5-271c-41b9-a08f-31e3b8c472e4",
   "metadata": {
    "tags": []
   },
   "outputs": [],
   "source": [
    "brand_embd = generate_embeddings(train_prep, 'manufacturer', 'brand_embeddings')"
   ]
  },
  {
   "cell_type": "code",
   "execution_count": 18,
   "id": "a3974947-d100-41e6-aaa8-7771d8bcf283",
   "metadata": {
    "tags": []
   },
   "outputs": [
    {
     "data": {
      "text/html": [
       "<div>\n",
       "<style scoped>\n",
       "    .dataframe tbody tr th:only-of-type {\n",
       "        vertical-align: middle;\n",
       "    }\n",
       "\n",
       "    .dataframe tbody tr th {\n",
       "        vertical-align: top;\n",
       "    }\n",
       "\n",
       "    .dataframe thead th {\n",
       "        text-align: right;\n",
       "    }\n",
       "</style>\n",
       "<table border=\"1\" class=\"dataframe\">\n",
       "  <thead>\n",
       "    <tr style=\"text-align: right;\">\n",
       "      <th></th>\n",
       "      <th>brand_embeddings_1</th>\n",
       "      <th>brand_embeddings_2</th>\n",
       "    </tr>\n",
       "  </thead>\n",
       "  <tbody>\n",
       "    <tr>\n",
       "      <th>0</th>\n",
       "      <td>5.660540</td>\n",
       "      <td>5.660540</td>\n",
       "    </tr>\n",
       "    <tr>\n",
       "      <th>1</th>\n",
       "      <td>5.743539</td>\n",
       "      <td>5.743539</td>\n",
       "    </tr>\n",
       "    <tr>\n",
       "      <th>2</th>\n",
       "      <td>5.527442</td>\n",
       "      <td>5.527442</td>\n",
       "    </tr>\n",
       "    <tr>\n",
       "      <th>3</th>\n",
       "      <td>5.527442</td>\n",
       "      <td>5.527442</td>\n",
       "    </tr>\n",
       "    <tr>\n",
       "      <th>4</th>\n",
       "      <td>5.527442</td>\n",
       "      <td>5.527442</td>\n",
       "    </tr>\n",
       "    <tr>\n",
       "      <th>...</th>\n",
       "      <td>...</td>\n",
       "      <td>...</td>\n",
       "    </tr>\n",
       "    <tr>\n",
       "      <th>27527</th>\n",
       "      <td>5.527442</td>\n",
       "      <td>5.527442</td>\n",
       "    </tr>\n",
       "    <tr>\n",
       "      <th>27528</th>\n",
       "      <td>5.527442</td>\n",
       "      <td>5.527442</td>\n",
       "    </tr>\n",
       "    <tr>\n",
       "      <th>27529</th>\n",
       "      <td>5.888309</td>\n",
       "      <td>5.888309</td>\n",
       "    </tr>\n",
       "    <tr>\n",
       "      <th>27530</th>\n",
       "      <td>5.888309</td>\n",
       "      <td>5.888309</td>\n",
       "    </tr>\n",
       "    <tr>\n",
       "      <th>27531</th>\n",
       "      <td>5.602110</td>\n",
       "      <td>5.602110</td>\n",
       "    </tr>\n",
       "  </tbody>\n",
       "</table>\n",
       "<p>27532 rows × 2 columns</p>\n",
       "</div>"
      ],
      "text/plain": [
       "       brand_embeddings_1  brand_embeddings_2\n",
       "0                5.660540            5.660540\n",
       "1                5.743539            5.743539\n",
       "2                5.527442            5.527442\n",
       "3                5.527442            5.527442\n",
       "4                5.527442            5.527442\n",
       "...                   ...                 ...\n",
       "27527            5.527442            5.527442\n",
       "27528            5.527442            5.527442\n",
       "27529            5.888309            5.888309\n",
       "27530            5.888309            5.888309\n",
       "27531            5.602110            5.602110\n",
       "\n",
       "[27532 rows x 2 columns]"
      ]
     },
     "execution_count": 18,
     "metadata": {},
     "output_type": "execute_result"
    }
   ],
   "source": [
    "brand_embd"
   ]
  },
  {
   "cell_type": "code",
   "execution_count": 19,
   "id": "e144ad13-4bac-4965-819e-ce0845159c01",
   "metadata": {
    "tags": []
   },
   "outputs": [],
   "source": [
    "train_prep['condition'] = train_prep['condition'].apply(preprocess_text)\n",
    "condition_embd = generate_embeddings(train_prep, 'condition', 'condition_embeddings')"
   ]
  },
  {
   "cell_type": "code",
   "execution_count": 20,
   "id": "f7ce5c69-2670-4a1c-af65-1e57c2838fcc",
   "metadata": {
    "tags": []
   },
   "outputs": [],
   "source": [
    "fuel_embd = generate_embeddings(train_prep, 'fuel', 'fuel_embeddings')"
   ]
  },
  {
   "cell_type": "code",
   "execution_count": 21,
   "id": "e33cd599-a112-482c-9832-34de5b590d5c",
   "metadata": {
    "tags": []
   },
   "outputs": [],
   "source": [
    "transmission_embd = generate_embeddings(train_prep, 'transmission', 'transmission_embeddings')"
   ]
  },
  {
   "cell_type": "code",
   "execution_count": 22,
   "id": "7408d4d0-6ca7-4e6d-963f-1abd7d0f7d19",
   "metadata": {
    "tags": []
   },
   "outputs": [],
   "source": [
    "drive_embd = generate_embeddings(train_prep, 'drive', 'drive_embeddings')"
   ]
  },
  {
   "cell_type": "code",
   "execution_count": 34,
   "id": "0bef2ade-6a07-4435-aa6b-82e456024ae1",
   "metadata": {
    "tags": []
   },
   "outputs": [],
   "source": [
    "train_prep['title_status'] = train_prep['title_status'].fillna('clean')\n",
    "train_prep['title_status'] = train_prep['title_status'].apply(preprocess_text)\n",
    "title_status_embd = generate_embeddings(train_prep, 'title_status', 'title_status_embeddings')"
   ]
  },
  {
   "cell_type": "code",
   "execution_count": 24,
   "id": "ccdfd3aa-db08-4c50-96b5-0c7d7ad2d449",
   "metadata": {
    "tags": []
   },
   "outputs": [],
   "source": [
    "train_prep['size'] = train_prep['size'].apply(preprocess_text)\n",
    "size_embd = generate_embeddings(train_prep, 'size', 'size_embeddings')"
   ]
  },
  {
   "cell_type": "code",
   "execution_count": 43,
   "id": "2e41edaa-d9b7-455e-87f8-ef87ed7b9289",
   "metadata": {
    "tags": []
   },
   "outputs": [],
   "source": [
    "train_prep['type'] = train_prep['type'].fillna('other')\n",
    "train_prep['type'] = train_prep['type'].apply(preprocess_text)\n",
    "type_embd = generate_embeddings(train_prep, 'type', 'type_embeddings')"
   ]
  },
  {
   "cell_type": "code",
   "execution_count": 26,
   "id": "c3d4f1aa-f85d-446b-a512-97d4997e8404",
   "metadata": {
    "tags": []
   },
   "outputs": [],
   "source": [
    "paint_embd = generate_embeddings(train_prep, 'paint_color', 'paint_embeddings')"
   ]
  },
  {
   "cell_type": "code",
   "execution_count": 27,
   "id": "6b8243fa-7856-4b60-ada6-072286dc2d72",
   "metadata": {
    "tags": []
   },
   "outputs": [],
   "source": [
    "train_prep['cylinders'] = train_prep['cylinders'].apply(preprocess_text)\n",
    "cylinders_embd = generate_embeddings(train_prep, 'cylinders', 'cylinder_embeddings')"
   ]
  },
  {
   "cell_type": "code",
   "execution_count": 44,
   "id": "7c9869c6-c742-40e5-886c-dad23cd672dd",
   "metadata": {
    "tags": []
   },
   "outputs": [],
   "source": [
    "embeddings_df = pd.DataFrame()\n",
    "embeddings_df = pd.concat([embeddings_df,brand_embd,condition_embd,cylinders_embd,fuel_embd,title_status_embd,transmission_embd,drive_embd,size_embd,type_embd,paint_embd], axis = 1)"
   ]
  },
  {
   "cell_type": "code",
   "execution_count": 45,
   "id": "9044dcf7-e20a-4a0f-a2df-d9ff6a55d350",
   "metadata": {
    "tags": []
   },
   "outputs": [],
   "source": [
    "embeddings_df.to_csv('embeddings_df.csv', index = False)"
   ]
  },
  {
   "cell_type": "code",
   "execution_count": 35,
   "id": "c0d6c538-a7e7-44ff-8792-ed361274470d",
   "metadata": {
    "tags": []
   },
   "outputs": [],
   "source": [
    "train_prep['car_age'] = 2023 - train_prep['year']"
   ]
  },
  {
   "cell_type": "code",
   "execution_count": 36,
   "id": "074009a3-d50f-492d-9891-bf24aeb1e2c5",
   "metadata": {
    "tags": []
   },
   "outputs": [],
   "source": [
    "train_prep['cylinders'] = train_prep['cylinders'].str.extract(r'(\\d+)').astype(float).fillna(-1)"
   ]
  },
  {
   "cell_type": "code",
   "execution_count": 37,
   "id": "73fd5f67-50ad-478d-b25a-42c71c831b80",
   "metadata": {
    "tags": []
   },
   "outputs": [],
   "source": [
    "condition_mapping = {'excellent': 5, 'like new': 4, 'new': 3, 'good':2, 'fair': 1, 'salvage':0}\n",
    "train_prep['condition'] = train_prep['condition'].map(condition_mapping)"
   ]
  },
  {
   "cell_type": "code",
   "execution_count": 38,
   "id": "8471f4de-3156-4428-91df-1c8695dbf49b",
   "metadata": {
    "tags": []
   },
   "outputs": [],
   "source": [
    "train_prep['gas_fueled'] = train_prep['fuel'].apply(lambda x: 1 if x == 'gas' else 0)\n",
    "train_prep['diesel_fueled'] = train_prep['fuel'].apply(lambda x: 1 if x == 'diesel' else 0)\n",
    "train_prep['hybrid_fueled'] = train_prep['fuel'].apply(lambda x: 1 if x == 'hybrid' else 0)\n",
    "train_prep['electric_fueled'] = train_prep['fuel'].apply(lambda x: 1 if x == 'electric' else 0)"
   ]
  },
  {
   "cell_type": "code",
   "execution_count": 39,
   "id": "52ed186c-67ac-4358-8606-32ed4cd04ee6",
   "metadata": {
    "tags": []
   },
   "outputs": [],
   "source": [
    "train_prep['front_wheel_drive'] = train_prep['drive'].apply(lambda x: 1 if x == 'fwd' else 0)\n",
    "train_prep['four_wheel_drive'] = train_prep['drive'].apply(lambda x: 1 if x == '4wd' else 0)\n",
    "train_prep['rear_wheel_drive'] = train_prep['drive'].apply(lambda x: 1 if x == 'rwd' else 0)"
   ]
  },
  {
   "cell_type": "code",
   "execution_count": 40,
   "id": "61847538-5f36-4224-b3b5-4fa6a48f48c3",
   "metadata": {
    "tags": []
   },
   "outputs": [],
   "source": [
    "train_prep['automatic_transmission'] = train_prep['transmission'].apply(lambda x: 1 if x.lower() == 'automatic' else 0)\n",
    "train_prep['manual_transmission'] = train_prep['transmission'].apply(lambda x: 1 if x.lower() == 'manual' else 0)"
   ]
  },
  {
   "cell_type": "code",
   "execution_count": 56,
   "id": "9da94dd9-2497-4ae0-aff0-942140c6810d",
   "metadata": {
    "tags": []
   },
   "outputs": [
    {
     "data": {
      "text/html": [
       "<div>\n",
       "<style scoped>\n",
       "    .dataframe tbody tr th:only-of-type {\n",
       "        vertical-align: middle;\n",
       "    }\n",
       "\n",
       "    .dataframe tbody tr th {\n",
       "        vertical-align: top;\n",
       "    }\n",
       "\n",
       "    .dataframe thead th {\n",
       "        text-align: right;\n",
       "    }\n",
       "</style>\n",
       "<table border=\"1\" class=\"dataframe\">\n",
       "  <thead>\n",
       "    <tr style=\"text-align: right;\">\n",
       "      <th></th>\n",
       "      <th>size</th>\n",
       "    </tr>\n",
       "  </thead>\n",
       "  <tbody>\n",
       "    <tr>\n",
       "      <th>0</th>\n",
       "      <td>midsize</td>\n",
       "    </tr>\n",
       "    <tr>\n",
       "      <th>1</th>\n",
       "      <td>fullsize</td>\n",
       "    </tr>\n",
       "    <tr>\n",
       "      <th>2</th>\n",
       "      <td>fullsize</td>\n",
       "    </tr>\n",
       "    <tr>\n",
       "      <th>3</th>\n",
       "      <td>midsize</td>\n",
       "    </tr>\n",
       "    <tr>\n",
       "      <th>4</th>\n",
       "      <td>midsize</td>\n",
       "    </tr>\n",
       "    <tr>\n",
       "      <th>...</th>\n",
       "      <td>...</td>\n",
       "    </tr>\n",
       "    <tr>\n",
       "      <th>27527</th>\n",
       "      <td>compact</td>\n",
       "    </tr>\n",
       "    <tr>\n",
       "      <th>27528</th>\n",
       "      <td>fullsize</td>\n",
       "    </tr>\n",
       "    <tr>\n",
       "      <th>27529</th>\n",
       "      <td>midsize</td>\n",
       "    </tr>\n",
       "    <tr>\n",
       "      <th>27530</th>\n",
       "      <td>midsize</td>\n",
       "    </tr>\n",
       "    <tr>\n",
       "      <th>27531</th>\n",
       "      <td>fullsize</td>\n",
       "    </tr>\n",
       "  </tbody>\n",
       "</table>\n",
       "<p>27532 rows × 1 columns</p>\n",
       "</div>"
      ],
      "text/plain": [
       "           size\n",
       "0       midsize\n",
       "1      fullsize\n",
       "2      fullsize\n",
       "3       midsize\n",
       "4       midsize\n",
       "...         ...\n",
       "27527   compact\n",
       "27528  fullsize\n",
       "27529   midsize\n",
       "27530   midsize\n",
       "27531  fullsize\n",
       "\n",
       "[27532 rows x 1 columns]"
      ]
     },
     "execution_count": 56,
     "metadata": {},
     "output_type": "execute_result"
    }
   ],
   "source": [
    "train_prep[['size']]"
   ]
  },
  {
   "cell_type": "code",
   "execution_count": 31,
   "id": "ad0445ab-c462-457c-a66a-346ab4ae100d",
   "metadata": {
    "tags": []
   },
   "outputs": [
    {
     "data": {
      "text/plain": [
       "456"
      ]
     },
     "execution_count": 31,
     "metadata": {},
     "output_type": "execute_result"
    }
   ],
   "source": [
    "train_prep['type'].isnull().sum()"
   ]
  },
  {
   "cell_type": "code",
   "execution_count": 42,
   "id": "17c75c19-87f1-47f2-a050-c1c9c8d51143",
   "metadata": {
    "tags": []
   },
   "outputs": [
    {
     "data": {
      "text/plain": [
       "type\n",
       "sedan          9259\n",
       "SUV            7311\n",
       "truck          3837\n",
       "coupe          2255\n",
       "pickup         2118\n",
       "hatchback       665\n",
       "van             537\n",
       "convertible     418\n",
       "mini-van        229\n",
       "wagon           210\n",
       "other           139\n",
       "offroad          79\n",
       "bus              19\n",
       "Name: count, dtype: int64"
      ]
     },
     "execution_count": 42,
     "metadata": {},
     "output_type": "execute_result"
    }
   ],
   "source": [
    "train_prep['type'].value_counts()"
   ]
  },
  {
   "cell_type": "code",
   "execution_count": 59,
   "id": "bc33111d-2bf7-41be-a4ad-613664d3cd3c",
   "metadata": {
    "tags": []
   },
   "outputs": [],
   "source": [
    "paint_embd"
   ]
  },
  {
   "cell_type": "code",
   "execution_count": 58,
   "id": "6c909325-7547-4a36-906e-64353161bf8b",
   "metadata": {
    "tags": []
   },
   "outputs": [
    {
     "data": {
      "text/html": [
       "<div>\n",
       "<style scoped>\n",
       "    .dataframe tbody tr th:only-of-type {\n",
       "        vertical-align: middle;\n",
       "    }\n",
       "\n",
       "    .dataframe tbody tr th {\n",
       "        vertical-align: top;\n",
       "    }\n",
       "\n",
       "    .dataframe thead th {\n",
       "        text-align: right;\n",
       "    }\n",
       "</style>\n",
       "<table border=\"1\" class=\"dataframe\">\n",
       "  <thead>\n",
       "    <tr style=\"text-align: right;\">\n",
       "      <th></th>\n",
       "      <th>brand_embeddings_1</th>\n",
       "      <th>brand_embeddings_2</th>\n",
       "    </tr>\n",
       "  </thead>\n",
       "  <tbody>\n",
       "    <tr>\n",
       "      <th>0</th>\n",
       "      <td>5.665786</td>\n",
       "      <td>5.665786</td>\n",
       "    </tr>\n",
       "    <tr>\n",
       "      <th>1</th>\n",
       "      <td>5.723587</td>\n",
       "      <td>5.723587</td>\n",
       "    </tr>\n",
       "    <tr>\n",
       "      <th>2</th>\n",
       "      <td>5.523724</td>\n",
       "      <td>5.523724</td>\n",
       "    </tr>\n",
       "    <tr>\n",
       "      <th>3</th>\n",
       "      <td>5.523724</td>\n",
       "      <td>5.523724</td>\n",
       "    </tr>\n",
       "    <tr>\n",
       "      <th>4</th>\n",
       "      <td>5.523724</td>\n",
       "      <td>5.523724</td>\n",
       "    </tr>\n",
       "    <tr>\n",
       "      <th>...</th>\n",
       "      <td>...</td>\n",
       "      <td>...</td>\n",
       "    </tr>\n",
       "    <tr>\n",
       "      <th>27527</th>\n",
       "      <td>5.523724</td>\n",
       "      <td>5.523724</td>\n",
       "    </tr>\n",
       "    <tr>\n",
       "      <th>27528</th>\n",
       "      <td>5.523724</td>\n",
       "      <td>5.523724</td>\n",
       "    </tr>\n",
       "    <tr>\n",
       "      <th>27529</th>\n",
       "      <td>5.884892</td>\n",
       "      <td>5.884892</td>\n",
       "    </tr>\n",
       "    <tr>\n",
       "      <th>27530</th>\n",
       "      <td>5.884892</td>\n",
       "      <td>5.884892</td>\n",
       "    </tr>\n",
       "    <tr>\n",
       "      <th>27531</th>\n",
       "      <td>5.596488</td>\n",
       "      <td>5.596488</td>\n",
       "    </tr>\n",
       "  </tbody>\n",
       "</table>\n",
       "<p>27532 rows × 2 columns</p>\n",
       "</div>"
      ],
      "text/plain": [
       "       brand_embeddings_1  brand_embeddings_2\n",
       "0                5.665786            5.665786\n",
       "1                5.723587            5.723587\n",
       "2                5.523724            5.523724\n",
       "3                5.523724            5.523724\n",
       "4                5.523724            5.523724\n",
       "...                   ...                 ...\n",
       "27527            5.523724            5.523724\n",
       "27528            5.523724            5.523724\n",
       "27529            5.884892            5.884892\n",
       "27530            5.884892            5.884892\n",
       "27531            5.596488            5.596488\n",
       "\n",
       "[27532 rows x 2 columns]"
      ]
     },
     "execution_count": 58,
     "metadata": {},
     "output_type": "execute_result"
    }
   ],
   "source": [
    "embeddings_df"
   ]
  },
  {
   "cell_type": "code",
   "execution_count": null,
   "id": "2767898c-9710-4b5c-a5de-91872c3c2c63",
   "metadata": {},
   "outputs": [],
   "source": []
  }
 ],
 "metadata": {
  "kernelspec": {
   "display_name": "tf-gpu-310:Python",
   "language": "python",
   "name": "conda-env-tf-gpu-310-py"
  },
  "language_info": {
   "codemirror_mode": {
    "name": "ipython",
    "version": 3
   },
   "file_extension": ".py",
   "mimetype": "text/x-python",
   "name": "python",
   "nbconvert_exporter": "python",
   "pygments_lexer": "ipython3",
   "version": "3.10.11"
  }
 },
 "nbformat": 4,
 "nbformat_minor": 5
}
